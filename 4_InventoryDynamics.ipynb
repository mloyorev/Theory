{
  "nbformat": 4,
  "nbformat_minor": 0,
  "metadata": {
    "colab": {
      "provenance": [],
      "authorship_tag": "ABX9TyORgzl/YeGiB3KO4tv/aqvP",
      "include_colab_link": true
    },
    "kernelspec": {
      "name": "python3",
      "display_name": "Python 3"
    },
    "language_info": {
      "name": "python"
    }
  },
  "cells": [
    {
      "cell_type": "markdown",
      "metadata": {
        "id": "view-in-github",
        "colab_type": "text"
      },
      "source": [
        "<a href=\"https://colab.research.google.com/github/mloyorev/Theory/blob/main/4_InventoryDynamics.ipynb\" target=\"_parent\"><img src=\"https://colab.research.google.com/assets/colab-badge.svg\" alt=\"Open In Colab\"/></a>"
      ]
    },
    {
      "cell_type": "code",
      "execution_count": 1,
      "metadata": {
        "id": "wC_LVhBwLO5t"
      },
      "outputs": [],
      "source": [
        "import numpy as np\n",
        "import matplotlib.pyplot as plt\n",
        "from collections import namedtuple\n",
        "from numba import njit, int32"
      ]
    },
    {
      "cell_type": "markdown",
      "source": [
        "# **Solving the inventory model**"
      ],
      "metadata": {
        "id": "CTSQdJVLLPfl"
      }
    },
    {
      "cell_type": "markdown",
      "source": [
        "We solve the inventory model **using the value function iterion (VFI) algorithm**.\n"
      ],
      "metadata": {
        "id": "rE5P6HCdLVA3"
      }
    },
    {
      "cell_type": "markdown",
      "source": [
        "We define a function that returns the index of the maximum element on a list"
      ],
      "metadata": {
        "id": "Au9ZAXTZMS3l"
      }
    },
    {
      "cell_type": "code",
      "source": [
        "@njit # The function is compiled using numba's Just-In-Time compiler\n",
        "\n",
        "def argmax(list_object):\n",
        "  max_val = -np.inf    # Initialize the maximum value\n",
        "  argmax_index = None  # Initialize the index of the maximum value\n",
        "  for i, x in enumerate(list_object): # Initialize a loop for each pair (i,x) in enumerate(list_object)\n",
        "    if x > max_val:      # If an (i,x) satisfies that x > max_ val, then: - max_val = x\n",
        "      max_val = x        #                                                - arg_max = i\n",
        "      argmax_index = i\n",
        "  return argmax_index"
      ],
      "metadata": {
        "id": "_dLFJNE4Luso"
      },
      "execution_count": 5,
      "outputs": []
    },
    {
      "cell_type": "markdown",
      "source": [
        "We also use the succesive aproximation function, as defined on the previous notebook."
      ],
      "metadata": {
        "id": "YWIRe8DIMcDg"
      }
    },
    {
      "cell_type": "code",
      "source": [
        "def succesive_approx(T,                # Operator\n",
        "                     x_0,              # Initial condition\n",
        "                     tol=1e-6,         # Error tolerance\n",
        "                     max_iter=10_000,  # Maximum number of iteration\n",
        "                     print_step=25,    # Frequency with which progress messages will be printed during iterations\n",
        "                     verbose=False):   # Will not print progress messages during iterations\n",
        "\n",
        "  x = x_0           # Initialize: - Initial condition\n",
        "  error = tol + 1   #             - Error\n",
        "  k = 1             #             - Number of iterations\n",
        "\n",
        "  while error > tol and k <= max_iter:    # Initialize a bucle that keeps iterating while error > tol and k <= max_iter\n",
        "    x_new = T(x)                          # Apply transformation\n",
        "    error = np.max(np.abs(x_new - x))     # Gets the error with the supremum norm\n",
        "\n",
        "    if verbose and k % print_step == 0:                      # If verbose=True and k is a multiple of print_step, progress message is printed\n",
        "      print(f\"Completed iteration {k} with error {error}.\")\n",
        "\n",
        "    x = x_new    # Update: - Initial condition\n",
        "    k +=1        #         - Number of iterations\n",
        "\n",
        "  if error > tol:\n",
        "    print(f\"Warning: Iteration hit upper bound {max_iter}.\")\n",
        "  elif verbose:\n",
        "    print(f\"Terminanted succesufully in {k} iterations.\")\n",
        "\n",
        "  return x"
      ],
      "metadata": {
        "id": "h94KvzUyMipu"
      },
      "execution_count": 4,
      "outputs": []
    },
    {
      "cell_type": "markdown",
      "source": [
        "To store our model parameters, we use a namedtuple. Here we define the namedtuple and a function to create instances with default values."
      ],
      "metadata": {
        "id": "m18BFgVcQfpX"
      }
    },
    {
      "cell_type": "code",
      "source": [
        "Model = namedtuple('Model', ('beta',    # Discount factor\n",
        "                             'kappa',   # Maximum inventory capacity\n",
        "                             'c',       # Unit cost of stock\n",
        "                             'K',       # Fixed cost of ordering stock\n",
        "                             'p',       # Demand probability mass function parameter\n",
        "                             'phi',     # Demanda probability mass function\n",
        "                             'Gamma'))  # Feasible space for stock\n",
        "\n",
        "def create_inventory_model(r=0.02,   # Interest rate\n",
        "                           kappa=40, # Maximum inventory\n",
        "                           c=0.2,    # Cost parameter\n",
        "                           K=2,      # Cost parameter\n",
        "                           p=0.6):   # Demand parameter\n",
        "\n",
        "  # Define the discount factor\n",
        "  beta = 1 / (1+r)\n",
        "\n",
        "  # Define a geometric distribution on d = 0, 1, 2, ... with parameter p\n",
        "  @njit\n",
        "  def phi(d):\n",
        "    return (1 - p) ** d * p\n",
        "\n",
        "  # Define a feasible correspondence of space at the inventory\n",
        "  @njit\n",
        "  def Gamma(x):\n",
        "    return range(kappa - x + 1)\n",
        "\n",
        "  return Model(beta=beta, kappa=kappa, c=c, K=K, p=p, phi=phi, Gamma=Gamma)"
      ],
      "metadata": {
        "id": "DjDbWZ-SQs4M"
      },
      "execution_count": 7,
      "outputs": []
    },
    {
      "cell_type": "markdown",
      "source": [
        "The next function is the unmaximized RHS of the Bellman equation, which is:\n",
        "\n",
        "$$B(x,a,v):=r(x,a)+\\beta∑_{d}v[F(x,a,d)]\\phi(d)=\\text{profit}+\\beta\\text{continuation value}$$"
      ],
      "metadata": {
        "id": "GOAScAK3SqQC"
      }
    },
    {
      "cell_type": "code",
      "source": [
        "@njit\n",
        "def B(x, a, v, model, d_max=100):\n",
        "  beta, kappa, c, K, p, phi, Gamma = model  # Unpacked model parameters\n",
        "\n",
        "  expected_revenue   = sum([min(x,d) * phi(d) for d in range(d_max)])\n",
        "  profit             = expected_revenue - c * a - K * (a > 0)\n",
        "  continuation_value = sum([v[max(x - d, 0) + a] * phi(d) for d in range(d_max)])\n",
        "\n",
        "  return profit + beta * continuation_value\n"
      ],
      "metadata": {
        "id": "FuERaG_7TBkF"
      },
      "execution_count": 8,
      "outputs": []
    }
  ]
}