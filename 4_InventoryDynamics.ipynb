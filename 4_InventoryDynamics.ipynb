{
  "nbformat": 4,
  "nbformat_minor": 0,
  "metadata": {
    "colab": {
      "provenance": [],
      "authorship_tag": "ABX9TyNwoEJR9eRDCdmpCfTN9SFj",
      "include_colab_link": true
    },
    "kernelspec": {
      "name": "python3",
      "display_name": "Python 3"
    },
    "language_info": {
      "name": "python"
    }
  },
  "cells": [
    {
      "cell_type": "markdown",
      "metadata": {
        "id": "view-in-github",
        "colab_type": "text"
      },
      "source": [
        "<a href=\"https://colab.research.google.com/github/mloyorev/Theory/blob/main/4_InventoryDynamics.ipynb\" target=\"_parent\"><img src=\"https://colab.research.google.com/assets/colab-badge.svg\" alt=\"Open In Colab\"/></a>"
      ]
    },
    {
      "cell_type": "code",
      "execution_count": 1,
      "metadata": {
        "id": "wC_LVhBwLO5t"
      },
      "outputs": [],
      "source": [
        "import numpy as np\n",
        "import matplotlib.pyplot as plt\n",
        "from collections import namedtuple\n",
        "from numba import njit, int32"
      ]
    },
    {
      "cell_type": "markdown",
      "source": [
        "# **Solving the inventory model**"
      ],
      "metadata": {
        "id": "CTSQdJVLLPfl"
      }
    },
    {
      "cell_type": "markdown",
      "source": [
        "Given a demand $(D_{t})_{t\\geq 0}$ and inventory $(X_{t})_{t\\geq 0}$ process there's a **law of motion of invetory** described as\n",
        "\n",
        "$$X_{t+1}=F(X_{t},A_{t},D_{t+1})$$\n",
        "\n",
        "where $A_{t}$ is the stock ordered this period.\n",
        "\n",
        "Particularly, the law of motion of invetories can be described as\n",
        "\n",
        "$$F(X,A,D):=\\max\\left\\{X-D,0\\right\\}+A$$\n",
        "\n",
        "We assume that the firm can store at most $K$ items at one time, such that the **state space** is $X\\in\\left\\{0,1,...,K\\right\\}$, and that $(D_{t})$ distributes as a random variable i.i.d. with distribution $\\phi$.\n",
        "\n",
        "**Profits** are given by\n",
        "\n",
        "$$π_{t}=\\min\\left\\{X_{t},D_{t+1}\\right\\}-cA_{t}-\\kappa\\left\\{A_{t}>0\\right\\}$$\n",
        "\n",
        "wich means that we assume that:\n",
        "\n",
        "\n",
        "*   The price of each of the units of the invetory is equal to $1$.\n",
        "*   The units of inventory sold are equal to $\\min\\left\\{X_{t},D_{t+1}\\right\\}$.\n",
        "*   There's a unit product cost denoted with $c$.\n",
        "*    In case we order units of inventory, there's a fixed cost equal to $\\kappa$.\n",
        "\n",
        "Given all this assumptions, the **present value of the firm** is equal to\n",
        "\n",
        "$$V_{0}=\\mathbb{E}\\sum_{t\\geq 0}\\beta^{t}π_{t}$$\n",
        "\n",
        "Then, the **objective of the firm** is to maximize the present value of the firm.\n",
        "\n"
      ],
      "metadata": {
        "id": "g0YUi2h3D-Rb"
      }
    },
    {
      "cell_type": "markdown",
      "source": [
        "The optimal present value of the firm can derive from the **value function** given by:\n",
        "\n",
        "$$V(x_{t})=\\max_\\left\\{a_{t+s}\\in\\Gamma(x_{t+s})\\right\\} E_{t} \\sum_{s=0}^{\\infty}\\beta^{s}π(x_{t+s},a_{t+s},d_{t+1+s})$$\n",
        "\n",
        "where $a_{t+s}\\in\\Gamma(x_{t+s})$ implies that the stock orders must be feasible (that is $\\Gamma(x_{t+s})=\\left\\{0,1,...,K-x_{t+s}\\right\\}$) and $E_{t}$ is the expected value conditional to what happens in $t$.\n",
        "\n",
        "This equation can be expressed as\n",
        "\n",
        "$$V(x_{t})=\\max_\\left\\{a_{t+s}\\in\\Gamma(x_{t+s})\\right\\} \\left\\{E_{t}\\pi(x_{t},a_{t},d_{t+1})+E_{t}\\sum_{s=1}^{\\infty}\\beta^{s}π(x_{t+s},a_{t+s},d_{t+1+s})\\right\\}$$\n",
        "\n",
        "and by assuming $E_{t}\\pi(x_{t},a_{t},d_{t+1})=r(x_{t},a_{t})$, we have that\n",
        "\n",
        "$$V(x_{t})=\\max_\\left\\{a_{t+s}\\in\\Gamma(x_{t+s})\\right\\} \\left\\{r(x_{t},a_{t})+E_{t}\\sum_{s=1}^{\\infty}\\beta^{s}π(x_{t+s},a_{t+s},d_{t+1+s})\\right\\}$$\n",
        "\n",
        "where $r(x_{t},a_{t})$ is the **expected current profit**."
      ],
      "metadata": {
        "id": "f6MYqeCvFjUL"
      }
    },
    {
      "cell_type": "markdown",
      "source": [
        "We solve the inventory model **using the value function iterion (VFI) algorithm**.\n"
      ],
      "metadata": {
        "id": "rE5P6HCdLVA3"
      }
    },
    {
      "cell_type": "markdown",
      "source": [
        "We define a function that returns the index of the maximum element on a list"
      ],
      "metadata": {
        "id": "Au9ZAXTZMS3l"
      }
    },
    {
      "cell_type": "code",
      "source": [
        "@njit # The function is compiled using numba's Just-In-Time compiler\n",
        "\n",
        "def argmax(list_object):\n",
        "  max_val = -np.inf    # Initialize the maximum value\n",
        "  argmax_index = None  # Initialize the index of the maximum value\n",
        "  for i, x in enumerate(list_object): # Initialize a loop for each pair (i,x) in enumerate(list_object)\n",
        "    if x > max_val:      # If an (i,x) satisfies that x > max_ val, then: - max_val = x\n",
        "      max_val = x        #                                                - arg_max = i\n",
        "      argmax_index = i\n",
        "  return argmax_index"
      ],
      "metadata": {
        "id": "_dLFJNE4Luso"
      },
      "execution_count": 2,
      "outputs": []
    },
    {
      "cell_type": "markdown",
      "source": [
        "We also use the succesive aproximation function, as defined on the previous notebook."
      ],
      "metadata": {
        "id": "YWIRe8DIMcDg"
      }
    },
    {
      "cell_type": "code",
      "source": [
        "def succesive_approx(T,                # Operator\n",
        "                     x_0,              # Initial condition\n",
        "                     tol=1e-6,         # Error tolerance\n",
        "                     max_iter=10_000,  # Maximum number of iteration\n",
        "                     print_step=25,    # Frequency with which progress messages will be printed during iterations\n",
        "                     verbose=False):   # Will not print progress messages during iterations\n",
        "\n",
        "  x = x_0           # Initialize: - Initial condition\n",
        "  error = tol + 1   #             - Error\n",
        "  k = 1             #             - Number of iterations\n",
        "\n",
        "  while error > tol and k <= max_iter:    # Initialize a bucle that keeps iterating while error > tol and k <= max_iter\n",
        "    x_new = T(x)                          # Apply transformation\n",
        "    error = np.max(np.abs(x_new - x))     # Gets the error with the supremum norm\n",
        "\n",
        "    if verbose and k % print_step == 0:                      # If verbose=True and k is a multiple of print_step, progress message is printed\n",
        "      print(f\"Completed iteration {k} with error {error}.\")\n",
        "\n",
        "    x = x_new    # Update: - Initial condition\n",
        "    k +=1        #         - Number of iterations\n",
        "\n",
        "  if error > tol:\n",
        "    print(f\"Warning: Iteration hit upper bound {max_iter}.\")\n",
        "  elif verbose:\n",
        "    print(f\"Terminanted succesufully in {k} iterations.\")\n",
        "\n",
        "  return x"
      ],
      "metadata": {
        "id": "h94KvzUyMipu"
      },
      "execution_count": 3,
      "outputs": []
    },
    {
      "cell_type": "markdown",
      "source": [
        "To store our model parameters, we use a namedtuple. Here we define the namedtuple and a function to create instances with default values."
      ],
      "metadata": {
        "id": "m18BFgVcQfpX"
      }
    },
    {
      "cell_type": "code",
      "source": [
        "Model = namedtuple('Model', ('beta',    # Discount factor\n",
        "                             'kappa',   # Maximum inventory capacity\n",
        "                             'c',       # Unit cost of stock\n",
        "                             'K',       # Fixed cost of ordering stock\n",
        "                             'p',       # Demand probability mass function parameter\n",
        "                             'phi',     # Demanda probability mass function\n",
        "                             'Gamma'))  # Feasible space for stock\n",
        "\n",
        "def create_inventory_model(r=0.02,   # Interest rate\n",
        "                           kappa=40, # Maximum inventory\n",
        "                           c=0.2,    # Cost parameter\n",
        "                           K=2,      # Cost parameter\n",
        "                           p=0.6):   # Demand parameter\n",
        "\n",
        "  # Define the discount factor\n",
        "  beta = 1 / (1+r)\n",
        "\n",
        "  # Define a geometric distribution on d = 0, 1, 2, ... with parameter p\n",
        "  @njit\n",
        "  def phi(d):\n",
        "    return (1 - p) ** d * p\n",
        "\n",
        "  # Define a feasible correspondence of space at the inventory\n",
        "  @njit\n",
        "  def Gamma(x):\n",
        "    return range(kappa - x + 1)\n",
        "\n",
        "  return Model(beta=beta, kappa=kappa, c=c, K=K, p=p, phi=phi, Gamma=Gamma)"
      ],
      "metadata": {
        "id": "DjDbWZ-SQs4M"
      },
      "execution_count": 4,
      "outputs": []
    },
    {
      "cell_type": "markdown",
      "source": [
        "The next function is the unmaximized RHS of the Bellman equation, which is:\n",
        "\n",
        "$$B(x,a,v):=r(x,a)+\\beta∑_{d}v[F(x,a,d)]\\phi(d)=\\text{profit}+\\beta\\cdot\\text{continuation value}$$"
      ],
      "metadata": {
        "id": "GOAScAK3SqQC"
      }
    },
    {
      "cell_type": "code",
      "source": [
        "@njit\n",
        "def B(x, a, v, model, d_max=100):\n",
        "  beta, kappa, c, K, p, phi, Gamma = model  # Unpacked model parameters\n",
        "\n",
        "  expected_revenue   = sum([min(x,d) * phi(d) for d in range(d_max)])\n",
        "  profit             = expected_revenue - c * a - K * (a > 0)\n",
        "  continuation_value = sum([v[max(x - d, 0) + a] * phi(d) for d in range(d_max)])\n",
        "\n",
        "  return profit + beta * continuation_value\n"
      ],
      "metadata": {
        "id": "FuERaG_7TBkF"
      },
      "execution_count": 5,
      "outputs": []
    },
    {
      "cell_type": "markdown",
      "source": [
        "Now we introduce the Bellman operator."
      ],
      "metadata": {
        "id": "cHL2lD3i-6Xx"
      }
    },
    {
      "cell_type": "code",
      "source": [
        "@njit\n",
        "def T(v,model):\n",
        "  beta, kappa, c, K, p, phi, Gamma = model\n",
        "  new_v = np.empty_like(v)\n",
        "  for x in range(kappa + 1):\n",
        "    new_v[x] = max([B(x, a, v, model) for a in Gamma(x)])\n",
        "  return new_v"
      ],
      "metadata": {
        "id": "0daxXVL4-94F"
      },
      "execution_count": 6,
      "outputs": []
    },
    {
      "cell_type": "markdown",
      "source": [
        "Then we introduce a function that computes the $v$-greedy policy given $v$."
      ],
      "metadata": {
        "id": "3zeeEBGZ_f_-"
      }
    },
    {
      "cell_type": "code",
      "source": [
        "@njit\n",
        "def get_greedy(v,model):\n",
        "  beta, kappa, c, K, p, phi, Gamma = model\n",
        "  sigma = np.empty_like(v, dtype=int32)\n",
        "  for x in range(kappa + 1):\n",
        "    sigma[x] = argmax([B(x, a, v, model) for a in Gamma(x)])\n",
        "  return sigma"
      ],
      "metadata": {
        "id": "JCy6j8WZ_nEw"
      },
      "execution_count": 21,
      "outputs": []
    },
    {
      "cell_type": "markdown",
      "source": [
        "The function below applies VFI algorithm."
      ],
      "metadata": {
        "id": "fijqwsLkA3T3"
      }
    },
    {
      "cell_type": "code",
      "source": [
        "def vfi(v_init, model):\n",
        "  v_star = succesive_approx(lambda v: T(v,model), v_init)\n",
        "  sigma_star = get_greedy(v_star, model)\n",
        "  return v_star, sigma_star"
      ],
      "metadata": {
        "id": "WCpjHSYPAfgg"
      },
      "execution_count": 22,
      "outputs": []
    },
    {
      "cell_type": "markdown",
      "source": [
        "Now, let's test this functions."
      ],
      "metadata": {
        "id": "ylEknkiUA6hL"
      }
    },
    {
      "cell_type": "code",
      "source": [
        "model = create_inventory_model()\n",
        "beta, kappa, c, K, p, phi, Gamma = model\n",
        "v_init = np.zeros(kappa + 1)"
      ],
      "metadata": {
        "id": "GRbELev9AFKg"
      },
      "execution_count": 23,
      "outputs": []
    },
    {
      "cell_type": "code",
      "source": [
        "v_star, sigma_star = vfi(v_init, model)"
      ],
      "metadata": {
        "id": "xBDrts0FAV60"
      },
      "execution_count": 24,
      "outputs": []
    },
    {
      "cell_type": "code",
      "source": [
        "fig, axes = plt.subplots(2, 1, figsize=(8, 6.5))\n",
        "fontsize=16\n",
        "\n",
        "ax = axes[0]\n",
        "ax.plot(range(kappa + 1), v_star, label=\"$v^*$\")\n",
        "ax.set_ylabel(\"value\", fontsize=fontsize)\n",
        "ax.legend(fontsize=fontsize, frameon=False)\n",
        "\n",
        "ax = axes[1]\n",
        "ax.plot(range(kappa + 1), sigma_star, label=\"$\\\\sigma^*$\")\n",
        "ax.set_xlabel(\"inventory\", fontsize=fontsize)\n",
        "ax.set_ylabel(\"optimal choice\", fontsize=fontsize)\n",
        "ax.legend(fontsize=fontsize, frameon=False)\n",
        "plt.show()"
      ],
      "metadata": {
        "id": "y14fvrNiBM1U",
        "outputId": "5f7bcdeb-e5b7-4fdb-ee61-f503186a4dd1",
        "colab": {
          "base_uri": "https://localhost:8080/",
          "height": 586
        }
      },
      "execution_count": 25,
      "outputs": [
        {
          "output_type": "display_data",
          "data": {
            "text/plain": [
              "<Figure size 800x650 with 2 Axes>"
            ],
            "image/png": "[encoded data removed]"
          },
          "metadata": {}
        }
      ]
    }
  ]
}