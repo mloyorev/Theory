{
  "nbformat": 4,
  "nbformat_minor": 0,
  "metadata": {
    "colab": {
      "provenance": [],
      "gpuType": "T4",
      "authorship_tag": "ABX9TyONmJrGDe6VcV7qaXdduAYx",
      "include_colab_link": true
    },
    "kernelspec": {
      "name": "python3",
      "display_name": "Python 3"
    },
    "language_info": {
      "name": "python"
    },
    "accelerator": "GPU"
  },
  "cells": [
    {
      "cell_type": "markdown",
      "metadata": {
        "id": "view-in-github",
        "colab_type": "text"
      },
      "source": [
        "<a href=\"https://colab.research.google.com/github/mloyorev/Theory/blob/main/Newtons_Method.ipynb\" target=\"_parent\"><img src=\"https://colab.research.google.com/assets/colab-badge.svg\" alt=\"Open In Colab\"/></a>"
      ]
    },
    {
      "cell_type": "markdown",
      "source": [
        "# **Newton's Method via JAX**"
      ],
      "metadata": {
        "id": "wOMaYElzJKMX"
      }
    },
    {
      "cell_type": "markdown",
      "source": [
        "We use the following imports:\n",
        "\n"
      ],
      "metadata": {
        "id": "JqardoC_SOiz"
      }
    },
    {
      "cell_type": "code",
      "execution_count": 2,
      "metadata": {
        "id": "1AelbE6rJJVg"
      },
      "outputs": [],
      "source": [
        "import jax\n",
        "import jax.numpy as jnp\n",
        "from scipy.optimize import root\n",
        "import matplotlib.pyplot as plt"
      ]
    },
    {
      "cell_type": "markdown",
      "source": [
        "We are running the following GPU:"
      ],
      "metadata": {
        "id": "kvQVbUEZSaew"
      }
    },
    {
      "cell_type": "code",
      "source": [
        "!nvidia-smi"
      ],
      "metadata": {
        "colab": {
          "base_uri": "https://localhost:8080/"
        },
        "id": "RYf3lB79J_W4",
        "outputId": "2f16629b-520a-4313-f156-8bb49db38405"
      },
      "execution_count": 3,
      "outputs": [
        {
          "output_type": "stream",
          "name": "stdout",
          "text": [
            "Sun Dec 24 17:28:09 2023       \n",
            "+---------------------------------------------------------------------------------------+\n",
            "| NVIDIA-SMI 535.104.05             Driver Version: 535.104.05   CUDA Version: 12.2     |\n",
            "|-----------------------------------------+----------------------+----------------------+\n",
            "| GPU  Name                 Persistence-M | Bus-Id        Disp.A | Volatile Uncorr. ECC |\n",
            "| Fan  Temp   Perf          Pwr:Usage/Cap |         Memory-Usage | GPU-Util  Compute M. |\n",
            "|                                         |                      |               MIG M. |\n",
            "|=========================================+======================+======================|\n",
            "|   0  Tesla T4                       Off | 00000000:00:04.0 Off |                    0 |\n",
            "| N/A   36C    P8               9W /  70W |      0MiB / 15360MiB |      0%      Default |\n",
            "|                                         |                      |                  N/A |\n",
            "+-----------------------------------------+----------------------+----------------------+\n",
            "                                                                                         \n",
            "+---------------------------------------------------------------------------------------+\n",
            "| Processes:                                                                            |\n",
            "|  GPU   GI   CI        PID   Type   Process name                            GPU Memory |\n",
            "|        ID   ID                                                             Usage      |\n",
            "|=======================================================================================|\n",
            "|  No running processes found                                                           |\n",
            "+---------------------------------------------------------------------------------------+\n"
          ]
        }
      ]
    },
    {
      "cell_type": "markdown",
      "source": [
        "## **Newton method in one dimension**"
      ],
      "metadata": {
        "id": "VPitIL-VSUUx"
      }
    },
    {
      "cell_type": "markdown",
      "source": [
        "Let $f:\\mathbb{R}→\\mathbb{R}$ be a function.\n",
        "\n",
        "A root of $f$ is an $x^{*}\\mathbb{R}$ such that $f(x^{*})=0$.\n",
        "\n",
        "Newton's method for solving for the root of $f$ involves iterating with the map $q$ defined by:\n",
        "\n",
        "$$q(x)=x-\\frac{f(x)}{f'(x)}$$\n",
        "\n",
        "Here is a function called newton that takes a function $f$, iterates from $x_0$ and returns an approximation of a fixed point $x^{*}$."
      ],
      "metadata": {
        "id": "zBthIXRVSp5Y"
      }
    },
    {
      "cell_type": "code",
      "source": [
        "def newton(f,         # Function f: R -> R\n",
        "           x_0,       # Initial condition\n",
        "           tol=1e-5): # Stopping criterion\n",
        "\n",
        "  f_prime = jax.grad(f)           # Automatic differention in order to find f'\n",
        "  def q(x):                       # Define q for Newton's method\n",
        "    return x - f(x) / f_prime(x)\n",
        "\n",
        "  error = tol + 1                 # Initialize: - Error\n",
        "  x = x_0                         #             - Initial condition\n",
        "\n",
        "  while error > tol:              # Iterative process\n",
        "    y = q(x)\n",
        "    error = abs(x - y)\n",
        "    x = y\n",
        "\n",
        "  return x"
      ],
      "metadata": {
        "id": "9LnA12B7KSI3"
      },
      "execution_count": 4,
      "outputs": []
    },
    {
      "cell_type": "markdown",
      "source": [
        "Let's test the Newton's algorithm with a function $f$ defined by\n",
        "\n",
        "$$f(x)=\\sin\\left(4\\cdot\\left(x-\\frac{1}{4}\\right)\\right)+x+x^{20}-1$$"
      ],
      "metadata": {
        "id": "SkcGGCSlVJMD"
      }
    },
    {
      "cell_type": "code",
      "source": [
        "f = lambda x: jnp.sin(4 * (x - 1/4)) + x + x ** 20 - 1 # Define f\n",
        "                                                       # 'lambda x:' is useful for briefly declaring functions\n",
        "x = jnp.linspace(0,1,100)                              # Define the subset of R for the iterative procedure"
      ],
      "metadata": {
        "id": "UCpep190K8Nk"
      },
      "execution_count": 5,
      "outputs": []
    },
    {
      "cell_type": "code",
      "source": [
        "fig, ax = plt.subplots()             # Creates the figure and axes of the graph\n",
        "ax.plot(x,f(x),label='$f(x)$')       # Plot the function and assign a label to it\n",
        "ax.axhline(ls='--',c='k')            # Plot the function f(x)=0 with dashed and black style\n",
        "ax.set_xlabel('$x$',fontsize=12)     # Set axes labels\n",
        "ax.set_ylabel('$f(x)$',fontsize=12)\n",
        "ax.legend(fontsize=12)               # Set the fotnsize of the legend\n",
        "plt.show()                           # Display the graph"
      ],
      "metadata": {
        "colab": {
          "base_uri": "https://localhost:8080/",
          "height": 453
        },
        "id": "HYhiIFDQLZl9",
        "outputId": "c03cf305-b0c0-4802-97d3-f079b55c4053"
      },
      "execution_count": 6,
      "outputs": [
        {
          "output_type": "display_data",
          "data": {
            "text/plain": [
              "<Figure size 640x480 with 1 Axes>"
            ],
            "image/png": "[encoded data removed]"
          },
          "metadata": {}
        }
      ]
    },
    {
      "cell_type": "code",
      "source": [
        "newton(f,0.2)"
      ],
      "metadata": {
        "colab": {
          "base_uri": "https://localhost:8080/"
        },
        "id": "b2nQvOTgLlHG",
        "outputId": "da9f23f2-c88d-4090-e324-ccc058d1ee2c"
      },
      "execution_count": 7,
      "outputs": [
        {
          "output_type": "execute_result",
          "data": {
            "text/plain": [
              "Array(0.4082935, dtype=float32, weak_type=True)"
            ]
          },
          "metadata": {},
          "execution_count": 7
        }
      ]
    },
    {
      "cell_type": "markdown",
      "source": [
        "Additionally, we can generate a function that finds the roots for any function and initial point in the domain."
      ],
      "metadata": {
        "id": "aFcPfngHZCoj"
      }
    },
    {
      "cell_type": "code",
      "source": [
        "def newton_graph(f,x_0,dev):\n",
        "  p = newton(f,x_0) # Apply Newton's method to find the roots\n",
        "\n",
        "  xmin = (1-dev)*p  # Generates the space on which the iterative process is generated\n",
        "  xmax = (1+dev)*p\n",
        "  x = jnp.linspace(xmin,xmax,100)\n",
        "\n",
        "  fig, ax = plt.subplots()                          # Create the graph\n",
        "  ax.plot(x,f(x),label='$f(x)$',color='steelblue')\n",
        "  ax.axhline(ls='--',c='k')\n",
        "  ax.set_xlabel('$x$',fontsize=12)\n",
        "  ax.set_ylabel('$f(x)$',fontsize=12)\n",
        "  ax.legend(fontsize=12)\n",
        "\n",
        "  ax.plot(p, 0, \"go\", ms=6, alpha=0.75)             # Graph a point that indicates the Newton's fixed point\n",
        "  ax.annotate(r\"$x^{*}$=\"+str(round(p,4)),xy=(p,0),xycoords=\"data\",xytext=(10,-20),textcoords=\"offset points\",fontsize=12)\n",
        "\n",
        "  plt.show()\n"
      ],
      "metadata": {
        "id": "xfTo5ZylL2uO"
      },
      "execution_count": 8,
      "outputs": []
    },
    {
      "cell_type": "code",
      "source": [
        "newton_graph(f,0.2,0.75)"
      ],
      "metadata": {
        "colab": {
          "base_uri": "https://localhost:8080/",
          "height": 453
        },
        "id": "M459L2TbNKuY",
        "outputId": "51ee8bbf-8d14-4484-d469-2b9427f8805f"
      },
      "execution_count": 9,
      "outputs": [
        {
          "output_type": "display_data",
          "data": {
            "text/plain": [
              "<Figure size 640x480 with 1 Axes>"
            ],
            "image/png": "[encoded data removed]"
          },
          "metadata": {}
        }
      ]
    },
    {
      "cell_type": "markdown",
      "source": [
        "We test this function with\n",
        "\n",
        "$$g(x)=\\log(x)+x^2$$"
      ],
      "metadata": {
        "id": "-5dIbKINZxIA"
      }
    },
    {
      "cell_type": "code",
      "source": [
        "g = lambda x: jnp.log(x) + x**2\n",
        "newton_graph(g,0.2,1.5)"
      ],
      "metadata": {
        "colab": {
          "base_uri": "https://localhost:8080/",
          "height": 453
        },
        "id": "bBTaE08cQ80d",
        "outputId": "79325ead-24b9-445f-b631-de93d80235fd"
      },
      "execution_count": 10,
      "outputs": [
        {
          "output_type": "display_data",
          "data": {
            "text/plain": [
              "<Figure size 640x480 with 1 Axes>"
            ],
            "image/png": "[encoded data removed]"
          },
          "metadata": {}
        }
      ]
    },
    {
      "cell_type": "markdown",
      "source": [
        "## **Newton's method in more than one dimension**"
      ],
      "metadata": {
        "id": "bGDwlvBdafkE"
      }
    },
    {
      "cell_type": "markdown",
      "source": [
        "Let's move up to higher dimensions.\n",
        "\n",
        "We describe a **market equilibrium problem**. The market is is for any $n$ goods.\n",
        "\n",
        "The **supply function** for the $i$-th good is\n",
        "\n",
        "$$q_{i}^{s}(p)=b_{i}\\sqrt{p_{i}}$$\n",
        "\n",
        "which we write in vector form as\n",
        "\n",
        "$$q^{s}(p)=b\\sqrt{p}$$\n",
        "\n",
        "where $\\sqrt{p}$ is que square root of each $p_{i}$ and $b\\sqrt{p}$ is the vector formed by taking the pointwise product $b_{i}\\sqrt{p_{i}}$ at each $i$."
      ],
      "metadata": {
        "id": "1z7aMOjacxPe"
      }
    },
    {
      "cell_type": "markdown",
      "source": [
        "The **demand function** in vector form is\n",
        "\n",
        "$$q^{d}=\\exp(-Ap)+c$$\n",
        "\n",
        "where $A$ is an $n\\times n$ matrix, $c$ is an $n\\times 1$ vector and $\\exp$ acts element-by-element on the vector $-Ap$."
      ],
      "metadata": {
        "id": "FMJkEpzCfNoZ"
      }
    },
    {
      "cell_type": "markdown",
      "source": [
        "The **excess demandad function** is\n",
        "\n",
        "$$e(p)=\\exp(-Ap)+c-b\\sqrt{p}$$\n",
        "\n",
        "An **equilibrium price vector** is an $n$-vector $p^{*}$ such that $e(P^{*})=0$"
      ],
      "metadata": {
        "id": "9htDtxISfyCm"
      }
    },
    {
      "cell_type": "markdown",
      "source": [
        "We use a **multivariate version of Newton's method** to compute the equilibrium price.\n",
        "\n",
        "The rule for updating a guess $p_{n}$ of the equilibrium price is\n",
        "\n",
        "$$p_{n+1}=p_{n}-J_{e}(p_{n})^{-1}e(p_{n})$$\n",
        "\n",
        "where J_{e}(p_{n}) is the **jacobian** of $e$ evaluated at $p_{n}$.\n",
        "\n",
        "Iterations starts from initial guess $p_0$."
      ],
      "metadata": {
        "id": "8GzrN0Mygb48"
      }
    },
    {
      "cell_type": "code",
      "source": [
        "def newton_n(f,             # Function f:Rn->R\n",
        "             x_0,           # Initial condition\n",
        "             tol=1e-5,      # Stopping criterion\n",
        "             max_iter=15):  # Maximum number of iterations allowed\n",
        "\n",
        "  x = x_0\n",
        "  f_jac = jax.jacobian(f) # Jacobian matrix of f with automatic differentiation\n",
        "\n",
        "  @jax.jit   # Set up Just-In-Time compilation\n",
        "  def q(x):  # Newton's method algorithm\n",
        "    return x - jnp.linalg.solve(f_jac(x),f(x))\n",
        "\n",
        "  error = tol + 1  # Initialize: - error\n",
        "  n = 0            #             - Number of iterations\n",
        "\n",
        "  while error > tol:\n",
        "    n += 1\n",
        "    if(n > max_iter):\n",
        "      raise Exception('Max iteration reached without convergence')\n",
        "    y = q(x)\n",
        "    error = jnp.linalg.norm(x - y)\n",
        "    x = y\n",
        "    print(f'iteration {n}, error = {error}')\n",
        "  return x"
      ],
      "metadata": {
        "id": "fI-SLfXEa0eQ"
      },
      "execution_count": 11,
      "outputs": []
    },
    {
      "cell_type": "code",
      "source": [
        "# Excess demand function\n",
        "def e(p,A,b,c):\n",
        "  return jnp.exp(- A @ p) + c - b * jnp.sqrt(p)"
      ],
      "metadata": {
        "id": "yEV9o7vtaoJg"
      },
      "execution_count": 12,
      "outputs": []
    },
    {
      "cell_type": "code",
      "source": [
        "jnp.ones(4)"
      ],
      "metadata": {
        "colab": {
          "base_uri": "https://localhost:8080/"
        },
        "id": "tw4fFADWr8dJ",
        "outputId": "2537a31d-9722-40c5-8f66-d40b07e66369"
      },
      "execution_count": 13,
      "outputs": [
        {
          "output_type": "execute_result",
          "data": {
            "text/plain": [
              "Array([1., 1., 1., 1.], dtype=float32)"
            ]
          },
          "metadata": {},
          "execution_count": 13
        }
      ]
    },
    {
      "cell_type": "code",
      "source": [
        "dim = 5_000 # Dimension of matrix A\n",
        "seed = 32\n",
        "\n",
        "key = jax.random.PRNGKey(seed)         # Pseudorandom number generation key\n",
        "A = jax.random.uniform(key, [dim,dim]) # Generates random numbers uniformly distributed in the range [0, 1)\n",
        "s = jnp.sum(A, axis=0)                 # The sum of the columns of matrix A is calculated\n",
        "A = A / s                              # Normalizes the matrix so that the sum of each column is equal to 1\n",
        "\n",
        "b = jnp.ones(dim)  # Vector of ones of dimension 1 x dim\n",
        "c = jnp.ones(dim)  # Vector of ones of dimension 1 x dim"
      ],
      "metadata": {
        "id": "SQDNWJxqb6Xr"
      },
      "execution_count": 14,
      "outputs": []
    },
    {
      "cell_type": "code",
      "source": [
        "init_p = jnp.ones(dim)  # Set up an initial condition p_0"
      ],
      "metadata": {
        "id": "Ie5cKtfgcb3F"
      },
      "execution_count": 15,
      "outputs": []
    },
    {
      "cell_type": "code",
      "source": [
        "p = newton_n(lambda p: e(p,A,b,c), init_p).block_until_ready()"
      ],
      "metadata": {
        "colab": {
          "base_uri": "https://localhost:8080/"
        },
        "id": "ALJuwEgEclel",
        "outputId": "efa55633-7604-499e-cbb7-eb007e05af34"
      },
      "execution_count": 16,
      "outputs": [
        {
          "output_type": "stream",
          "name": "stdout",
          "text": [
            "iteration 1, error = 29.97745704650879\n",
            "iteration 2, error = 5.092828750610352\n",
            "iteration 3, error = 0.10971649736166\n",
            "iteration 4, error = 5.167898052604869e-05\n",
            "iteration 5, error = 1.1565144632186275e-05\n",
            "iteration 6, error = 3.739449311979115e-06\n"
          ]
        }
      ]
    },
    {
      "cell_type": "code",
      "source": [
        "# The error is supposed to be 0\n",
        "error = jnp.max(jnp.abs(e(p,A,b,c)))\n",
        "print('The Newton methos error is:',error)"
      ],
      "metadata": {
        "colab": {
          "base_uri": "https://localhost:8080/"
        },
        "id": "6sRYjCkYcI1j",
        "outputId": "0d272a84-bb0b-41eb-915d-af3dfe06883d"
      },
      "execution_count": 17,
      "outputs": [
        {
          "output_type": "stream",
          "name": "stdout",
          "text": [
            "The Newton methos error is: 1.1920929e-07\n"
          ]
        }
      ]
    },
    {
      "cell_type": "markdown",
      "source": [
        "## **Solow fixed point problem**"
      ],
      "metadata": {
        "id": "KGIybtPMssJW"
      }
    },
    {
      "cell_type": "markdown",
      "source": [
        "Consider a **Solow fixed point problem** with the folloowing information"
      ],
      "metadata": {
        "id": "yzpasNXis3a3"
      }
    },
    {
      "cell_type": "code",
      "source": [
        "A = jnp.array([[2,3,3],[2,4,2],[1,5,1]]) # TFP\n",
        "s = 0.2                                  # Rate of savings\n",
        "alpha = 0.5                              # Elasticity of production w.r.t. capital stock\n",
        "delta = 0.8                              # Rate of depreciation"
      ],
      "metadata": {
        "id": "EjFvue8wtEJN"
      },
      "execution_count": 47,
      "outputs": []
    },
    {
      "cell_type": "markdown",
      "source": [
        "Firt of all, we define the law of motion for capital stock\n",
        "\n",
        "$$k^{'}=sAk^{\\alpha}+(1-\\delta)k$$"
      ],
      "metadata": {
        "id": "Rzj68DsG-_f8"
      }
    },
    {
      "cell_type": "code",
      "source": [
        "def law_motion(k, A=A, s=s, alpha=alpha, delta=delta):\n",
        "  return s * jnp.dot(A, k ** alpha) + (1 - delta) * k"
      ],
      "metadata": {
        "id": "MrvHRfFZtyVK"
      },
      "execution_count": 50,
      "outputs": []
    },
    {
      "cell_type": "markdown",
      "source": [
        "Then we define a particular function that returns the steady state capital stock by applying the Newton's method"
      ],
      "metadata": {
        "id": "Y0-xj0N0_k1C"
      }
    },
    {
      "cell_type": "code",
      "source": [
        "def newton_solow(k_0,           # Initial condition\n",
        "                 tol=1e-6,      # Stopping criterion\n",
        "                 max_iter=20):  # Maximum number of iterations allowed\n",
        "\n",
        "  k = k_0\n",
        "  g = lambda k: law_motion(k) - k     # For finding the SS capital stock g(kss) = 0\n",
        "  g_jac = jax.jacobian(g)             # Jacobian matrix of g with automatic differentiation\n",
        "\n",
        "  @jax.jit   # Set up Just-In-Time compilation\n",
        "  def q(x):  # Newton's method algorithm\n",
        "    return x - jnp.linalg.solve(g_jac(x),g(x))\n",
        "\n",
        "  error = tol + 1  # Initialize: - error\n",
        "  n = 0            #             - Number of iterations\n",
        "\n",
        "  while error > tol:\n",
        "    n += 1\n",
        "    if(n > max_iter):\n",
        "      raise Exception('Max iteration reached without convergence')\n",
        "    y = q(k)\n",
        "    error = jnp.linalg.norm(k - y)\n",
        "    k = y\n",
        "    print(f'iteration {n}, error = {error}')\n",
        "  return k"
      ],
      "metadata": {
        "id": "q70GDVak8-fB"
      },
      "execution_count": 73,
      "outputs": []
    },
    {
      "cell_type": "code",
      "source": [
        "k1_ss = newton_solow(jnp.array([1.0,1.0,1.0]))\n",
        "error1 = law_motion(k1_ss) - k1_ss\n",
        "print('The vector of errors for k1_0 is:', error1)"
      ],
      "metadata": {
        "colab": {
          "base_uri": "https://localhost:8080/"
        },
        "id": "8jaLtsFW9gxp",
        "outputId": "ec4b5c1a-7bc5-4517-cfa3-d42b73f31128"
      },
      "execution_count": 74,
      "outputs": [
        {
          "output_type": "stream",
          "name": "stdout",
          "text": [
            "iteration 1, error = 50.496315002441406\n",
            "iteration 2, error = 41.1093864440918\n",
            "iteration 3, error = 4.294127464294434\n",
            "iteration 4, error = 0.3854290544986725\n",
            "iteration 5, error = 0.0054382034577429295\n",
            "iteration 6, error = 8.92080606718082e-07\n",
            "The vector of errors for k1_0 is: [-4.7683716e-07  2.3841858e-07  2.3841858e-07]\n"
          ]
        }
      ]
    },
    {
      "cell_type": "code",
      "source": [
        "k2_ss = newton_solow(jnp.array([3.0,5.0,5.0]))\n",
        "error2 = law_motion(k2_ss) - k2_ss\n",
        "print('The vector of errors for k2_0 is:', error2)"
      ],
      "metadata": {
        "colab": {
          "base_uri": "https://localhost:8080/"
        },
        "id": "7wlMAtDG-gYL",
        "outputId": "4ec4626d-0223-4ffb-9fc0-f564811fc87e"
      },
      "execution_count": 75,
      "outputs": [
        {
          "output_type": "stream",
          "name": "stdout",
          "text": [
            "iteration 1, error = 2.0701100826263428\n",
            "iteration 2, error = 0.12642373144626617\n",
            "iteration 3, error = 0.0006017307168804109\n",
            "iteration 4, error = 3.3717478231665154e-07\n",
            "The vector of errors for k2_0 is: [0. 0. 0.]\n"
          ]
        }
      ]
    },
    {
      "cell_type": "code",
      "source": [
        "k3_ss = newton_solow(jnp.array([50.0,50.0,50.0]))\n",
        "error3 = law_motion(k3_ss) - k3_ss\n",
        "print('The vector of errors for k3_0 is:', error3)"
      ],
      "metadata": {
        "colab": {
          "base_uri": "https://localhost:8080/"
        },
        "id": "iOtqR131-p2T",
        "outputId": "122a56bd-2047-4ff0-8e05-fb997957ec7e"
      },
      "execution_count": 76,
      "outputs": [
        {
          "output_type": "stream",
          "name": "stdout",
          "text": [
            "iteration 1, error = 73.00942993164062\n",
            "iteration 2, error = 6.493789196014404\n",
            "iteration 3, error = 0.6806989312171936\n",
            "iteration 4, error = 0.016202213242650032\n",
            "iteration 5, error = 1.0600916539260652e-05\n",
            "iteration 6, error = 9.830249609876773e-07\n",
            "The vector of errors for k3_0 is: [ 4.7683716e-07  0.0000000e+00 -2.3841858e-07]\n"
          ]
        }
      ]
    }
  ]
}