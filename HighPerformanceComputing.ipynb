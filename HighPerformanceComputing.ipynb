{
  "nbformat": 4,
  "nbformat_minor": 0,
  "metadata": {
    "colab": {
      "provenance": [],
      "authorship_tag": "ABX9TyOhIxUqRuTH2gNA6qQzUE0Q",
      "include_colab_link": true
    },
    "kernelspec": {
      "name": "python3",
      "display_name": "Python 3"
    },
    "language_info": {
      "name": "python"
    }
  },
  "cells": [
    {
      "cell_type": "markdown",
      "metadata": {
        "id": "view-in-github",
        "colab_type": "text"
      },
      "source": [
        "<a href=\"https://colab.research.google.com/github/mloyorev/Theory/blob/main/HighPerformanceComputing.ipynb\" target=\"_parent\"><img src=\"https://colab.research.google.com/assets/colab-badge.svg\" alt=\"Open In Colab\"/></a>"
      ]
    },
    {
      "cell_type": "markdown",
      "source": [
        "We will ***need the following imports***..."
      ],
      "metadata": {
        "id": "fCZVuXoHl8wH"
      }
    },
    {
      "cell_type": "code",
      "execution_count": 1,
      "metadata": {
        "colab": {
          "base_uri": "https://localhost:8080/"
        },
        "id": "18_4tHbnlkim",
        "outputId": "0d46e6f2-e4cf-464d-9bb8-b6c50a87d016"
      },
      "outputs": [
        {
          "output_type": "stream",
          "name": "stdout",
          "text": [
            "Collecting quantecon\n",
            "  Downloading quantecon-0.7.1-py3-none-any.whl (214 kB)\n",
            "\u001b[?25l     \u001b[90m━━━━━━━━━━━━━━━━━━━━━━━━━━━━━━━━━━━━━━━━\u001b[0m \u001b[32m0.0/214.8 kB\u001b[0m \u001b[31m?\u001b[0m eta \u001b[36m-:--:--\u001b[0m\r\u001b[2K     \u001b[91m━━━━━━━━━━━━━━━━━━━━━━━━━━\u001b[0m\u001b[91m╸\u001b[0m\u001b[90m━━━━━━━━━━━━━\u001b[0m \u001b[32m143.4/214.8 kB\u001b[0m \u001b[31m4.1 MB/s\u001b[0m eta \u001b[36m0:00:01\u001b[0m\r\u001b[2K     \u001b[90m━━━━━━━━━━━━━━━━━━━━━━━━━━━━━━━━━━━━━━━━\u001b[0m \u001b[32m214.8/214.8 kB\u001b[0m \u001b[31m4.7 MB/s\u001b[0m eta \u001b[36m0:00:00\u001b[0m\n",
            "\u001b[?25hRequirement already satisfied: numba>=0.49.0 in /usr/local/lib/python3.10/dist-packages (from quantecon) (0.58.1)\n",
            "Requirement already satisfied: numpy>=1.17.0 in /usr/local/lib/python3.10/dist-packages (from quantecon) (1.23.5)\n",
            "Requirement already satisfied: requests in /usr/local/lib/python3.10/dist-packages (from quantecon) (2.31.0)\n",
            "Requirement already satisfied: scipy>=1.5.0 in /usr/local/lib/python3.10/dist-packages (from quantecon) (1.11.3)\n",
            "Requirement already satisfied: sympy in /usr/local/lib/python3.10/dist-packages (from quantecon) (1.12)\n",
            "Requirement already satisfied: llvmlite<0.42,>=0.41.0dev0 in /usr/local/lib/python3.10/dist-packages (from numba>=0.49.0->quantecon) (0.41.1)\n",
            "Requirement already satisfied: charset-normalizer<4,>=2 in /usr/local/lib/python3.10/dist-packages (from requests->quantecon) (3.3.2)\n",
            "Requirement already satisfied: idna<4,>=2.5 in /usr/local/lib/python3.10/dist-packages (from requests->quantecon) (3.4)\n",
            "Requirement already satisfied: urllib3<3,>=1.21.1 in /usr/local/lib/python3.10/dist-packages (from requests->quantecon) (2.0.7)\n",
            "Requirement already satisfied: certifi>=2017.4.17 in /usr/local/lib/python3.10/dist-packages (from requests->quantecon) (2023.7.22)\n",
            "Requirement already satisfied: mpmath>=0.19 in /usr/local/lib/python3.10/dist-packages (from sympy->quantecon) (1.3.0)\n",
            "Installing collected packages: quantecon\n",
            "Successfully installed quantecon-0.7.1\n"
          ]
        }
      ],
      "source": [
        "!pip install quantecon"
      ]
    },
    {
      "cell_type": "code",
      "source": [
        "%matplotlib inline\n",
        "import numpy as np\n",
        "import quantecon as qe\n",
        "import matplotlib.pyplot as plt\n",
        "plt.rcParams['figure.figsize'] = (10,6)"
      ],
      "metadata": {
        "id": "DHq6V-LFl3Qs"
      },
      "execution_count": 2,
      "outputs": []
    },
    {
      "cell_type": "markdown",
      "source": [
        "# ***1. Numba***"
      ],
      "metadata": {
        "id": "BwkaZzyLlrrh"
      }
    },
    {
      "cell_type": "markdown",
      "source": [
        "***Numba*** is a python library that ***solves*** many of the ***problems of algorithm performance*** through something called ***JIT (Just In Time) compilation***.\n",
        "\n",
        "The key idea of JIT compilation is to compile functions to native machine code instructions on the fly.\n",
        "\n",
        "By ***compiling*** we mean the process of ***translating*** source code written in the Python programming language ***into lower-level code*** that the computer can understand and execute directly.\n",
        "\n",
        "In general terms, Numba library is specifically designed for numerical work.\n",
        "\n"
      ],
      "metadata": {
        "id": "3BzEHiszlqWL"
      }
    },
    {
      "cell_type": "markdown",
      "source": [
        "Let's consider the equation...\n",
        "\n",
        "$$x_{t+1}=αx_t(1-x_t)$$\n",
        "\n",
        "where $α=4$"
      ],
      "metadata": {
        "id": "-N4OTw6InUhE"
      }
    },
    {
      "cell_type": "markdown",
      "source": [
        "Here’s the plot of a typical trajectory, starting from $x_0=0.1$ with $t$ on the x-axis."
      ],
      "metadata": {
        "id": "0Zcj-A2poEEH"
      }
    },
    {
      "cell_type": "code",
      "source": [
        "α = 4\n",
        "def qm(x0, n):\n",
        "    x    = np.empty(n+1)\n",
        "    x[0] = x0\n",
        "    for t in range(n):\n",
        "      x[t+1] = α * x[t] * (1 - x[t])\n",
        "    return x\n",
        "\n",
        "x       = qm(0.1, 250)\n",
        "fig, ax = plt.subplots()\n",
        "ax.plot(x, 'b-', lw=2, alpha=0.8)\n",
        "ax.set_xlabel('$t$', fontsize=12)\n",
        "ax.set_ylabel('$x_{t}$', fontsize = 12)\n",
        "plt.show()"
      ],
      "metadata": {
        "colab": {
          "base_uri": "https://localhost:8080/",
          "height": 546
        },
        "id": "PBIQ5kHyn93P",
        "outputId": "2953e57e-9760-47fc-f7be-26b9f828743b"
      },
      "execution_count": 4,
      "outputs": [
        {
          "output_type": "display_data",
          "data": {
            "text/plain": [
              "<Figure size 1000x600 with 1 Axes>"
            ],
            "image/png": "[encoded data removed]"
          },
          "metadata": {}
        }
      ]
    },
    {
      "cell_type": "markdown",
      "source": [
        "To ***speed the function 'qm' up using Numba***, our first step is..."
      ],
      "metadata": {
        "id": "Y5EOp-eyo-ut"
      }
    },
    {
      "cell_type": "code",
      "source": [
        "from numba import jit\n",
        "qm_numba = jit(qm)"
      ],
      "metadata": {
        "id": "DKqlagZepGDC",
        "colab": {
          "base_uri": "https://localhost:8080/"
        },
        "outputId": "c902c5f2-06e2-4139-bf14-96391ec44142"
      },
      "execution_count": 5,
      "outputs": [
        {
          "output_type": "stream",
          "name": "stderr",
          "text": [
            "<ipython-input-5-7ed0cfe7e226>:2: NumbaDeprecationWarning: The 'nopython' keyword argument was not supplied to the 'numba.jit' decorator. The implicit default value for this argument is currently False, but it will be changed to True in Numba 0.59.0. See https://numba.readthedocs.io/en/stable/reference/deprecation.html#deprecation-of-object-mode-fall-back-behaviour-when-using-jit for details.\n",
            "  qm_numba = jit(qm)\n"
          ]
        }
      ]
    },
    {
      "cell_type": "markdown",
      "source": [
        "The function 'qm_numba' is a version of 'qm' that is “targeted” for JIT-compilation.\n",
        "\n",
        "***Let’s time and compare identical function*** calls across these two versions, ***starting with the original function*** 'qm':"
      ],
      "metadata": {
        "id": "lhOIv_fEpM5V"
      }
    },
    {
      "cell_type": "code",
      "source": [
        "n = 10_000_000\n",
        "qe.tic()\n",
        "qm(0.1, int(n))\n",
        "time1 = qe.toc()"
      ],
      "metadata": {
        "colab": {
          "base_uri": "https://localhost:8080/"
        },
        "id": "DhiqbVZqpmVV",
        "outputId": "21cf396c-ebea-4c9d-e0ce-d71d0399b030"
      },
      "execution_count": 6,
      "outputs": [
        {
          "output_type": "stream",
          "name": "stdout",
          "text": [
            "TOC: Elapsed: 0:00:11.97\n"
          ]
        }
      ]
    },
    {
      "cell_type": "markdown",
      "source": [
        "Now let’s try qm_numba..."
      ],
      "metadata": {
        "id": "5dtQeizCpzYF"
      }
    },
    {
      "cell_type": "code",
      "source": [
        "qe.tic()\n",
        "qm_numba(0.1, int(n))\n",
        "time2 = qe.toc()"
      ],
      "metadata": {
        "colab": {
          "base_uri": "https://localhost:8080/"
        },
        "id": "G56_55Qnp1mN",
        "outputId": "7425aeb1-c701-45f1-dfd6-5c98df3909d3"
      },
      "execution_count": 7,
      "outputs": [
        {
          "output_type": "stream",
          "name": "stdout",
          "text": [
            "TOC: Elapsed: 0:00:0.27\n"
          ]
        }
      ]
    },
    {
      "cell_type": "markdown",
      "source": [
        "The ***speed gain*** could be computed ..."
      ],
      "metadata": {
        "id": "0pMfu4bvp-pi"
      }
    },
    {
      "cell_type": "code",
      "source": [
        "speed_gain = time1 / time2\n",
        "print(speed_gain)"
      ],
      "metadata": {
        "colab": {
          "base_uri": "https://localhost:8080/"
        },
        "id": "IKanwayAqinf",
        "outputId": "d55af405-964b-460b-b68b-2c6424e29f41"
      },
      "execution_count": 8,
      "outputs": [
        {
          "output_type": "stream",
          "name": "stdout",
          "text": [
            "42.83773914586618\n"
          ]
        }
      ]
    },
    {
      "cell_type": "markdown",
      "source": [
        "This kind of speed gain is huge relative to how simple and clear the implementation is."
      ],
      "metadata": {
        "id": "Hy44Kg4LqvIJ"
      }
    },
    {
      "cell_type": "markdown",
      "source": [
        "In the code above we created a JIT compiled version of qm via the call.\n",
        "\n",
        "In practice this would typically be done using an ***alternative decorator syntax***."
      ],
      "metadata": {
        "id": "iPkutCmurEpS"
      }
    },
    {
      "cell_type": "markdown",
      "source": [
        "To target a function for JIT compilation we can ***put @jit before the function*** definition."
      ],
      "metadata": {
        "id": "-vjmiGSrrMrA"
      }
    },
    {
      "cell_type": "markdown",
      "source": [
        "Here’s what this looks like for 'qm'"
      ],
      "metadata": {
        "id": "MOMtmherrQe0"
      }
    },
    {
      "cell_type": "code",
      "source": [
        "@jit\n",
        "def qm(x0, n):\n",
        "    x    = np.empty(n+1)\n",
        "    x[0] = x0\n",
        "    for t in range(n):\n",
        "        x[t+1] = α * x[t] * (1 - x[t])\n",
        "    return x"
      ],
      "metadata": {
        "id": "w1S_kvEYqyNB",
        "colab": {
          "base_uri": "https://localhost:8080/"
        },
        "outputId": "f794f39b-b145-4ba1-f252-0f19f7334103"
      },
      "execution_count": 9,
      "outputs": [
        {
          "output_type": "stream",
          "name": "stderr",
          "text": [
            "<ipython-input-9-7c093ecad7fb>:2: NumbaDeprecationWarning: The 'nopython' keyword argument was not supplied to the 'numba.jit' decorator. The implicit default value for this argument is currently False, but it will be changed to True in Numba 0.59.0. See https://numba.readthedocs.io/en/stable/reference/deprecation.html#deprecation-of-object-mode-fall-back-behaviour-when-using-jit for details.\n",
            "  def qm(x0, n):\n"
          ]
        }
      ]
    },
    {
      "cell_type": "markdown",
      "source": [
        "This is equivalent to qm = jit(qm).\n",
        "\n",
        "The ***following now uses the jitted version***:"
      ],
      "metadata": {
        "id": "G_XM_bGirbPZ"
      }
    },
    {
      "cell_type": "code",
      "source": [
        "qm(0.1, 10)"
      ],
      "metadata": {
        "colab": {
          "base_uri": "https://localhost:8080/"
        },
        "id": "Ac35D6ZhrfBQ",
        "outputId": "7f3b670f-6b4e-43bf-8501-e3a73b8eeba9"
      },
      "execution_count": 10,
      "outputs": [
        {
          "output_type": "execute_result",
          "data": {
            "text/plain": [
              "array([0.1       , 0.36      , 0.9216    , 0.28901376, 0.82193923,\n",
              "       0.58542054, 0.97081333, 0.11333925, 0.40197385, 0.9615635 ,\n",
              "       0.14783656])"
            ]
          },
          "metadata": {},
          "execution_count": 10
        }
      ]
    },
    {
      "cell_type": "markdown",
      "source": [
        "***Type inference is*** a process in which the compiler automatically determines the data types of variables and objects used in the code without the programmer explicitly specifying them. In the context of JIT compilation, ***type inference is crucial to optimizing code performance***.\n",
        "\n",
        "Logically, type inference is easier for simple objects in Python.\n",
        "\n",
        "For example, ***Numba works well with NumPy arrays*** and can effectively infer their types.\n",
        "\n",
        "***When Numba can infer all the necessary types***, it can generate native machine code without having to call the Python runtime.\n",
        "\n",
        "This is what...\n",
        "\n",
        "\n",
        "1.   Significantly improves the speed of code execution\n",
        "2.   This is what puts Numba-generated code on a par with low-level language-generated machine code.\n",
        "\n",
        "***If Numba cannot infer all the types*** needed to generate native machine code, code execution falls back to the Python runtime. In these cases, ***the speed benefits of Numba may be minimal*** to none.\n",
        "\n",
        "To detect and resolve type inference problems, it is preferable for Numba to raise an error rather than run code without optimization. To force this behavior, the ***@njit decorator is used instead of @jit***.\n",
        "\n",
        "For example..."
      ],
      "metadata": {
        "id": "70_WojFzsZhy"
      }
    },
    {
      "cell_type": "code",
      "source": [
        "from numba import njit\n",
        "\n",
        "@njit\n",
        "def qm(x0, n):\n",
        "    x    = np.empty(n+1)\n",
        "    x[0] = x0\n",
        "    for t in range(n):\n",
        "        x[t+1] = 4 * x[t] * (1 - x[t])\n",
        "    return x"
      ],
      "metadata": {
        "id": "PxRrKt3Xscgi"
      },
      "execution_count": 11,
      "outputs": []
    },
    {
      "cell_type": "markdown",
      "source": [
        "# ***2. Parallelization***"
      ],
      "metadata": {
        "id": "vG37HrewwcE7"
      }
    },
    {
      "cell_type": "markdown",
      "source": [
        "The growth of CPU clock speed has slowed dramatically in recent years.\n",
        "\n",
        "Chip designers and computer programmers have responded to the slowdown by seeking a different path to fast execution: ***parallelization***.\n",
        "\n",
        "Hardware makers have increased the number of cores (physical CPUs) embedded in each machine.\n",
        "\n",
        "For programmers, the challenge has been to exploit these multiple CPUs by running many processes in parallel (i.e., simultaneously).\n",
        "\n",
        "There are ***two main types*** of parallelization:\n",
        "\n",
        "*   ***Multiprocessing:*** Concurrent execution of multiple processes using more than one processor.\n",
        "*   ***Multithreading:*** Similar to multiprocessing, except that, during execution, the threads all share the same memory space.\n",
        "\n",
        "Multithreading is more lightweight because most system and memory resources are shared by the threads.\n",
        "\n",
        "For the great majority of what we do in these lectures, ***multithreading will suffice***.\n",
        "\n",
        "\n",
        "\n"
      ],
      "metadata": {
        "id": "CWzi-c0owq3v"
      }
    },
    {
      "cell_type": "markdown",
      "source": [
        "Numba provides another approach to multithreading that will work for us almost everywhere parallelization is possible: ***multithreaded loops in numba***.\n",
        "\n",
        "To illustrate, let’s look first at a simple, single-threaded (i.e., non-parallelized) piece of code.\n",
        "\n"
      ],
      "metadata": {
        "id": "dJOMLLWQ8O3a"
      }
    },
    {
      "cell_type": "markdown",
      "source": [
        "Th code simulates ***updating the wealth*** $w_t$ of household via the rule...\n",
        "\n",
        "$$w_{t+1}=R_{t+1}sw_t+y_{t+1}$$\n",
        "\n",
        "where...\n",
        "\n",
        "*   $R$ is the gross return on assets.\n",
        "*   $s$ is the savings rate of household.\n",
        "*   $y$ is the labor income of the household.\n",
        "\n",
        "We model both\n",
        " and\n",
        " as independent draws from a lognormal distribution.\n",
        "\n",
        "Here’s the code:\n",
        "\n",
        "\n",
        "\n",
        "\n",
        "\n"
      ],
      "metadata": {
        "id": "b971qcIU8dnh"
      }
    },
    {
      "cell_type": "code",
      "source": [
        "from numpy.random import randn\n",
        "from numba import njit\n",
        "\n",
        "@njit\n",
        "def h(w, r=0.1, s=0.3, v1=0.1, v2=1.0):\n",
        "    \"\"\"\n",
        "    Updates household wealth.\n",
        "    \"\"\"\n",
        "\n",
        "    # Draw shocks\n",
        "    R = np.exp(v1 * randn()) * (1 + r)\n",
        "    y = np.exp(v2 * randn())\n",
        "\n",
        "    # Update wealth\n",
        "    w = R * s * w + y\n",
        "    return w"
      ],
      "metadata": {
        "id": "XUNAFDtO9E_O"
      },
      "execution_count": 12,
      "outputs": []
    },
    {
      "cell_type": "markdown",
      "source": [
        "Let’s have a look at ***how wealth evolves*** under this rule."
      ],
      "metadata": {
        "id": "FITcbdI99blj"
      }
    },
    {
      "cell_type": "code",
      "source": [
        "fig, ax = plt.subplots()\n",
        "\n",
        "T = 100\n",
        "w = np.empty(T)\n",
        "w[0] = 5\n",
        "for t in range(T-1):\n",
        "    w[t+1] = h(w[t])\n",
        "\n",
        "ft = 14\n",
        "ax.plot(w, color = 'green')\n",
        "ax.set_xlabel('$t$', fontsize = ft)\n",
        "ax.set_ylabel('$w_{t}$', fontsize = ft)\n",
        "ax.set_title('Wealth dynamics', fontsize = ft)\n",
        "\n",
        "plt.show()"
      ],
      "metadata": {
        "colab": {
          "base_uri": "https://localhost:8080/",
          "height": 570
        },
        "id": "L8fsMtHD9lmb",
        "outputId": "1eb9f901-3a35-46e6-8329-61b3c4ecc57d"
      },
      "execution_count": 13,
      "outputs": [
        {
          "output_type": "display_data",
          "data": {
            "text/plain": [
              "<Figure size 1000x600 with 1 Axes>"
            ],
            "image/png": "[encoded data removed]"
          },
          "metadata": {}
        }
      ]
    },
    {
      "cell_type": "markdown",
      "source": [
        "Now let’s suppose that we have a large population of households and ***we want to know what median wealth will be***.\n",
        "\n",
        "In particular, ***we will simulate a large number of households*** and then calculate median wealth for this group.\n",
        "\n",
        "We are going to simulate 50,000 households by:\n",
        "\n",
        "\n",
        "1.   Arbitraly setting initial wealth to 1.\n",
        "2.   Simulating forward in time for 1,000 periods.\n",
        "\n",
        "Then we’ll calculate median wealth at the end period."
      ],
      "metadata": {
        "id": "SKZExqta-cv3"
      }
    },
    {
      "cell_type": "markdown",
      "source": [
        "Here’s the ***code***:\n",
        "\n"
      ],
      "metadata": {
        "id": "5ZXgzvnR-_eo"
      }
    },
    {
      "cell_type": "code",
      "source": [
        "@njit\n",
        "def compute_long_run_median(w0       = 1,              # Initial wealth\n",
        "                            T        = 1000,            # Periods of time\n",
        "                            num_reps = 50_000):  # Number of households\n",
        "\n",
        "    obs = np.empty(num_reps)       # Initialization of observations\n",
        "    for i in range(num_reps):\n",
        "        w = w0\n",
        "        for t in range(T):\n",
        "            w = h(w)\n",
        "        obs[i] = w\n",
        "\n",
        "    return np.median(obs)"
      ],
      "metadata": {
        "id": "SIoim3Dl_EtW"
      },
      "execution_count": 15,
      "outputs": []
    },
    {
      "cell_type": "markdown",
      "source": [
        "Let’s see how fast this runs:"
      ],
      "metadata": {
        "id": "aDVhKrw4_kw-"
      }
    },
    {
      "cell_type": "code",
      "source": [
        "compute_long_run_median()"
      ],
      "metadata": {
        "colab": {
          "base_uri": "https://localhost:8080/"
        },
        "id": "awxgOsW4AI9e",
        "outputId": "20330d03-4475-44d6-8a8b-f69fa9153e2a"
      },
      "execution_count": 16,
      "outputs": [
        {
          "output_type": "execute_result",
          "data": {
            "text/plain": [
              "1.835567571494141"
            ]
          },
          "metadata": {},
          "execution_count": 16
        }
      ]
    },
    {
      "cell_type": "code",
      "source": [
        "qe.tic()\n",
        "compute_long_run_median()\n",
        "timeA = qe.toc()"
      ],
      "metadata": {
        "colab": {
          "base_uri": "https://localhost:8080/"
        },
        "id": "GijSXI-l_obt",
        "outputId": "82c4b5b0-a361-43d3-b05b-fd1cde217b79"
      },
      "execution_count": 17,
      "outputs": [
        {
          "output_type": "stream",
          "name": "stdout",
          "text": [
            "TOC: Elapsed: 0:00:8.09\n"
          ]
        }
      ]
    },
    {
      "cell_type": "markdown",
      "source": [
        "To speed this up, we’re going to parallelize it via multithreading.\n",
        "\n",
        "To do so, we...\n",
        "\n",
        "\n",
        "*   Add the ***'parallel = True'*** flag.\n",
        "*   Change ***range to prange***.\n",
        "\n"
      ],
      "metadata": {
        "id": "cAXva5SIAO6_"
      }
    },
    {
      "cell_type": "code",
      "source": [
        "from numba import prange\n",
        "\n",
        "@njit(parallel = True)\n",
        "def compute_long_run_median_parallel(w0 = 1, T = 1000, num_reps = 50_000):\n",
        "\n",
        "    obs = np.empty(num_reps)\n",
        "    for i in prange(num_reps):\n",
        "        w = w0\n",
        "        for t in range(T):\n",
        "            w = h(w)\n",
        "        obs[i] = w\n",
        "\n",
        "    return np.median(obs)"
      ],
      "metadata": {
        "id": "V8y6crKnAjiB"
      },
      "execution_count": 18,
      "outputs": []
    },
    {
      "cell_type": "markdown",
      "source": [
        "Let's look at timing:"
      ],
      "metadata": {
        "id": "TV4szn1cAvKi"
      }
    },
    {
      "cell_type": "code",
      "source": [
        "compute_long_run_median_parallel()"
      ],
      "metadata": {
        "colab": {
          "base_uri": "https://localhost:8080/"
        },
        "id": "8XijqfaVAyrj",
        "outputId": "9f6f0e9a-50fb-4332-f416-e458fb775ad2"
      },
      "execution_count": 19,
      "outputs": [
        {
          "output_type": "execute_result",
          "data": {
            "text/plain": [
              "1.835808037816284"
            ]
          },
          "metadata": {},
          "execution_count": 19
        }
      ]
    },
    {
      "cell_type": "code",
      "source": [
        "qe.tic()\n",
        "compute_long_run_median_parallel()\n",
        "timeB = qe.toc()"
      ],
      "metadata": {
        "colab": {
          "base_uri": "https://localhost:8080/"
        },
        "id": "1PUONaunA7dA",
        "outputId": "a72e0aa5-0b4b-4a7e-95b1-2eee399107ad"
      },
      "execution_count": 20,
      "outputs": [
        {
          "output_type": "stream",
          "name": "stdout",
          "text": [
            "TOC: Elapsed: 0:00:4.73\n"
          ]
        }
      ]
    },
    {
      "cell_type": "markdown",
      "source": [
        "The speed gain can be computed as..."
      ],
      "metadata": {
        "id": "jgFaEWvnBGbU"
      }
    },
    {
      "cell_type": "code",
      "source": [
        "speed_gain1 = timeA / timeB\n",
        "print(speed_gain1)"
      ],
      "metadata": {
        "colab": {
          "base_uri": "https://localhost:8080/"
        },
        "id": "JRj7hx4pBQgv",
        "outputId": "11b57360-cf44-46cc-c194-663f0d9c123f"
      },
      "execution_count": 21,
      "outputs": [
        {
          "output_type": "stream",
          "name": "stdout",
          "text": [
            "1.7092564174149265\n"
          ]
        }
      ]
    },
    {
      "cell_type": "markdown",
      "source": [
        "# ***3. JAX***"
      ],
      "metadata": {
        "id": "C8rFcvcX75zG"
      }
    },
    {
      "cell_type": "markdown",
      "source": [
        "***JAX*** is scientific library within the Python ecosystem that ***provides***:\n",
        "\n",
        "1.   Data type.\n",
        "2.   Functions.\n",
        "3.   Compiler for fast linear algebra operations and automatic differentiation.\n",
        "\n",
        "Loosely speaking, JAX ***is like NumPy with the addition of***:\n",
        "\n",
        "1.   Automatic differentiaton.\n",
        "2.   Automated GPU(Graphic Processing Unit)/TPU (Tensor Processing Unit) support.\n",
        "  * **GPU's** were originally designed and used for 3D graphics to speed up things, but over time, their parallel computing ability made them an extremely popular choice for use in AI.\n",
        "  * **TPU's** are application-specific integrated circuits (ASIC) designed specifically to handle the computational demands of machine learning and accelerate AI calculations and algorithms. They do not have the memory access problem that slows down GPUs and CPUs.\n",
        "3.   A just-in-time compiler.\n",
        "\n",
        "JAX is often used for machine learning and AI, since it can scale to big data operations on GPUs and automatically differentiate loss functions for gradient decent.\n",
        "\n",
        "However, ***JAX is sufficiently low-level that it can be used for many purposes***.\n",
        "\n"
      ],
      "metadata": {
        "id": "5LJ9C9Mu8_Le"
      }
    },
    {
      "cell_type": "markdown",
      "source": [
        "## ***3.1. JAX as Numpy replacement***"
      ],
      "metadata": {
        "id": "yA60j11F-CTB"
      }
    },
    {
      "cell_type": "markdown",
      "source": [
        "One way to use JAX is as a plug-in NumPy replacement. Let's look at the similarities and differences."
      ],
      "metadata": {
        "id": "IyIpJvRY-Mp4"
      }
    },
    {
      "cell_type": "markdown",
      "source": [
        "### ***Similarities***"
      ],
      "metadata": {
        "id": "c-hAJ0KB-hJy"
      }
    },
    {
      "cell_type": "markdown",
      "source": [
        "The following import is standard, replacing import numpy as np:"
      ],
      "metadata": {
        "id": "kiQrVG4x-lIN"
      }
    },
    {
      "cell_type": "code",
      "source": [
        "import jax\n",
        "import jax.numpy as jnp"
      ],
      "metadata": {
        "id": "1AiYNiVT-qVp"
      },
      "execution_count": 22,
      "outputs": []
    },
    {
      "cell_type": "markdown",
      "source": [
        "Now we can use jnp in place of np for the usual array operations:"
      ],
      "metadata": {
        "id": "LgcUzGyl-wDx"
      }
    },
    {
      "cell_type": "code",
      "source": [
        "a = jnp.asarray((1.0, 2.0, 3.0))\n",
        "print(a)"
      ],
      "metadata": {
        "colab": {
          "base_uri": "https://localhost:8080/"
        },
        "id": "FRpvOv4M-xhM",
        "outputId": "4503ec65-3752-4696-f0fb-ff83f8bea9b0"
      },
      "execution_count": 23,
      "outputs": [
        {
          "output_type": "stream",
          "name": "stdout",
          "text": [
            "[1. 2. 3.]\n"
          ]
        }
      ]
    },
    {
      "cell_type": "code",
      "source": [
        "# For example...\n",
        "print('The sum of the elements in the array \"a\" is:',jnp.sum(a))\n",
        "print('The average of the elements in the array \"a\" is:',jnp.mean(a))"
      ],
      "metadata": {
        "colab": {
          "base_uri": "https://localhost:8080/"
        },
        "id": "jwCiwI82-_-R",
        "outputId": "a6b1be0d-48ca-4488-f235-11b6c907499e"
      },
      "execution_count": 24,
      "outputs": [
        {
          "output_type": "stream",
          "name": "stdout",
          "text": [
            "The sum of the elements in the array \"a\" is: 6.0\n",
            "The average of the elements in the array \"a\" is: 2.0\n"
          ]
        }
      ]
    },
    {
      "cell_type": "markdown",
      "source": [
        "However, the array \"a\" is not a NumPy array:"
      ],
      "metadata": {
        "id": "3NTKoSCRBlwC"
      }
    },
    {
      "cell_type": "code",
      "source": [
        "type(a)"
      ],
      "metadata": {
        "colab": {
          "base_uri": "https://localhost:8080/"
        },
        "id": "5NKX3m-6BrVl",
        "outputId": "a2f88d06-ddbe-4efd-f711-c557ff841119"
      },
      "execution_count": 25,
      "outputs": [
        {
          "output_type": "execute_result",
          "data": {
            "text/plain": [
              "jaxlib.xla_extension.ArrayImpl"
            ]
          },
          "metadata": {},
          "execution_count": 25
        }
      ]
    },
    {
      "cell_type": "markdown",
      "source": [
        "Operations on higher dimensional arrays is also similar to NumPy:"
      ],
      "metadata": {
        "id": "sHl5Gb5sB2xm"
      }
    },
    {
      "cell_type": "code",
      "source": [
        "A = jnp.ones((2,2))\n",
        "B = jnp.identity(2)\n",
        "A @ B"
      ],
      "metadata": {
        "colab": {
          "base_uri": "https://localhost:8080/"
        },
        "id": "X0myL2NYCE2U",
        "outputId": "3d90e5fe-fde7-4fb7-fa76-15e14888d4b6"
      },
      "execution_count": 26,
      "outputs": [
        {
          "output_type": "execute_result",
          "data": {
            "text/plain": [
              "Array([[1., 1.],\n",
              "       [1., 1.]], dtype=float32)"
            ]
          },
          "metadata": {},
          "execution_count": 26
        }
      ]
    },
    {
      "cell_type": "code",
      "source": [
        "from jax.numpy import linalg"
      ],
      "metadata": {
        "id": "zrbCv0uFCgjN"
      },
      "execution_count": 27,
      "outputs": []
    },
    {
      "cell_type": "code",
      "source": [
        "# Solves the linear system Bx=A\n",
        "linalg.solve(B, A)"
      ],
      "metadata": {
        "colab": {
          "base_uri": "https://localhost:8080/"
        },
        "id": "95o0ycMtCk64",
        "outputId": "355a904f-deb7-4bfa-f1ee-0fe669eefd3e"
      },
      "execution_count": 28,
      "outputs": [
        {
          "output_type": "execute_result",
          "data": {
            "text/plain": [
              "Array([[1., 1.],\n",
              "       [1., 1.]], dtype=float32)"
            ]
          },
          "metadata": {},
          "execution_count": 28
        }
      ]
    },
    {
      "cell_type": "code",
      "source": [
        "# Compute eigenvalues and eigenvectors\n",
        "linalg.eigh(B)"
      ],
      "metadata": {
        "colab": {
          "base_uri": "https://localhost:8080/"
        },
        "id": "RPdGpqf1EMwa",
        "outputId": "5b8b24e2-8698-4928-b85f-fde771cfbecc"
      },
      "execution_count": 29,
      "outputs": [
        {
          "output_type": "execute_result",
          "data": {
            "text/plain": [
              "(Array([1., 1.], dtype=float32),\n",
              " Array([[1., 0.],\n",
              "        [0., 1.]], dtype=float32))"
            ]
          },
          "metadata": {},
          "execution_count": 29
        }
      ]
    },
    {
      "cell_type": "markdown",
      "source": [
        "### ***Differences***"
      ],
      "metadata": {
        "id": "KOb2l69IEMAZ"
      }
    },
    {
      "cell_type": "markdown",
      "source": [
        "One difference between NumPy and JAX is that, when running on a GPU, ***JAX uses 32 bit floats by default***. This is standard for GPU computing and can lead to significant speed gains with small loss of precision.\n",
        "\n",
        "However, for some calculations precision matters. ***In these cases 64 bit floats can be enforced via the command***."
      ],
      "metadata": {
        "id": "PSzsTLv4EeR4"
      }
    },
    {
      "cell_type": "code",
      "source": [
        "jax.config.update(\"jax_enable_x64\", True)"
      ],
      "metadata": {
        "id": "k_d5_ekdErq3"
      },
      "execution_count": 30,
      "outputs": []
    },
    {
      "cell_type": "markdown",
      "source": [
        "Let's check if this works..."
      ],
      "metadata": {
        "id": "NUc2l07MEzVz"
      }
    },
    {
      "cell_type": "code",
      "source": [
        "jnp.ones(3)"
      ],
      "metadata": {
        "colab": {
          "base_uri": "https://localhost:8080/"
        },
        "id": "XCqykSOOE1iM",
        "outputId": "c232baec-e2da-4d59-d7c1-cf76fdfe57fe"
      },
      "execution_count": 31,
      "outputs": [
        {
          "output_type": "execute_result",
          "data": {
            "text/plain": [
              "Array([1., 1., 1.], dtype=float64)"
            ]
          },
          "metadata": {},
          "execution_count": 31
        }
      ]
    },
    {
      "cell_type": "markdown",
      "source": [
        "As a NumPy replacement, a more significant difference is that ***arrays are treated as immutable***. For example, with NumPy we can write..."
      ],
      "metadata": {
        "id": "pDVcf14_E6tk"
      }
    },
    {
      "cell_type": "code",
      "source": [
        "a = np.linspace(0, 1, 3)\n",
        "print(a)"
      ],
      "metadata": {
        "colab": {
          "base_uri": "https://localhost:8080/"
        },
        "id": "WyC0CN_TFDx0",
        "outputId": "331f1d90-ec92-4ca1-8c79-ee0d07995c2e"
      },
      "execution_count": 32,
      "outputs": [
        {
          "output_type": "stream",
          "name": "stdout",
          "text": [
            "[0.  0.5 1. ]\n"
          ]
        }
      ]
    },
    {
      "cell_type": "code",
      "source": [
        "# And then mutate the data in memory.\n",
        "a[0] = 1\n",
        "print(a)"
      ],
      "metadata": {
        "colab": {
          "base_uri": "https://localhost:8080/"
        },
        "id": "rDiyHPR8FNW2",
        "outputId": "04234c5f-efca-43e3-83a2-3b2362ba745b"
      },
      "execution_count": 33,
      "outputs": [
        {
          "output_type": "stream",
          "name": "stdout",
          "text": [
            "[1.  0.5 1. ]\n"
          ]
        }
      ]
    },
    {
      "cell_type": "markdown",
      "source": [
        "In JAX, this fails..."
      ],
      "metadata": {
        "id": "itwJv-0tFYGl"
      }
    },
    {
      "cell_type": "code",
      "source": [
        "b = jnp.linspace(0, 1, 3)\n",
        "print(b)"
      ],
      "metadata": {
        "colab": {
          "base_uri": "https://localhost:8080/"
        },
        "id": "DI1Ei5WkFQ_o",
        "outputId": "97db46de-5a98-4125-e51a-43a24c06f338"
      },
      "execution_count": 34,
      "outputs": [
        {
          "output_type": "stream",
          "name": "stdout",
          "text": [
            "[0.  0.5 1. ]\n"
          ]
        }
      ]
    },
    {
      "cell_type": "code",
      "source": [
        "b[0] = 1\n",
        "print(b)"
      ],
      "metadata": {
        "colab": {
          "base_uri": "https://localhost:8080/",
          "height": 350
        },
        "id": "CTyoKeViFiRQ",
        "outputId": "6db47b3f-cff6-4f72-87bd-ee9f40a1c600"
      },
      "execution_count": 35,
      "outputs": [
        {
          "output_type": "error",
          "ename": "TypeError",
          "evalue": "ignored",
          "traceback": [
            "\u001b[0;31m---------------------------------------------------------------------------\u001b[0m",
            "\u001b[0;31mTypeError\u001b[0m                                 Traceback (most recent call last)",
            "\u001b[0;32m<ipython-input-35-0693476ec521>\u001b[0m in \u001b[0;36m<cell line: 1>\u001b[0;34m()\u001b[0m\n\u001b[0;32m----> 1\u001b[0;31m \u001b[0mb\u001b[0m\u001b[0;34m[\u001b[0m\u001b[0;36m0\u001b[0m\u001b[0;34m]\u001b[0m \u001b[0;34m=\u001b[0m \u001b[0;36m1\u001b[0m\u001b[0;34m\u001b[0m\u001b[0;34m\u001b[0m\u001b[0m\n\u001b[0m\u001b[1;32m      2\u001b[0m \u001b[0mprint\u001b[0m\u001b[0;34m(\u001b[0m\u001b[0mb\u001b[0m\u001b[0;34m)\u001b[0m\u001b[0;34m\u001b[0m\u001b[0;34m\u001b[0m\u001b[0m\n",
            "\u001b[0;32m/usr/local/lib/python3.10/dist-packages/jax/_src/numpy/array_methods.py\u001b[0m in \u001b[0;36m_unimplemented_setitem\u001b[0;34m(self, i, x)\u001b[0m\n\u001b[1;32m    268\u001b[0m          \u001b[0;34m\"or another .at[] method: \"\u001b[0m\u001b[0;34m\u001b[0m\u001b[0;34m\u001b[0m\u001b[0m\n\u001b[1;32m    269\u001b[0m          \"https://jax.readthedocs.io/en/latest/_autosummary/jax.numpy.ndarray.at.html\")\n\u001b[0;32m--> 270\u001b[0;31m   \u001b[0;32mraise\u001b[0m \u001b[0mTypeError\u001b[0m\u001b[0;34m(\u001b[0m\u001b[0mmsg\u001b[0m\u001b[0;34m.\u001b[0m\u001b[0mformat\u001b[0m\u001b[0;34m(\u001b[0m\u001b[0mtype\u001b[0m\u001b[0;34m(\u001b[0m\u001b[0mself\u001b[0m\u001b[0;34m)\u001b[0m\u001b[0;34m)\u001b[0m\u001b[0;34m)\u001b[0m\u001b[0;34m\u001b[0m\u001b[0;34m\u001b[0m\u001b[0m\n\u001b[0m\u001b[1;32m    271\u001b[0m \u001b[0;34m\u001b[0m\u001b[0m\n\u001b[1;32m    272\u001b[0m \u001b[0;32mdef\u001b[0m \u001b[0m_operator_round\u001b[0m\u001b[0;34m(\u001b[0m\u001b[0mnumber\u001b[0m\u001b[0;34m:\u001b[0m \u001b[0mArrayLike\u001b[0m\u001b[0;34m,\u001b[0m \u001b[0mndigits\u001b[0m\u001b[0;34m:\u001b[0m \u001b[0mOptional\u001b[0m\u001b[0;34m[\u001b[0m\u001b[0mint\u001b[0m\u001b[0;34m]\u001b[0m \u001b[0;34m=\u001b[0m \u001b[0;32mNone\u001b[0m\u001b[0;34m)\u001b[0m \u001b[0;34m->\u001b[0m \u001b[0mArray\u001b[0m\u001b[0;34m:\u001b[0m\u001b[0;34m\u001b[0m\u001b[0;34m\u001b[0m\u001b[0m\n",
            "\u001b[0;31mTypeError\u001b[0m: '<class 'jaxlib.xla_extension.ArrayImpl'>' object does not support item assignment. JAX arrays are immutable. Instead of ``x[idx] = y``, use ``x = x.at[idx].set(y)`` or another .at[] method: https://jax.readthedocs.io/en/latest/_autosummary/jax.numpy.ndarray.at.html"
          ]
        }
      ]
    },
    {
      "cell_type": "markdown",
      "source": [
        "In line with immutability, JAX does not support inplace operations."
      ],
      "metadata": {
        "id": "KrfQ3DVXFo5t"
      }
    },
    {
      "cell_type": "code",
      "source": [
        "c = np.array((2, 1))\n",
        "c.sort()\n",
        "print(c)"
      ],
      "metadata": {
        "colab": {
          "base_uri": "https://localhost:8080/"
        },
        "id": "tF7mnDSoFwDZ",
        "outputId": "bd960f75-2bb3-4a46-8c9d-27766edb7bd8"
      },
      "execution_count": 36,
      "outputs": [
        {
          "output_type": "stream",
          "name": "stdout",
          "text": [
            "[1 2]\n"
          ]
        }
      ]
    },
    {
      "cell_type": "code",
      "source": [
        "d = jnp.array((2, 1))\n",
        "d.sort()\n",
        "print(d)"
      ],
      "metadata": {
        "colab": {
          "base_uri": "https://localhost:8080/"
        },
        "id": "92fs8_3LF34E",
        "outputId": "2384f24f-afca-436d-f40d-bf4903eefdaa"
      },
      "execution_count": 37,
      "outputs": [
        {
          "output_type": "stream",
          "name": "stdout",
          "text": [
            "[2 1]\n"
          ]
        }
      ]
    },
    {
      "cell_type": "markdown",
      "source": [
        "The ***designers of JAX chose to make arrays immutable because JAX uses a functional programming style***.\n"
      ],
      "metadata": {
        "id": "pbw5a8MHGDCt"
      }
    },
    {
      "cell_type": "markdown",
      "source": [
        "## ***3.2. Random Numbers in JAX***"
      ],
      "metadata": {
        "id": "nXLj5liQGf1A"
      }
    },
    {
      "cell_type": "markdown",
      "source": [
        "Random numbers are also a bit different in JAX, relative to NumPy. Typically, in JAX, ***the state of the random number generator needs to be controlled*** explicitly."
      ],
      "metadata": {
        "id": "P5_4AH95f3Vg"
      }
    },
    {
      "cell_type": "code",
      "source": [
        "import jax.random as random"
      ],
      "metadata": {
        "id": "AC8TuVLnGtuI"
      },
      "execution_count": 38,
      "outputs": []
    },
    {
      "cell_type": "markdown",
      "source": [
        "First we produce a key, which seeds the random number generator."
      ],
      "metadata": {
        "id": "UO4TtCwTf-x3"
      }
    },
    {
      "cell_type": "code",
      "source": [
        "key = random.PRNGKey(1)    # Initial value of the random seed\n",
        "print(key)"
      ],
      "metadata": {
        "colab": {
          "base_uri": "https://localhost:8080/"
        },
        "id": "sgqylhEhgExA",
        "outputId": "f3a6c88d-3096-462a-debc-1c622cf75095"
      },
      "execution_count": 39,
      "outputs": [
        {
          "output_type": "stream",
          "name": "stdout",
          "text": [
            "[0 1]\n"
          ]
        }
      ]
    },
    {
      "cell_type": "markdown",
      "source": [
        "Now we can use the key to generate some random numbers:"
      ],
      "metadata": {
        "id": "tNZheYNfgpdR"
      }
    },
    {
      "cell_type": "code",
      "source": [
        "x = random.normal(key, (3, 3))\n",
        "print(x)"
      ],
      "metadata": {
        "colab": {
          "base_uri": "https://localhost:8080/"
        },
        "id": "4OP-X43Igmok",
        "outputId": "6e4d86e7-7658-4033-f154-b75a19793c37"
      },
      "execution_count": 40,
      "outputs": [
        {
          "output_type": "stream",
          "name": "stdout",
          "text": [
            "[[-1.35247421 -0.2712502  -0.02920518]\n",
            " [ 0.34706456  0.5464053  -1.52325812]\n",
            " [ 0.41677264 -0.59710138 -0.5678208 ]]\n"
          ]
        }
      ]
    },
    {
      "cell_type": "markdown",
      "source": [
        "**'random.normal(key, (3, 3))'** generates a matrix of size 3x3 where each element of the matrix is ​​a random number drawn from a normal distribution with mean zero and variance one."
      ],
      "metadata": {
        "id": "xEWQBfdoEhSl"
      }
    },
    {
      "cell_type": "markdown",
      "source": [
        "If we use the same key again, we initialize at the same seed, so the random numbers are the same:"
      ],
      "metadata": {
        "id": "A5CIWywpg1pm"
      }
    },
    {
      "cell_type": "code",
      "source": [
        "random.normal(key,(3,3))"
      ],
      "metadata": {
        "colab": {
          "base_uri": "https://localhost:8080/"
        },
        "id": "QBYAKsf6g9M9",
        "outputId": "70d78029-660f-4d0d-b3bb-db6f6238ba83"
      },
      "execution_count": 41,
      "outputs": [
        {
          "output_type": "execute_result",
          "data": {
            "text/plain": [
              "Array([[-1.35247421, -0.2712502 , -0.02920518],\n",
              "       [ 0.34706456,  0.5464053 , -1.52325812],\n",
              "       [ 0.41677264, -0.59710138, -0.5678208 ]], dtype=float64)"
            ]
          },
          "metadata": {},
          "execution_count": 41
        }
      ]
    },
    {
      "cell_type": "markdown",
      "source": [
        "To produce a (quasi-) independent draw, best practice is to \"split\" the existing key:"
      ],
      "metadata": {
        "id": "mq37B81Lg8mV"
      }
    },
    {
      "cell_type": "code",
      "source": [
        "'''\n",
        "This code divides a random seed (key) into two new random seeds (subkey and the seed resulting from the division).\n",
        "These additional seeds can be used to generate sequences of pseudorandom numbers independent of each other.\n",
        "'''\n",
        "\n",
        "key, subkey = random.split(key)"
      ],
      "metadata": {
        "id": "oJFzDrm8h88s"
      },
      "execution_count": 42,
      "outputs": []
    },
    {
      "cell_type": "code",
      "source": [
        "random.normal(key, (3, 3))"
      ],
      "metadata": {
        "colab": {
          "base_uri": "https://localhost:8080/"
        },
        "id": "6kENNoBtiL8I",
        "outputId": "2bdc2f07-a8ed-413f-dd4b-02055ba4201c"
      },
      "execution_count": 43,
      "outputs": [
        {
          "output_type": "execute_result",
          "data": {
            "text/plain": [
              "Array([[ 1.85374374, -0.37683949, -0.61276867],\n",
              "       [-1.91829718,  0.27219409,  0.54922246],\n",
              "       [ 0.40451442, -0.58726839, -0.63967753]], dtype=float64)"
            ]
          },
          "metadata": {},
          "execution_count": 43
        }
      ]
    },
    {
      "cell_type": "code",
      "source": [
        "random.normal(subkey, (3, 3))"
      ],
      "metadata": {
        "colab": {
          "base_uri": "https://localhost:8080/"
        },
        "id": "IXzBMGGuiPjt",
        "outputId": "52845796-2347-462d-a529-b516dabac54c"
      },
      "execution_count": 44,
      "outputs": [
        {
          "output_type": "execute_result",
          "data": {
            "text/plain": [
              "Array([[-0.4300635 ,  0.22778552,  0.57241269],\n",
              "       [-0.15969178,  0.46719192,  0.21165091],\n",
              "       [ 0.84118631,  1.18671326, -0.16607783]], dtype=float64)"
            ]
          },
          "metadata": {},
          "execution_count": 44
        }
      ]
    },
    {
      "cell_type": "markdown",
      "source": [
        "The function below produces k (quasi-) independent random n x n matrices using this procedure."
      ],
      "metadata": {
        "id": "aqhPX321iRMN"
      }
    },
    {
      "cell_type": "code",
      "source": [
        "'''\n",
        "The function gen_random_matrices(key, n, k) generates a list of k random matrices of size n x n.\n",
        "'''\n",
        "\n",
        "def gen_random_matrices(key, n, k):\n",
        "    matrices = []\n",
        "    for _ in range(k):\n",
        "        key, subkey = random.split(key)\n",
        "        matrices.append(random.uniform(subkey, (n, n)))\n",
        "    return matrices"
      ],
      "metadata": {
        "id": "4Xjd82RGiX3y"
      },
      "execution_count": 45,
      "outputs": []
    },
    {
      "cell_type": "code",
      "source": [
        "matrices = gen_random_matrices(key, 2, 2)\n",
        "for A in matrices:\n",
        "    print(A)"
      ],
      "metadata": {
        "colab": {
          "base_uri": "https://localhost:8080/"
        },
        "id": "0lExqnWPiZGn",
        "outputId": "07b8c2eb-3af6-4064-8fed-5854b8514c12"
      },
      "execution_count": 46,
      "outputs": [
        {
          "output_type": "stream",
          "name": "stdout",
          "text": [
            "[[0.97440813 0.3838544 ]\n",
            " [0.9790686  0.99981046]]\n",
            "[[0.3473302  0.17157842]\n",
            " [0.89346686 0.01403153]]\n"
          ]
        }
      ]
    },
    {
      "cell_type": "markdown",
      "source": [
        "## ***3.3. JIT compilation***"
      ],
      "metadata": {
        "id": "YIncnQE0in6S"
      }
    },
    {
      "cell_type": "markdown",
      "source": [
        "The JAX JIT compiler accelerates logic within functions by fusing linear algebra operations into a single, highly optimized kernel that the host can launch on the GPU / TPU (or CPU if no accelerator is detected).\n",
        "\n",
        "Consider the following pure Python function."
      ],
      "metadata": {
        "id": "qtRjxOZAitX8"
      }
    },
    {
      "cell_type": "code",
      "source": [
        "def f(x, p = 1000):\n",
        "    return sum((k*x for k in range(p)))"
      ],
      "metadata": {
        "id": "Jeykc4cyiz4L"
      },
      "execution_count": 47,
      "outputs": []
    },
    {
      "cell_type": "markdown",
      "source": [
        "Let's build an array to call the function on."
      ],
      "metadata": {
        "id": "70DQFcr2ixEn"
      }
    },
    {
      "cell_type": "code",
      "source": [
        "n = 500_000\n",
        "x = jnp.ones(n)"
      ],
      "metadata": {
        "id": "YJ0yXZ8BjDxi"
      },
      "execution_count": 48,
      "outputs": []
    },
    {
      "cell_type": "code",
      "source": [
        "f(x)"
      ],
      "metadata": {
        "colab": {
          "base_uri": "https://localhost:8080/"
        },
        "id": "TKU_VBNgjM3M",
        "outputId": "bff9d326-d9a1-4e41-dd27-116f4ceefafe"
      },
      "execution_count": 49,
      "outputs": [
        {
          "output_type": "execute_result",
          "data": {
            "text/plain": [
              "Array([499500., 499500., 499500., ..., 499500., 499500., 499500.],      dtype=float64)"
            ]
          },
          "metadata": {},
          "execution_count": 49
        }
      ]
    },
    {
      "cell_type": "code",
      "source": [
        "qe.tic()\n",
        "f(x)\n",
        "time_x = qe.toc()"
      ],
      "metadata": {
        "colab": {
          "base_uri": "https://localhost:8080/"
        },
        "id": "YvzHtA4UjVqr",
        "outputId": "fe5099ce-7818-4bc1-dca8-b995f12971fa"
      },
      "execution_count": 50,
      "outputs": [
        {
          "output_type": "stream",
          "name": "stdout",
          "text": [
            "TOC: Elapsed: 0:00:1.04\n"
          ]
        }
      ]
    },
    {
      "cell_type": "markdown",
      "source": [
        "This code is not particularly fast.\n",
        "\n",
        "If we JIT-compile the function with JAX, then the operations are fused and no intermediate arrays are created."
      ],
      "metadata": {
        "id": "kKKmqjWIjcIo"
      }
    },
    {
      "cell_type": "code",
      "source": [
        "f_jit = jax.jit(f)"
      ],
      "metadata": {
        "id": "YlqTTZqijoo8"
      },
      "execution_count": 51,
      "outputs": []
    },
    {
      "cell_type": "markdown",
      "source": [
        "such that..."
      ],
      "metadata": {
        "id": "1EIrpqLMjw6l"
      }
    },
    {
      "cell_type": "code",
      "source": [
        "f_jit(x)"
      ],
      "metadata": {
        "colab": {
          "base_uri": "https://localhost:8080/"
        },
        "id": "g1HZPKNkjytV",
        "outputId": "2d58703c-9f67-4a89-b700-40fb201879e4"
      },
      "execution_count": 52,
      "outputs": [
        {
          "output_type": "execute_result",
          "data": {
            "text/plain": [
              "Array([499500., 499500., 499500., ..., 499500., 499500., 499500.],      dtype=float64)"
            ]
          },
          "metadata": {},
          "execution_count": 52
        }
      ]
    },
    {
      "cell_type": "code",
      "source": [
        "qe.tic()\n",
        "f_jit(x)\n",
        "time_y = qe.toc()"
      ],
      "metadata": {
        "colab": {
          "base_uri": "https://localhost:8080/"
        },
        "id": "qfYUBucjj1bJ",
        "outputId": "1d8b313e-a815-4f74-f9f1-36b0cf5d8502"
      },
      "execution_count": 54,
      "outputs": [
        {
          "output_type": "stream",
          "name": "stdout",
          "text": [
            "TOC: Elapsed: 0:00:0.09\n"
          ]
        }
      ]
    },
    {
      "cell_type": "markdown",
      "source": [
        "The speed gain can be computed as..."
      ],
      "metadata": {
        "id": "Sg9E9OtnlP2A"
      }
    },
    {
      "cell_type": "code",
      "source": [
        "speed_gain2 = time_x / time_y\n",
        "print(speed_gain2)"
      ],
      "metadata": {
        "colab": {
          "base_uri": "https://localhost:8080/"
        },
        "id": "z5Ydd3HJlVeb",
        "outputId": "ed3fe9f7-058f-4e43-e98b-3758b8d6cda8"
      },
      "execution_count": 55,
      "outputs": [
        {
          "output_type": "stream",
          "name": "stdout",
          "text": [
            "10.545248144304827\n"
          ]
        }
      ]
    },
    {
      "cell_type": "markdown",
      "source": [
        "## ***3.4. Functional Programming***"
      ],
      "metadata": {
        "id": "BIokcM-Flhej"
      }
    },
    {
      "cell_type": "markdown",
      "source": [
        "JAX assumes a functional programming style.\n",
        "\n",
        "The major implication is that JAX functions should be pure:\n",
        "\n",
        "*   No dependence on global variables.\n",
        "*   No side effects.\n",
        "\n",
        "\"A pure function will always return the same result if invoked with the same inputs.\"\n",
        "\n",
        "JAX will not usually throw errors when compiling impure functions but execution becomes unpredictable.\n",
        "\n",
        "Here's an illustration of this fact, using global variables:\n",
        "\n"
      ],
      "metadata": {
        "id": "RNKLBcqqlo87"
      }
    },
    {
      "cell_type": "code",
      "source": [
        "a = 1  # global\n",
        "\n",
        "@jax.jit\n",
        "def f(x):\n",
        "    return a + x\n"
      ],
      "metadata": {
        "id": "tSteSkxql9iI"
      },
      "execution_count": 56,
      "outputs": []
    },
    {
      "cell_type": "code",
      "source": [
        "x = jnp.ones(2)\n",
        "print(x)"
      ],
      "metadata": {
        "colab": {
          "base_uri": "https://localhost:8080/"
        },
        "id": "dkh2xNoEmA7e",
        "outputId": "8135da23-6a78-49c0-e41a-48fcb3da051e"
      },
      "execution_count": 57,
      "outputs": [
        {
          "output_type": "stream",
          "name": "stdout",
          "text": [
            "[1. 1.]\n"
          ]
        }
      ]
    },
    {
      "cell_type": "code",
      "source": [
        "f(x)"
      ],
      "metadata": {
        "colab": {
          "base_uri": "https://localhost:8080/"
        },
        "id": "NEK61jj9mFIo",
        "outputId": "84557820-2456-4c32-9ef7-2c9da3933290"
      },
      "execution_count": 58,
      "outputs": [
        {
          "output_type": "execute_result",
          "data": {
            "text/plain": [
              "Array([2., 2.], dtype=float64)"
            ]
          },
          "metadata": {},
          "execution_count": 58
        }
      ]
    },
    {
      "cell_type": "markdown",
      "source": [
        "In the code above, the global value a=1 is fused into the jitted function.\n",
        "\n",
        "Even if we change a, the output of f will not be affected --- as long as the same compiled version is called."
      ],
      "metadata": {
        "id": "prQhNaLUmO7q"
      }
    },
    {
      "cell_type": "code",
      "source": [
        "a = 42\n",
        "f(x)"
      ],
      "metadata": {
        "colab": {
          "base_uri": "https://localhost:8080/"
        },
        "id": "dJuQE0dWmOU4",
        "outputId": "d5a9b57f-9fe5-4023-b2f8-2b72baa1b502"
      },
      "execution_count": 59,
      "outputs": [
        {
          "output_type": "execute_result",
          "data": {
            "text/plain": [
              "Array([2., 2.], dtype=float64)"
            ]
          },
          "metadata": {},
          "execution_count": 59
        }
      ]
    },
    {
      "cell_type": "markdown",
      "source": [
        "Changing the dimension of the input triggers a fresh compilation of the function, at which time the change in the value of a takes effect:"
      ],
      "metadata": {
        "id": "HjzUsQz7mVsk"
      }
    },
    {
      "cell_type": "code",
      "source": [
        "x = np.ones(3)\n",
        "f(x)"
      ],
      "metadata": {
        "colab": {
          "base_uri": "https://localhost:8080/"
        },
        "id": "ARGx3kqdmbZh",
        "outputId": "13ee952c-1254-48a5-9d08-841e395a7373"
      },
      "execution_count": 60,
      "outputs": [
        {
          "output_type": "execute_result",
          "data": {
            "text/plain": [
              "Array([43., 43., 43.], dtype=float64)"
            ]
          },
          "metadata": {},
          "execution_count": 60
        }
      ]
    },
    {
      "cell_type": "markdown",
      "source": [
        "## ***3.5. Gradients***\n"
      ],
      "metadata": {
        "id": "MmDVDRMjmkpT"
      }
    },
    {
      "cell_type": "markdown",
      "source": [
        "JAX can use automatic differentiation to compute gradients.\n",
        "\n",
        "This can be extremely useful in optimization, root finding and other applications.\n",
        "\n",
        "Here's a very simple illustration, involving the function"
      ],
      "metadata": {
        "id": "ItVgPehHmp9q"
      }
    },
    {
      "cell_type": "code",
      "source": [
        "def f(x):\n",
        "    return (x**2) / 2"
      ],
      "metadata": {
        "id": "_o33a15Fmt6c"
      },
      "execution_count": 61,
      "outputs": []
    },
    {
      "cell_type": "markdown",
      "source": [
        "Let's take the derivative:"
      ],
      "metadata": {
        "id": "1yQA7MrZmyKz"
      }
    },
    {
      "cell_type": "code",
      "source": [
        "f_prime = jax.grad(f)\n"
      ],
      "metadata": {
        "id": "GbKUb7AJm0pA"
      },
      "execution_count": 62,
      "outputs": []
    },
    {
      "cell_type": "code",
      "source": [
        "# Grad does not run with integers or bolians\n",
        "f_prime(10.0)"
      ],
      "metadata": {
        "colab": {
          "base_uri": "https://localhost:8080/"
        },
        "id": "aKQRsQjCnBZG",
        "outputId": "0d6ae5c1-fe96-4384-dbb4-b34052d10764"
      },
      "execution_count": 63,
      "outputs": [
        {
          "output_type": "execute_result",
          "data": {
            "text/plain": [
              "Array(10., dtype=float64, weak_type=True)"
            ]
          },
          "metadata": {},
          "execution_count": 63
        }
      ]
    },
    {
      "cell_type": "markdown",
      "source": [
        "Let's plot the function and derivative, noting that...\n",
        "\n",
        "$$f'(x)=x$$"
      ],
      "metadata": {
        "id": "qCnMzV2-nfdg"
      }
    },
    {
      "cell_type": "code",
      "source": [
        "plt.style.use('fivethirtyeight')\n",
        "fig, ax = plt.subplots()\n",
        "x_grid = jnp.linspace(-4, 4, 200)\n",
        "ax.plot(x_grid, f(x_grid), label=\"$f$\")\n",
        "ax.plot(x_grid, [f_prime(x) for x in x_grid], label=\"$f'$\")\n",
        "ax.legend(loc='upper center')\n",
        "plt.show()"
      ],
      "metadata": {
        "colab": {
          "base_uri": "https://localhost:8080/",
          "height": 546
        },
        "id": "YSyxsGWrnj_8",
        "outputId": "7acc06f0-0526-47e5-e951-2b145c8d9b06"
      },
      "execution_count": 64,
      "outputs": [
        {
          "output_type": "display_data",
          "data": {
            "text/plain": [
              "<Figure size 1000x600 with 1 Axes>"
            ],
            "image/png": "[encoded data removed]"
          },
          "metadata": {}
        }
      ]
    }
  ]
}