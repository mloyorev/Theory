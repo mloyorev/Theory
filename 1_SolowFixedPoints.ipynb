{
  "nbformat": 4,
  "nbformat_minor": 0,
  "metadata": {
    "colab": {
      "provenance": [],
      "authorship_tag": "ABX9TyPG7Y49cD+t1jvDcuumTzdw",
      "include_colab_link": true
    },
    "kernelspec": {
      "name": "python3",
      "display_name": "Python 3"
    },
    "language_info": {
      "name": "python"
    }
  },
  "cells": [
    {
      "cell_type": "markdown",
      "metadata": {
        "id": "view-in-github",
        "colab_type": "text"
      },
      "source": [
        "<a href=\"https://colab.research.google.com/github/mloyorev/Theory/blob/main/1_SolowFixedPoints.ipynb\" target=\"_parent\"><img src=\"https://colab.research.google.com/assets/colab-badge.svg\" alt=\"Open In Colab\"/></a>"
      ]
    },
    {
      "cell_type": "markdown",
      "source": [
        "We use the following **imports**:\n",
        "\n",
        "\n",
        "*   **Numpy:** Python library used to perform efficient numeric operations on matrices and multidimensional arrays.\n",
        "*   **Matplotlib.pyplot:** Python's Matplotlib library and is used to create graphs and data visualizations.\n",
        "*   **Namedtuple:** Import the namedtuple class from the collections module. Namedtuple is a factory function that allows you to create tuples with predefined field names.\n",
        "\n",
        "\n",
        "\n",
        "\n"
      ],
      "metadata": {
        "id": "elvmZWWP-Pm6"
      }
    },
    {
      "cell_type": "code",
      "execution_count": 1,
      "metadata": {
        "id": "T69iCe3e9k16"
      },
      "outputs": [],
      "source": [
        "import numpy as np\n",
        "import matplotlib.pyplot as plt\n",
        "from collections import namedtuple"
      ]
    },
    {
      "cell_type": "markdown",
      "source": [
        "# **Capital stock dynamics**"
      ],
      "metadata": {
        "id": "jYwMmNv59s3I"
      }
    },
    {
      "cell_type": "markdown",
      "source": [
        "Assuming a Cobb-Douglas production technology $y_t=Ak_t^α$ and an utility function $u(c_t)=\\log (c_{t})$, **the problem of a dynamic economy with production, capital stock and consumption** consist in\n",
        "\n",
        "$$\\max_{\\left\\{ c_t, k_{t+1} \\right\\}}∑_{t=0}^∞β^{t}\\log (c_{t}) \\hspace 0.2cm s.t. \\hspace 0.2cm Ak_t^α=c_t+k_{t+1}-(1-\\delta)k_t$$\n"
      ],
      "metadata": {
        "id": "4AdHJ65n_rZ6"
      }
    },
    {
      "cell_type": "markdown",
      "source": [
        "We store the parameters of the model in a **namedtuple**, which will help us to create a tuple with predefined field names for each of the model parameters.\n"
      ],
      "metadata": {
        "id": "z0SJA0ZJCaRQ"
      }
    },
    {
      "cell_type": "code",
      "source": [
        "SolowParameters = namedtuple(\"SolowParameters\", ('A','alpha', 'beta','delta')) # A is the TFP\n",
        "                                                                               # alpha is the elasticity of the production wrt the capital stock\n",
        "                                                                               # beta is the discount factor\n",
        "                                                                               # delta is the depreciation rate"
      ],
      "metadata": {
        "id": "ay3VyCPfCYI1"
      },
      "execution_count": 2,
      "outputs": []
    },
    {
      "cell_type": "markdown",
      "source": [
        "Then we define a function that assign default values for the parameters defined in the *namedtuple* above."
      ],
      "metadata": {
        "id": "xkfrWtBODYWe"
      }
    },
    {
      "cell_type": "code",
      "source": [
        "# Set default values for the parameters of the model\n",
        "def create_solow_params(A = 2, alpha = 0.3, beta = 0.5, delta = 0.6):\n",
        "  return SolowParameters(A = A, alpha = alpha, beta = beta, delta = delta)"
      ],
      "metadata": {
        "id": "oIW6yBZ9DUVb"
      },
      "execution_count": 3,
      "outputs": []
    },
    {
      "cell_type": "code",
      "source": [
        "print(create_solow_params())"
      ],
      "metadata": {
        "colab": {
          "base_uri": "https://localhost:8080/"
        },
        "id": "TL7N71i0ER4i",
        "outputId": "90338c80-2229-4640-dbe7-68fa32708d19"
      },
      "execution_count": 4,
      "outputs": [
        {
          "output_type": "stream",
          "name": "stdout",
          "text": [
            "SolowParameters(A=2, alpha=0.3, beta=0.5, delta=0.6)\n"
          ]
        }
      ]
    },
    {
      "cell_type": "markdown",
      "source": [
        "The important thing about 'namedtuple' is that **you can change the values ​​of the default parameters** just by calling them again. For example...\n"
      ],
      "metadata": {
        "id": "HBDNlHVeEZST"
      }
    },
    {
      "cell_type": "code",
      "source": [
        "eg_parameters = create_solow_params(alpha = 0.7)\n",
        "print(eg_parameters)"
      ],
      "metadata": {
        "id": "bLrE9kHyEyT3",
        "colab": {
          "base_uri": "https://localhost:8080/"
        },
        "outputId": "a71c4ee1-40f7-4467-b462-1bc226f6318c"
      },
      "execution_count": 5,
      "outputs": [
        {
          "output_type": "stream",
          "name": "stdout",
          "text": [
            "SolowParameters(A=2, alpha=0.7, beta=0.5, delta=0.6)\n"
          ]
        }
      ]
    },
    {
      "cell_type": "markdown",
      "source": [
        "By solving analytically we can introduce **specific functions for the capital stock and savings rate in SS**$^{1}$.\n",
        "\n",
        "$$s_{ss}=\\frac{αβδ}{1-β(1-δ)}$$\n",
        "\n",
        "$$k_{ss}=\\left(\\frac{s_{ss}A}{δ}\\right)^{\\frac{1}{1-α}}$$"
      ],
      "metadata": {
        "id": "I5MIwr2XFTzY"
      }
    },
    {
      "cell_type": "code",
      "source": [
        "# Create a function that returns the savings rate of SS\n",
        "def s_savings(params):\n",
        "  A, alpha, beta, delta = params\n",
        "  return round((alpha * beta * delta) / (1 - beta * (1 - delta)),4)\n",
        "\n",
        "# Create a function that returns the capital stock of SS\n",
        "def s_capital(s, params):\n",
        "  A, alpha, beta, delta = params\n",
        "  return round(((s * A) / delta) ** (1 / (1 - alpha)),4)"
      ],
      "metadata": {
        "id": "NcEFGDE0HiK5"
      },
      "execution_count": 18,
      "outputs": []
    },
    {
      "cell_type": "markdown",
      "source": [
        "For example, for the default parameters we have..."
      ],
      "metadata": {
        "id": "dJdP3N9JrOq3"
      }
    },
    {
      "cell_type": "code",
      "source": [
        "model = create_solow_params()\n",
        "sss = s_savings(model)\n",
        "kss = s_capital(sss, model)\n",
        "\n",
        "print('The default parameter values are:',model)\n",
        "print('The SS savings rate is:',sss)\n",
        "print('The SS capital stock is:',kss)"
      ],
      "metadata": {
        "colab": {
          "base_uri": "https://localhost:8080/"
        },
        "id": "Bps7l_tzrSry",
        "outputId": "5cc9403e-5a8d-4f62-ced3-26c18828294c"
      },
      "execution_count": 19,
      "outputs": [
        {
          "output_type": "stream",
          "name": "stdout",
          "text": [
            "The default parameter values are: SolowParameters(A=2, alpha=0.3, beta=0.5, delta=0.6)\n",
            "The SS savings rate is: 0.1125\n",
            "The SS capital stock is: 0.2463\n"
          ]
        }
      ]
    },
    {
      "cell_type": "markdown",
      "source": [
        "Given this SS savings rate, we could define a function for the **law of motion for capital stock**\n",
        "\n",
        "$$g(k_t)=k_{t+1}=s_{ss}Ak_t^α+(1-δ)k_t$$"
      ],
      "metadata": {
        "id": "MmmaLLjqsTrh"
      }
    },
    {
      "cell_type": "code",
      "source": [
        "# Create a function that returns the law of motion of capital\n",
        "def g(s, k, params):\n",
        "  A, alpha, beta, delta = params\n",
        "  return s * A * k ** alpha + (1 - delta) * k"
      ],
      "metadata": {
        "id": "-pKhBP7etAwe"
      },
      "execution_count": 20,
      "outputs": []
    },
    {
      "cell_type": "markdown",
      "source": [
        "Under the assumption that $g(k_t)$ is a contraction mapping, we define a **succesive aproximation function** to obtain the steady state capital stock by means of iterations of the operator."
      ],
      "metadata": {
        "id": "oIDuOvXitwPG"
      }
    },
    {
      "cell_type": "code",
      "source": [
        "def successive_approx(f,                     # Operator\n",
        "                      params,                # Parameters for the transformation\n",
        "                      s,                     # Savings rate\n",
        "                      k_0,                   # Initial condition\n",
        "                      tolerance=1e-6,        # Error tolerance\n",
        "                      ):\n",
        "    k = k_0                               # Initilize capital stock and error\n",
        "    error = tolerance + 1\n",
        "    while error > tolerance:              # The algorithm keeps iterating while error > tolerance\n",
        "        k_new = f(s, k, params)           # Apply the operator\n",
        "        error = np.max(np.abs(k_new - k)) # Update the error with the supremum norm\n",
        "        k     = k_new                     # Udate capital stock\n",
        "    return round(k,4)                     # Round the result to 4 decimal places"
      ],
      "metadata": {
        "id": "1J8TTDQQI53n"
      },
      "execution_count": 21,
      "outputs": []
    },
    {
      "cell_type": "markdown",
      "source": [
        "We can test this function with the default parameters."
      ],
      "metadata": {
        "id": "cEmNJSk-XVJT"
      }
    },
    {
      "cell_type": "code",
      "source": [
        "k_0 = 0.01\n",
        "successive_approx(g , model, sss, k_0, tolerance = 0)"
      ],
      "metadata": {
        "colab": {
          "base_uri": "https://localhost:8080/"
        },
        "id": "paVlNne_UNON",
        "outputId": "7f48f070-5493-46f5-e83b-ba9ab93e38f9"
      },
      "execution_count": 22,
      "outputs": [
        {
          "output_type": "execute_result",
          "data": {
            "text/plain": [
              "0.2463"
            ]
          },
          "metadata": {},
          "execution_count": 22
        }
      ]
    },
    {
      "cell_type": "markdown",
      "source": [
        "We can verify that the successive approximation function is correct, since we arrive to the same SS as with the formula for steady state capital stock defined above."
      ],
      "metadata": {
        "id": "Z8ikIhS2XiK1"
      }
    },
    {
      "cell_type": "code",
      "source": [
        "kss = s_capital(sss, model)\n",
        "print(kss)"
      ],
      "metadata": {
        "colab": {
          "base_uri": "https://localhost:8080/"
        },
        "id": "Baatr-VTXz-g",
        "outputId": "0ef18774-d6fc-4138-ff18-eb02c6913a64"
      },
      "execution_count": 23,
      "outputs": [
        {
          "output_type": "stream",
          "name": "stdout",
          "text": [
            "0.2463\n"
          ]
        }
      ]
    },
    {
      "cell_type": "markdown",
      "source": [
        "We can also define a function that shows the sequence of the first 30 values ​​that the capital stock takes before reaching the steady state."
      ],
      "metadata": {
        "id": "6lBMMYOsYkWZ"
      }
    },
    {
      "cell_type": "code",
      "source": [
        "def compute_iterates(k_0, s, f, params, n=30):\n",
        "    k = k_0\n",
        "    k_iterates = []             # We'll create an empty list to store the string values.\n",
        "    for t in range(n):          # Exectute the function n times (from 0 to n-1).\n",
        "        k = f(s, k, params)     # Update the current value of k by evaluating it in f, and so on.\n",
        "        k_iterates.append(k)    # Add each value of a k to the list of k_itearates\n",
        "    return k_iterates"
      ],
      "metadata": {
        "id": "o6d7AmJBYyH6"
      },
      "execution_count": 25,
      "outputs": []
    },
    {
      "cell_type": "code",
      "source": [
        "k_series = compute_iterates(k_0, sss, g, model)\n",
        "print(k_series)"
      ],
      "metadata": {
        "colab": {
          "base_uri": "https://localhost:8080/"
        },
        "id": "yKXrgONcZMwd",
        "outputId": "12e008c8-51e0-4b27-84f0-1a46052638f3"
      },
      "execution_count": 26,
      "outputs": [
        {
          "output_type": "stream",
          "name": "stdout",
          "text": [
            "[0.060517444708965556, 0.12120138499939069, 0.1679439325546743, 0.1989218667579116, 0.21817642081430172, 0.2297738487690886, 0.23664425033649406, 0.2406773508376268, 0.2430327589981683, 0.24440434335483374, 0.24520169380885815, 0.24566477299192097, 0.24593356607324685, 0.24608953573954953, 0.24618002158453164, 0.24623251125904227, 0.2462629579225192, 0.24628061787954497, 0.24629086095475683, 0.24629680203934534, 0.24630024790237143, 0.24630224651435229, 0.2463034057131448, 0.24630407804973745, 0.24630446800539613, 0.2463046941798245, 0.2463048253610422, 0.24630490144616501, 0.2463049455755418, 0.2463049711705822]\n"
          ]
        }
      ]
    },
    {
      "cell_type": "markdown",
      "source": [
        "Now here we have a function to provide a 45 degree of the dynamics with dots indicating progress of the succesive aproximation function."
      ],
      "metadata": {
        "id": "D1u3iwoVYHWx"
      }
    },
    {
      "cell_type": "code",
      "source": [
        "def plot_45(s, params, kiter, ax, fontsize=14):\n",
        "    dev = 0.9\n",
        "    k_min, k_max = 0, (1 + 0.9) * s_capital(s, params)  # k_min y k_max indicate the minimum and maximum values ​​for k.\n",
        "    k_grid       = np.linspace(k_min, k_max, 1200)      # Gives a sequence of 1200 equidistant points in the established range.\n",
        "\n",
        "    # Plot the functions\n",
        "    lb = r\"$g(k) = sAk^{\\alpha} + (1 - \\delta)k$\"                                     # Define the label.\n",
        "    ax.plot(k_grid, g(s, k_grid, params),  lw=2, alpha=0.6, label=lb, color = 'blue') # Plot g(x) on the graph by evaluating the values ​​of k_grid on it.\n",
        "    ax.plot(k_grid, k_grid, \"k--\", lw=1, alpha=0.7, label=\"45\")                       # Order to graph a 45 degree line\n",
        "    ax.plot(kiter[:-1], kiter[1:], \"ro\", ms=10, alpha=0.6, color = 'green')           # Order to graph the first 30 iterations\n",
        "\n",
        "    # Show and annotate the fixed point\n",
        "    kstar = s_capital(s, params)\n",
        "    fps = (kstar,)\n",
        "    ax.plot(fps, fps, \"go\", ms=10, alpha=0, color = 'green')       # Graph a red point where k* is located\n",
        "    ax.annotate(r\"$k_{ss} =$\"+ str(round(s_capital(s, params),4)), # Display the fixed point formula on the graph\n",
        "             xy=(kstar, kstar),\n",
        "             xycoords=\"data\",\n",
        "             xytext=(20, -20),\n",
        "             textcoords=\"offset points\",\n",
        "             fontsize=fontsize)\n",
        "\n",
        "    # Legend of the chart\n",
        "    ax.legend(loc=\"upper left\", frameon=False, fontsize=fontsize)\n",
        "\n",
        "    # Define the axis.\n",
        "    ax.set_yticks((0, 1, 2, 3))                          # Establish the values in the y-axis\n",
        "    ax.set_yticklabels((0, 1, 2, 3), fontsize=fontsize)  # Establish the labels for the values in y-axis.\n",
        "    ax.set_ylim(0, np.max(g(s, k_grid, params)))         # Sets the y-axis limits\n",
        "    ax.set_xlabel(\"$k_t$\", fontsize=fontsize)\n",
        "    ax.set_ylabel(\"$k_{t+1}$\", fontsize=fontsize)\n",
        "\n",
        "    return plt.show\n"
      ],
      "metadata": {
        "id": "cyuLnSeZaGh2"
      },
      "execution_count": 27,
      "outputs": []
    },
    {
      "cell_type": "code",
      "source": [
        "params  = create_solow_params()\n",
        "fig, ax = plt.subplots(figsize=(6, 6))\n",
        "plot_45(sss, params, k_series, ax)"
      ],
      "metadata": {
        "colab": {
          "base_uri": "https://localhost:8080/",
          "height": 657
        },
        "id": "ZVzoywcqJnUw",
        "outputId": "93956ad4-3398-4af4-8ee2-dda2009d35c5"
      },
      "execution_count": 28,
      "outputs": [
        {
          "output_type": "stream",
          "name": "stderr",
          "text": [
            "<ipython-input-27-c3d4a1fdda57>:10: UserWarning: color is redundantly defined by the 'color' keyword argument and the fmt string \"ro\" (-> color='r'). The keyword argument will take precedence.\n",
            "  ax.plot(kiter[:-1], kiter[1:], \"ro\", ms=10, alpha=0.6, color = 'green')           # Order to graph the first 30 iterations\n",
            "<ipython-input-27-c3d4a1fdda57>:15: UserWarning: color is redundantly defined by the 'color' keyword argument and the fmt string \"go\" (-> color='g'). The keyword argument will take precedence.\n",
            "  ax.plot(fps, fps, \"go\", ms=10, alpha=0, color = 'green')       # Graph a red point where k* is located\n"
          ]
        },
        {
          "output_type": "execute_result",
          "data": {
            "text/plain": [
              "<function matplotlib.pyplot.show(close=None, block=None)>"
            ]
          },
          "metadata": {},
          "execution_count": 28
        },
        {
          "output_type": "display_data",
          "data": {
            "text/plain": [
              "<Figure size 600x600 with 1 Axes>"
            ],
            "image/png": "[encoded data removed]"
          },
          "metadata": {}
        }
      ]
    },
    {
      "cell_type": "markdown",
      "source": [
        "Thus, we have already defined the following functions:\n",
        "\n",
        "\n",
        "*   SS capital stock, **s_capital**.\n",
        "*   SS savings rate, **s_capital**.\n",
        "*   Conevergence of capital stock, **compute_iterates**.\n",
        "*   Graph of the capital stock dynamics, **plot_45**\n",
        "\n"
      ],
      "metadata": {
        "id": "8j8-EhyWMHCe"
      }
    },
    {
      "cell_type": "markdown",
      "source": [
        "Given all this functions, it is possible to create a new function that solves the model for any set of parameters. For example, imagine the case in which\n",
        "\n",
        "1.   The TFP increase to $A=50$.\n",
        "2.   The elasticity of the production with respect to capital stock decrease to $\\alpha=0.05$.\n",
        "3.   The economy stops being impatient such that $\\beta=1$.\n",
        "4.   The depreciation rate increase to $\\delta=0.8$\n",
        "\n"
      ],
      "metadata": {
        "id": "4sEYwVPn7kEb"
      }
    },
    {
      "cell_type": "code",
      "source": [
        "def solve_solow(p_model):\n",
        "  # STEP 1: Get the SS savings rate.\n",
        "  s_ss     = s_savings(p_model)\n",
        "\n",
        "  # STEP 2: Get the SS capital stock.\n",
        "  k_ss     = s_capital(s_ss, p_model)\n",
        "\n",
        "  # STEP 3: Get the first 30 values ​​that the capital stock takes before reaching the SS.\n",
        "  k_series = compute_iterates(0.01, s_ss, g, p_model)\n",
        "\n",
        "  # STEP 4: Get the graph of capital stock dynamics\n",
        "  fig, ax  = plt.subplots(figsize=(6, 6))\n",
        "\n",
        "  return plot_45(s_ss, p_model, k_series, ax)\n"
      ],
      "metadata": {
        "id": "facvYchh7jis"
      },
      "execution_count": 29,
      "outputs": []
    },
    {
      "cell_type": "code",
      "source": [
        "p_model = create_solow_params(A = 50, alpha = 0.05, beta = 1, delta = 0.8)\n",
        "solve_solow(p_model)"
      ],
      "metadata": {
        "colab": {
          "base_uri": "https://localhost:8080/",
          "height": 657
        },
        "id": "_KfwGaciLxE8",
        "outputId": "e19be239-a335-4b3e-d045-a5c94081668c"
      },
      "execution_count": 30,
      "outputs": [
        {
          "output_type": "stream",
          "name": "stderr",
          "text": [
            "<ipython-input-27-c3d4a1fdda57>:10: UserWarning: color is redundantly defined by the 'color' keyword argument and the fmt string \"ro\" (-> color='r'). The keyword argument will take precedence.\n",
            "  ax.plot(kiter[:-1], kiter[1:], \"ro\", ms=10, alpha=0.6, color = 'green')           # Order to graph the first 30 iterations\n",
            "<ipython-input-27-c3d4a1fdda57>:15: UserWarning: color is redundantly defined by the 'color' keyword argument and the fmt string \"go\" (-> color='g'). The keyword argument will take precedence.\n",
            "  ax.plot(fps, fps, \"go\", ms=10, alpha=0, color = 'green')       # Graph a red point where k* is located\n"
          ]
        },
        {
          "output_type": "execute_result",
          "data": {
            "text/plain": [
              "<function matplotlib.pyplot.show(close=None, block=None)>"
            ]
          },
          "metadata": {},
          "execution_count": 30
        },
        {
          "output_type": "display_data",
          "data": {
            "text/plain": [
              "<Figure size 600x600 with 1 Axes>"
            ],
            "image/png": "[encoded data removed]"
          },
          "metadata": {}
        }
      ]
    },
    {
      "cell_type": "markdown",
      "source": [
        "Graphically it is possible to see that **there is a single fixed point**, however, it is necessary to prove it formally.\n",
        "\n",
        "There's a lot of posible proofs of why the fixed point exists and is unique, but the simplest way to do it is by means of the slopes of the functions involved.\n",
        "\n",
        "First of all, the slope of the identity function is equal to $1$.\n",
        "\n",
        "On the other hand, since $\\alpha\\in[0,1]$, we have that $\\forall x_{1},x_{2}$ such that $x_{1}\\leq x_{2}$\n",
        "\n",
        "$$x_{1}\\leq x_{2}$$\n",
        "\n",
        "$$x_{1}^{\\alpha}\\leq x_{2}^{\\alpha}$$\n",
        "\n",
        "$$s_{ss}Ax_{1}^{\\alpha}\\leq s_{ss}Ax_{2}^{\\alpha}$$\n",
        "\n",
        "$$s_{ss}Ax_{1}^{\\alpha}+(1-δ)x_{1}\\leq s_{ss}Ax_{2}^{\\alpha}+(1-δ)x_{2}$$\n",
        "\n",
        "which means that $g(x_{1})\\leq g(x_{2})$. Thus, the law of motion of capital stock is **monotone**.\n",
        "\n",
        "We also know that\n",
        "\n",
        "$$g'(k)=\\frac{αs_{ss}A}{k^{1-α}}+(1-\\delta)$$\n",
        "\n",
        "such that\n",
        "\n",
        "$$\\lim_{k→0}g'(k)=∞$$     $$\\lim_{k→∞}g'(k)=1-\\delta$$.\n",
        "\n",
        "which means that the law of motion of capital $g$ satisfies **Inada conditions**.\n",
        "\n",
        "Given that the law of motion of capital stock is monotone and that it's slope tend to be equal to $1-\\delta<1$, then it is evident that there is a unique point in which the law of motion of capital intersects with the identity function.\n",
        "\n",
        "Therefore, the **solution exists and it is unique**.\n"
      ],
      "metadata": {
        "id": "QrEh-EPS1DxD"
      }
    },
    {
      "cell_type": "markdown",
      "source": [
        "## **Appendix**\n",
        "\n",
        "$^{1}$In order to obtain the SS capital stock we just have to clear the law of motion of capital wrt to $k_{ss}$.\n",
        "\n",
        "$$k_{ss}=s_{ss}Ak_{ss}^α+(1-δ)k_{ss}$$\n",
        "\n",
        "$$\\delta k_{ss}=s_{ss}Ak_{ss}^α$$\n",
        "\n",
        "$$k_{ss}^{1-\\alpha}=\\frac{s_{ss}A}{\\delta}$$\n",
        "\n",
        "$$k_{ss}=\\left(\\frac{s_{ss}A}{\\delta}\\right)^{\\frac{1}{1-\\alpha}}$$\n",
        "\n",
        "On the other hand, we have that the FOC of the consumer's problem are given by:\n",
        "\n",
        "$$c_{t}:\\frac{\\beta^{t}}{c_{t}}=\\lambda_{t}$$\n",
        "\n",
        "$$k_{t}:\\frac{\\alpha y_{t+1}}{k_{t}}=\\frac{\\lambda_{t}}{\\lambda_{t+1}}-(1-\\delta)$$\n",
        "\n",
        "such that in steady state\n",
        "\n",
        "$$\\frac{y_{ss}}{k_{ss}}=\\frac{1-\\beta(1-\\delta)}{\\alpha\\beta}$$\n",
        "\n",
        "Therefore, since $i_{ss}=s_{ss} y_{ss}=\\delta k_{ss}$,\n",
        "\n",
        "$$s_{ss}=\\frac{\\alpha\\beta\\delta}{1-\\beta(1-\\delta)}$$\n",
        "\n"
      ],
      "metadata": {
        "id": "nsL767PUBeTR"
      }
    }
  ]
}