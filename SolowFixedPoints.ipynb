{
  "nbformat": 4,
  "nbformat_minor": 0,
  "metadata": {
    "colab": {
      "provenance": [],
      "authorship_tag": "ABX9TyMMqdRjXklYsQ3ZCVVLhvlp",
      "include_colab_link": true
    },
    "kernelspec": {
      "name": "python3",
      "display_name": "Python 3"
    },
    "language_info": {
      "name": "python"
    }
  },
  "cells": [
    {
      "cell_type": "markdown",
      "metadata": {
        "id": "view-in-github",
        "colab_type": "text"
      },
      "source": [
        "<a href=\"https://colab.research.google.com/github/mloyorev/Theory/blob/main/SolowFixedPoints.ipynb\" target=\"_parent\"><img src=\"https://colab.research.google.com/assets/colab-badge.svg\" alt=\"Open In Colab\"/></a>"
      ]
    },
    {
      "cell_type": "markdown",
      "source": [
        "We use the following **imports**:\n",
        "\n",
        "\n",
        "*   **Numpy:** Python library used to perform efficient numeric operations on matrices and multidimensional arrays.\n",
        "*   **Matplotlib.pyplot:** Python's Matplotlib library and is used to create graphs and data visualizations.\n",
        "*   **Namedtuple:** Import the namedtuple class from the collections module. Namedtuple is a factory function that allows you to create tuples with predefined field names.\n",
        "\n",
        "\n",
        "\n",
        "\n"
      ],
      "metadata": {
        "id": "elvmZWWP-Pm6"
      }
    },
    {
      "cell_type": "code",
      "execution_count": 1,
      "metadata": {
        "id": "T69iCe3e9k16"
      },
      "outputs": [],
      "source": [
        "import numpy as np\n",
        "import matplotlib.pyplot as plt\n",
        "from collections import namedtuple"
      ]
    },
    {
      "cell_type": "markdown",
      "source": [
        "# **Capital stock dynamics**"
      ],
      "metadata": {
        "id": "jYwMmNv59s3I"
      }
    },
    {
      "cell_type": "markdown",
      "source": [
        "Assuming a Cobb-Douglas production technology $y_t=Ak_t^α$ and an utility function $u(c_t)$, **the problem of a dynamic economy with production, capital stock and consumption** consist in\n",
        "\n",
        "$$\\max_{\\left\\{ c_t, k_{t+1} \\right\\}}∑_{t=0}^∞β^{t}u(c_t) \\hspace 0.2cm s.a. \\hspace 0.2cm Ak_t^α=c_t+k_{t+1}-(1-\\delta)k_t$$\n"
      ],
      "metadata": {
        "id": "4AdHJ65n_rZ6"
      }
    },
    {
      "cell_type": "markdown",
      "source": [
        "We store the parameters of the model in a **namedtuple**, which will help us to create a tuple with predefined field names for each of the model parameters.\n"
      ],
      "metadata": {
        "id": "z0SJA0ZJCaRQ"
      }
    },
    {
      "cell_type": "code",
      "source": [
        "SolowParameters = namedtuple(\"SolowParameters\", ('A','α', 'β','δ'))"
      ],
      "metadata": {
        "id": "ay3VyCPfCYI1"
      },
      "execution_count": 2,
      "outputs": []
    },
    {
      "cell_type": "markdown",
      "source": [
        "Then we define a function that assign default values for the parameters defined in the 'namedtuple' above."
      ],
      "metadata": {
        "id": "xkfrWtBODYWe"
      }
    },
    {
      "cell_type": "code",
      "source": [
        "# Set default values for the parameters of the model\n",
        "def create_solow_params(A = 2, α = 0.3, β = 0.5, δ = 0.6):\n",
        "  return SolowParameters(A = A, α = α, β = β, δ = δ)"
      ],
      "metadata": {
        "id": "oIW6yBZ9DUVb"
      },
      "execution_count": 4,
      "outputs": []
    },
    {
      "cell_type": "code",
      "source": [
        "print(create_solow_params())"
      ],
      "metadata": {
        "colab": {
          "base_uri": "https://localhost:8080/"
        },
        "id": "TL7N71i0ER4i",
        "outputId": "b3c68141-6fe9-4081-b5e3-80110133a082"
      },
      "execution_count": 5,
      "outputs": [
        {
          "output_type": "stream",
          "name": "stdout",
          "text": [
            "SolowParameters(A=2, α=0.3, β=0.5, δ=0.6)\n"
          ]
        }
      ]
    },
    {
      "cell_type": "markdown",
      "source": [
        "The important thing about 'namedtuple' is that **you can change the values ​​of the default parameters** just by calling them again. For example...\n"
      ],
      "metadata": {
        "id": "HBDNlHVeEZST"
      }
    },
    {
      "cell_type": "code",
      "source": [
        "eg_parameters = create_solow_params(α = 0.7, β = 0.5 )"
      ],
      "metadata": {
        "id": "bLrE9kHyEyT3"
      },
      "execution_count": 6,
      "outputs": []
    },
    {
      "cell_type": "code",
      "source": [
        "print(eg_parameters)"
      ],
      "metadata": {
        "colab": {
          "base_uri": "https://localhost:8080/"
        },
        "id": "ZFUp4jetE-R3",
        "outputId": "d71dd3d8-dae8-44d5-85c0-6f4fe623f01e"
      },
      "execution_count": 7,
      "outputs": [
        {
          "output_type": "stream",
          "name": "stdout",
          "text": [
            "SolowParameters(A=2, α=0.7, β=0.5, δ=0.6)\n"
          ]
        }
      ]
    },
    {
      "cell_type": "markdown",
      "source": [
        "By solving analytically we can introduce **specific functions for the capital stock and savings rate is SS**$^{1}$.\n",
        "\n",
        "$$s_{ss}=\\frac{αβδ}{1-β(1-δ)}$$\n",
        "\n",
        "$$k_{ss}=\\left(\\frac{s_{ss}A}{δ}\\right)^{\\frac{1}{1-α}}$$"
      ],
      "metadata": {
        "id": "I5MIwr2XFTzY"
      }
    },
    {
      "cell_type": "code",
      "source": [
        "# Create a function that returns the savings rate of SS\n",
        "def s_savings(params):\n",
        "  A, α, β, δ = params\n",
        "  return (α * β * δ) / (1 - β * (1 - δ))\n",
        "\n",
        "# Create a function that returns the capital stock of SS\n",
        "def s_capital(s, params):\n",
        "  A, α, β, δ = params\n",
        "  return ((s * A) / δ) ** (1 / (1 - α))"
      ],
      "metadata": {
        "id": "NcEFGDE0HiK5"
      },
      "execution_count": 17,
      "outputs": []
    },
    {
      "cell_type": "markdown",
      "source": [
        "For example, for the default parameters we have..."
      ],
      "metadata": {
        "id": "dJdP3N9JrOq3"
      }
    },
    {
      "cell_type": "code",
      "source": [
        "model = create_solow_params()\n",
        "print('The default parameter values are:',model)"
      ],
      "metadata": {
        "colab": {
          "base_uri": "https://localhost:8080/"
        },
        "id": "Bps7l_tzrSry",
        "outputId": "ce51f59d-40d9-4e3e-c05a-b2771fdfcb92"
      },
      "execution_count": 14,
      "outputs": [
        {
          "output_type": "stream",
          "name": "stdout",
          "text": [
            "The default parameter values are: SolowParameters(A=2, α=0.3, β=0.5, δ=0.6)\n"
          ]
        }
      ]
    },
    {
      "cell_type": "code",
      "source": [
        "sss = s_savings(model)\n",
        "print('The SS savings rate is:',sss)"
      ],
      "metadata": {
        "colab": {
          "base_uri": "https://localhost:8080/"
        },
        "id": "YR6RiTRHrh73",
        "outputId": "282c0ce4-e561-4093-cb6f-a33079abfc09"
      },
      "execution_count": 15,
      "outputs": [
        {
          "output_type": "stream",
          "name": "stdout",
          "text": [
            "The SS savings rate is: 0.11249999999999999\n"
          ]
        }
      ]
    },
    {
      "cell_type": "code",
      "source": [
        "kss = s_capital(sss, model)\n",
        "print('The SS capital stock is:',kss)"
      ],
      "metadata": {
        "colab": {
          "base_uri": "https://localhost:8080/"
        },
        "id": "I-5WxOL7sFiw",
        "outputId": "e81e1611-a3b0-48a0-bebc-0848b7d3ea51"
      },
      "execution_count": 16,
      "outputs": [
        {
          "output_type": "stream",
          "name": "stdout",
          "text": [
            "The SS capital stock is: 0.24630500651611642\n"
          ]
        }
      ]
    },
    {
      "cell_type": "markdown",
      "source": [
        "Given this SS savings rate, we could define a function for the **law of motion for capital stock**\n",
        "\n",
        "$$g(k_t)=k_{t+1}=s_{ss}Ak_t^α+(1-δ)k_t$$"
      ],
      "metadata": {
        "id": "MmmaLLjqsTrh"
      }
    },
    {
      "cell_type": "code",
      "source": [
        "# Create a function that returns the law of motion of capital\n",
        "def g(s, k, params):\n",
        "  A, α, β, δ = params\n",
        "  return s * A * k ** α + (1 - δ) * k"
      ],
      "metadata": {
        "id": "-pKhBP7etAwe"
      },
      "execution_count": 18,
      "outputs": []
    },
    {
      "cell_type": "markdown",
      "source": [
        "Under the assumption that $g(k_t)$ is a contraction mapping, we define a **succesive aproximation function** to obtain the steady state capital stock by means of iterations of the operator."
      ],
      "metadata": {
        "id": "oIDuOvXitwPG"
      }
    },
    {
      "cell_type": "code",
      "source": [
        "def successive_approx(f,                     # Operator\n",
        "                      params,                # Parameters for the transformation\n",
        "                      s,                     # Savings rate\n",
        "                      k_0,                   # Initial condition\n",
        "                      tolerance=1e-6,        # Error tolerance\n",
        "                      ):\n",
        "    k = k_0                               # Initilize capital stock and error\n",
        "    error = tolerance + 1\n",
        "    while error > tolerance:              # The algorithm keeps iterating while error > tolerance\n",
        "        k_new = f(s, k, params)           # Apply the operator\n",
        "        error = np.max(np.abs(k_new - k)) # Update the error with the supremum norm\n",
        "        k     = k_new                     # Udate capital stock\n",
        "    return k"
      ],
      "metadata": {
        "id": "1J8TTDQQI53n"
      },
      "execution_count": 25,
      "outputs": []
    },
    {
      "cell_type": "markdown",
      "source": [
        "We can test this function with the default parameters."
      ],
      "metadata": {
        "id": "cEmNJSk-XVJT"
      }
    },
    {
      "cell_type": "code",
      "source": [
        "k_0 = 0.01\n",
        "successive_approx(g , model, sss, k_0, tolerance = 0)"
      ],
      "metadata": {
        "colab": {
          "base_uri": "https://localhost:8080/"
        },
        "id": "paVlNne_UNON",
        "outputId": "c90e5cbe-1cee-458c-ad4c-a165377c2da8"
      },
      "execution_count": 24,
      "outputs": [
        {
          "output_type": "execute_result",
          "data": {
            "text/plain": [
              "0.24630500651611642"
            ]
          },
          "metadata": {},
          "execution_count": 24
        }
      ]
    },
    {
      "cell_type": "markdown",
      "source": [
        "We can verify that the successive approximation function is correct, since we arrive at the same stationary state as with the formula for steady state capital stock defined above."
      ],
      "metadata": {
        "id": "Z8ikIhS2XiK1"
      }
    },
    {
      "cell_type": "code",
      "source": [
        "kss = s_capital(sss, model)\n",
        "print(kss)"
      ],
      "metadata": {
        "colab": {
          "base_uri": "https://localhost:8080/"
        },
        "id": "Baatr-VTXz-g",
        "outputId": "72d0c2fe-23a7-4f0d-b8d7-937b44f05be3"
      },
      "execution_count": 26,
      "outputs": [
        {
          "output_type": "stream",
          "name": "stdout",
          "text": [
            "0.24630500651611642\n"
          ]
        }
      ]
    },
    {
      "cell_type": "markdown",
      "source": [
        "We can also define a function that shows the sequence of the first 30 values ​​that the capital stock takes before reaching the steady state."
      ],
      "metadata": {
        "id": "6lBMMYOsYkWZ"
      }
    },
    {
      "cell_type": "code",
      "source": [
        "def compute_iterates(k_0, s, f, params, n=30):\n",
        "    k = k_0\n",
        "    k_iterates = []             # We'll create an empty list to store the string values.\n",
        "    for t in range(n):          # Exectute the function n times (from 0 to n-1).\n",
        "        k = f(s, k, params)     # Update the current value of k by evaluating it in f, and so on.\n",
        "        k_iterates.append(k)    # Add each value of a k to the list of k_itearates\n",
        "    return k_iterates"
      ],
      "metadata": {
        "id": "o6d7AmJBYyH6"
      },
      "execution_count": 27,
      "outputs": []
    },
    {
      "cell_type": "code",
      "source": [
        "k_series = compute_iterates(k_0, sss, g, model)\n",
        "print(k_series)"
      ],
      "metadata": {
        "colab": {
          "base_uri": "https://localhost:8080/"
        },
        "id": "yKXrgONcZMwd",
        "outputId": "3254e56f-80fb-4cf9-a69f-82e9937f86c0"
      },
      "execution_count": 28,
      "outputs": [
        {
          "output_type": "stream",
          "name": "stdout",
          "text": [
            "[0.06051744470896554, 0.12120138499939068, 0.16794393255467427, 0.19892186675791157, 0.2181764208143017, 0.22977384876908857, 0.23664425033649406, 0.24067735083762679, 0.24303275899816829, 0.2444043433548337, 0.2452016938088581, 0.2456647729919209, 0.24593356607324682, 0.2460895357395495, 0.24618002158453162, 0.24623251125904222, 0.24626295792251918, 0.24628061787954492, 0.24629086095475677, 0.2462968020393453, 0.2463002479023714, 0.24630224651435226, 0.24630340571314474, 0.2463040780497374, 0.2463044680053961, 0.24630469417982442, 0.24630482536104212, 0.24630490144616493, 0.24630494557554172, 0.24630497117058214]\n"
          ]
        }
      ]
    },
    {
      "cell_type": "markdown",
      "source": [
        "Now here we have a function to provide a 45 degree of the dynamics with dots indicating progress of the succesive aproximation function."
      ],
      "metadata": {
        "id": "D1u3iwoVYHWx"
      }
    },
    {
      "cell_type": "code",
      "source": [
        "def plot_45(s, params, kiter, ax, fontsize=14):\n",
        "    dev = 0.9\n",
        "    k_min, k_max = 0, (1 + 0.9) * s_capital(s, params)                           # k_min y k_max indicate the minimum and maximum values ​​for k.\n",
        "    k_grid = np.linspace(k_min, k_max, 1200)                                     # Gives a sequence of 1200 equidistant points in the established range.\n",
        "\n",
        "    #plot the functions\n",
        "    lb = r\"$g(k) = sAk^{\\alpha} + (1 - \\delta)k$\"                                     # Define the label.\n",
        "    ax.plot(k_grid, g(s, k_grid, params),  lw=2, alpha=0.6, label=lb, color = 'blue') # Plot g(x) on the graph by evaluating the values ​​of k_grid on it.\n",
        "    ax.plot(k_grid, k_grid, \"k--\", lw=1, alpha=0.7, label=\"45\")                       # Order to graph a 45 degree line\n",
        "    ax.plot(kiter[:-1], kiter[1:], \"ro\", ms=10, alpha=0.6, color = 'green')           # Order to graph a 45 degree line\n",
        "\n",
        "    # Show and annotate the fixed point\n",
        "    kstar = s_capital(s, params)\n",
        "    fps = (kstar,)\n",
        "    ax.plot(fps, fps, \"go\", ms=10, alpha=0, color = 'green')       # Graph a red point where k* is located\n",
        "    ax.annotate(r\"$k_{ss} =$\"+ str(round(s_capital(s, params),4)), # Display the fixed point formula on the graph\n",
        "             xy=(kstar, kstar),\n",
        "             xycoords=\"data\",\n",
        "             xytext=(20, -20),\n",
        "             textcoords=\"offset points\",\n",
        "             fontsize=fontsize)\n",
        "\n",
        "    # Legend of the chart\n",
        "    ax.legend(loc=\"upper left\", frameon=False, fontsize=fontsize)\n",
        "\n",
        "    # Define the axis.\n",
        "    ax.set_yticks((0, 1, 2, 3))                           # Establish the values in the y-axis\n",
        "    ax.set_yticklabels((0, 1, 2, 3), fontsize=fontsize)   # Establish the labels for the values in y-axis.\n",
        "    ax.set_ylim(0, np.max(g(s, k_grid, params)))                                     # Sets the y-axis limits\n",
        "    ax.set_xlabel(\"$k_t$\", fontsize=fontsize)\n",
        "    ax.set_ylabel(\"$k_{t+1}$\", fontsize=fontsize)\n",
        "\n",
        "    return plt.show\n"
      ],
      "metadata": {
        "id": "cyuLnSeZaGh2"
      },
      "execution_count": 37,
      "outputs": []
    },
    {
      "cell_type": "code",
      "source": [
        "params  = create_solow_params()\n",
        "fig, ax = plt.subplots(figsize=(6, 6))\n",
        "plot_45(sss, params, k_series, ax)"
      ],
      "metadata": {
        "colab": {
          "base_uri": "https://localhost:8080/",
          "height": 657
        },
        "id": "ZVzoywcqJnUw",
        "outputId": "e64b819b-3ad4-4be1-ffd3-1bba5a6966fe"
      },
      "execution_count": 38,
      "outputs": [
        {
          "output_type": "stream",
          "name": "stderr",
          "text": [
            "<ipython-input-37-949b34471e75>:10: UserWarning: color is redundantly defined by the 'color' keyword argument and the fmt string \"ro\" (-> color='r'). The keyword argument will take precedence.\n",
            "  ax.plot(kiter[:-1], kiter[1:], \"ro\", ms=10, alpha=0.6, color = 'green')           # Order to graph a 45 degree line\n",
            "<ipython-input-37-949b34471e75>:15: UserWarning: color is redundantly defined by the 'color' keyword argument and the fmt string \"go\" (-> color='g'). The keyword argument will take precedence.\n",
            "  ax.plot(fps, fps, \"go\", ms=10, alpha=0, color = 'green')       # Graph a red point where k* is located\n"
          ]
        },
        {
          "output_type": "execute_result",
          "data": {
            "text/plain": [
              "<function matplotlib.pyplot.show(close=None, block=None)>"
            ]
          },
          "metadata": {},
          "execution_count": 38
        },
        {
          "output_type": "display_data",
          "data": {
            "text/plain": [
              "<Figure size 600x600 with 1 Axes>"
            ],
            "image/png": "[encoded data removed]"
          },
          "metadata": {}
        }
      ]
    },
    {
      "cell_type": "code",
      "source": [
        "print(params)"
      ],
      "metadata": {
        "colab": {
          "base_uri": "https://localhost:8080/"
        },
        "id": "LbSXvqnaLjlD",
        "outputId": "448830e2-6cb5-45f9-97de-7eec0ae01af9"
      },
      "execution_count": 39,
      "outputs": [
        {
          "output_type": "stream",
          "name": "stdout",
          "text": [
            "SolowParameters(A=2, α=0.3, β=0.5, δ=0.6)\n"
          ]
        }
      ]
    },
    {
      "cell_type": "markdown",
      "source": [
        "Thus, we have already defined the following functions:\n",
        "\n",
        "\n",
        "*   SS capital stock, **s_capital**.\n",
        "*   SS savings rate, **s_capital**.\n",
        "*   Conevergence of capital stock, **compute_iterates**.\n",
        "*   Graph of the capital stock dynamics, **plot_45**\n",
        "\n"
      ],
      "metadata": {
        "id": "8j8-EhyWMHCe"
      }
    },
    {
      "cell_type": "markdown",
      "source": [
        "Given all this functions, it is possible to create a new function that solves the model for any set of parameters. For example, imagine the case in which the total factor productivity is equal to $1$."
      ],
      "metadata": {
        "id": "4sEYwVPn7kEb"
      }
    },
    {
      "cell_type": "code",
      "source": [
        "def solve_solow(p_model):\n",
        "  # STEP 1: Get the SS savings rate.\n",
        "  s_ss     = s_savings(p_model)\n",
        "\n",
        "  # STEP 2: Get the SS capital stock.\n",
        "  k=ss     = s_capital(sss, model)\n",
        "\n",
        "  # STEP 3: Get the first 30 values ​​that the capital stock takes before reaching the SS.\n",
        "  k_series = compute_iterates(0.01, sss, g, p_model)\n",
        "\n",
        "  # STEP 4: Get the graph of capital stock dynamics\n",
        "  fig, ax  = plt.subplots(figsize=(6, 6))\n",
        "\n",
        "  return plot_45(s_ss, p_model, k_series, ax)\n"
      ],
      "metadata": {
        "id": "facvYchh7jis"
      },
      "execution_count": 52,
      "outputs": []
    },
    {
      "cell_type": "code",
      "source": [
        "p_model = create_solow_params(A = 1)\n",
        "solve_solow(p_model)"
      ],
      "metadata": {
        "colab": {
          "base_uri": "https://localhost:8080/",
          "height": 657
        },
        "id": "_KfwGaciLxE8",
        "outputId": "c3364dc7-a7a8-4e1e-a0de-33254d001b57"
      },
      "execution_count": 53,
      "outputs": [
        {
          "output_type": "stream",
          "name": "stderr",
          "text": [
            "<ipython-input-37-949b34471e75>:10: UserWarning: color is redundantly defined by the 'color' keyword argument and the fmt string \"ro\" (-> color='r'). The keyword argument will take precedence.\n",
            "  ax.plot(kiter[:-1], kiter[1:], \"ro\", ms=10, alpha=0.6, color = 'green')           # Order to graph a 45 degree line\n",
            "<ipython-input-37-949b34471e75>:15: UserWarning: color is redundantly defined by the 'color' keyword argument and the fmt string \"go\" (-> color='g'). The keyword argument will take precedence.\n",
            "  ax.plot(fps, fps, \"go\", ms=10, alpha=0, color = 'green')       # Graph a red point where k* is located\n"
          ]
        },
        {
          "output_type": "execute_result",
          "data": {
            "text/plain": [
              "<function matplotlib.pyplot.show(close=None, block=None)>"
            ]
          },
          "metadata": {},
          "execution_count": 53
        },
        {
          "output_type": "display_data",
          "data": {
            "text/plain": [
              "<Figure size 600x600 with 1 Axes>"
            ],
            "image/png": "[encoded data removed]"
          },
          "metadata": {}
        }
      ]
    },
    {
      "cell_type": "markdown",
      "source": [
        "Graphically it is possible to see that **there is a single fixed point**, however, it is necessary to prove it formally.\n",
        "\n",
        "There's a lot of posible proofs of why the fixed point exists and is unique, but the simplest way to do it is by means of the slopes of the functions involved.\n",
        "\n",
        "First of all, the slope of the identity function is equal to 1.\n",
        "\n",
        "On the other hand, since $\\forall x_{1},x_{2}$ such that $x_{1}<x_{2}$ we have that\n",
        "\n",
        "$$x_{1}<x_{2}$$\n",
        "\n",
        "$$x_{1}^{\\alpha}<x_{2}^{\\alpha}$$\n",
        "\n",
        "$$s_{ss}Ax_{1}^{\\alpha}<s_{ss}Ax_{2}^{\\alpha}$$\n",
        "\n",
        "$$s_{ss}Ax_{1}^{\\alpha}+(1-δ)x_{1}<s_{ss}Ax_{2}^{\\alpha}+(1-δ)x_{2}$$\n",
        "\n",
        "which means that $g(x_{1})<g(x_{2})$. Thus, the law of motion of capital stock is **monotone**.\n",
        "\n",
        "\n",
        " the slope of $g(k)$ can be calculated by means of the first derivative with respect to the current level of capital stock...\n",
        "\n",
        "$$g'(k)=αs_{ss}Ak^{\\alpha-1}+(1-\\delta)$$\n",
        "\n",
        "$$g'(k)=\\frac{αs_{ss}A}{k^{1-α}}+(1-\\delta)$$\n",
        "\n",
        "such that $g'(k)→(1-δ)$. Which means that for large enough levels of capital stocks $k$, the slope of $g(k)$ tends to be equal to $1-\\delta$.\n",
        "\n",
        "Given that $1-\\delta<1$, it is evident from the graph above that there is a unique point at which the function $g(k)$ intersects the identity function, such that te solution exists and is unique.\n"
      ],
      "metadata": {
        "id": "QrEh-EPS1DxD"
      }
    }
  ]
}