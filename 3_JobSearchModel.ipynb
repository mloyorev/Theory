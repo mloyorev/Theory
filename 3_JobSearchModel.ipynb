{
  "nbformat": 4,
  "nbformat_minor": 0,
  "metadata": {
    "colab": {
      "provenance": [],
      "authorship_tag": "ABX9TyNw+awyIjCPC74eQ8yCJNqj",
      "include_colab_link": true
    },
    "kernelspec": {
      "name": "python3",
      "display_name": "Python 3"
    },
    "language_info": {
      "name": "python"
    }
  },
  "cells": [
    {
      "cell_type": "markdown",
      "metadata": {
        "id": "view-in-github",
        "colab_type": "text"
      },
      "source": [
        "<a href=\"https://colab.research.google.com/github/mloyorev/Theory/blob/main/3_JobSearchModel.ipynb\" target=\"_parent\"><img src=\"https://colab.research.google.com/assets/colab-badge.svg\" alt=\"Open In Colab\"/></a>"
      ]
    },
    {
      "cell_type": "markdown",
      "source": [
        "We will use the following imports:\n",
        "*   **Numpy:** Python library used to work with matrices and multidimensional arrays, providing functions and tools to perform  operations.\n",
        "* **Betabinom:** the betabinom function is exported from the scipy.stats module of the SciPy library, a library used to perform mathematical and statistical operations.\n",
        "*   **Namedtuple:** Data type used to create a immutable class to store a set of values ​​with names associated with them.\n",
        "*   **Matplotlib.pyplot:** Widely used tool in Python for creating visualizations and charts.\n",
        "\n"
      ],
      "metadata": {
        "id": "J4Wl_ahLhGDA"
      }
    },
    {
      "cell_type": "code",
      "source": [
        "import numpy as np\n",
        "from scipy.stats import betabinom\n",
        "from collections import namedtuple\n",
        "import matplotlib.pyplot as plt"
      ],
      "metadata": {
        "id": "MZqcVPuyh9LD"
      },
      "execution_count": 2,
      "outputs": []
    },
    {
      "cell_type": "markdown",
      "source": [
        "For simplicity we create a function that implements a **successive approximation** method to solve any iterative problem"
      ],
      "metadata": {
        "id": "eBaUDDqlhmds"
      }
    },
    {
      "cell_type": "code",
      "source": [
        "# We define the supremum norm as a separte function\n",
        "def supremum_norm(x, x_new):\n",
        "  return np.max(np.abs(x_new - x))\n",
        "\n",
        "def successive_approx(T,                     # Operator\n",
        "                      x_0,                   # Initial condition\n",
        "                      M,                     # Convergence criterion\n",
        "                      tolerance  = 1e-6,     # Error tolerance\n",
        "                      max_iter   = 10_000,   # Max iteration bound\n",
        "                      print_step = 25,       # In how many iterations a message is printed\n",
        "                      verbose    = False):   # Message printing mode\n",
        "\n",
        "    x     = x_0             # Initial condition\n",
        "    error = tolerance + 1   # Initilize error\n",
        "    k     = 1               # Initialize number of iterations\n",
        "\n",
        "    while error > tolerance and k <= max_iter:                    # The algorithm keeps iterating while error > tolerance and k <= max_iter\n",
        "        x_new = T(x)                                              # Apply the transoformation\n",
        "        error = M(x,x_new)                                        # Updates the error with supremum_norm\n",
        "        if verbose and k % print_step == 0:\n",
        "            print(f\"Completed iteration {k} with error {error}.\")\n",
        "        x = x_new\n",
        "        k += 1\n",
        "\n",
        "    if error > tolerance:                                         # If error > tolerance, then iteration hit the upper bound\n",
        "        print(f\"Warning: Iteration hit upper bound {max_iter}.\")\n",
        "\n",
        "    elif verbose:\n",
        "        print(f\"Terminated successfully in {k} iterations.\")      # If verbose, then the algorithm terminates succesfully\n",
        "\n",
        "    return x"
      ],
      "metadata": {
        "id": "8A85JxW5hXKB"
      },
      "execution_count": 3,
      "outputs": []
    },
    {
      "cell_type": "markdown",
      "source": [
        "An example to understand how does **succesive aproximation function** works is to suppose a linear operator...\n",
        "\n",
        "$$f(x)=ax+b$$\n",
        "\n",
        "with $\\lvert a \\rvert<1$.\n",
        "\n",
        "Suppose that we start from an initial condition $x_0$ contained in the set of the real numbers, such that\n",
        "\n",
        "$$f(x_0)=ax_0+b$$\n",
        "\n",
        "If our objetive is to solve the linera equation $x=ax+b$, we can apply an iterative method\n",
        "\n",
        "$$f(f(x_0))=a^{2}x_0+ab+b$$\n",
        "\n",
        "$$f(f(x_0))=a^{3}x_0+a^{2}b+ab+b$$\n",
        "\n",
        "$$f(f(f(x_0)))=a^{4}x_0+a^{3}b+a^{2}b+ab+b$$\n",
        "\n",
        "In this case, by succesive approximation, we know that when $n→∞$, the solution of the liner equation is given by\n",
        "\n",
        "$$x^*=lim_{n → ∞}(a^{n}x+b(1+a+...+a^{n}))=\\frac{b}{1-a}$$\n",
        "\n",
        "For example..."
      ],
      "metadata": {
        "id": "ho2kTNBsh3vn"
      }
    },
    {
      "cell_type": "code",
      "source": [
        "# Define the function f(x) = 0.3 * x + 100\n",
        "def g(x):\n",
        "  return 0.3 * x + 100\n",
        "\n",
        "# Solving analitically x = 0.3 * x + 100 we have that\n",
        "s_analytical = 100 / (1 - 0.3)\n",
        "print('The analytical solution is:',s_analytical)\n",
        "\n",
        "# Using succesive approximation for solving x = 0.3 * x + 100 we have that\n",
        "s_sapprox = successive_approx(g, 100, supremum_norm)\n",
        "print('The succesive approximation solution is:',s_sapprox)\n",
        "\n",
        "# The difference between both solutions is given by the supremum norm\n",
        "error = supremum_norm(s_analytical, s_sapprox)\n",
        "print('The error of the solution by succesive approximation is:',error)"
      ],
      "metadata": {
        "colab": {
          "base_uri": "https://localhost:8080/"
        },
        "id": "-YShFT1gh3L9",
        "outputId": "d518793b-bed0-4353-a758-1f1e22bc5015"
      },
      "execution_count": 4,
      "outputs": [
        {
          "output_type": "stream",
          "name": "stdout",
          "text": [
            "The analytical solution is: 142.85714285714286\n",
            "The succesive approximation solution is: 142.8571426726569\n",
            "The error of the solution by succesive approximation is: 1.844859696120693e-07\n"
          ]
        }
      ]
    },
    {
      "cell_type": "markdown",
      "source": [
        "# **Job Search Model**"
      ],
      "metadata": {
        "id": "lc_l1iCnlvBG"
      }
    },
    {
      "cell_type": "markdown",
      "source": [
        "In this model the **optimal behavior of an unemployed worker** will be analyzed.\n",
        "\n",
        "In this model, the **job search depends on:**\n",
        "\n",
        "\n",
        "*   Current and likely wage offers.\n",
        "*   Impatience.\n",
        "*   Availability of unemployment compensation.\n",
        "\n",
        "\n",
        "\n",
        "We will assume that the agent begins unemployed in period t=0. He receive a new job offer that will pay him $w_t$ in each period $t$.\n",
        "\n",
        "The worker can carry out **two actions:**\n",
        "1. Accept the job offer.\n",
        "2. Reject job offer.\n",
        "\n",
        "The objective of the agent is to **maximize the Expected Present Value (EPV) of earnings**. There are two ways to calculate EPV depending on the decision he make:\n",
        "1. **If he accept the current job offer** that pays $w$, then\n",
        "\n",
        "$$\n",
        "\\text{EPV} = \\text{Stopping Value}= W(w)= w+\\beta w+\\beta^2 w+...= w/(1-\\beta)\n",
        "$$\n",
        "\n",
        "\n",
        "2. **If he continue unemployed**, receive the unemployment insurance $c$ and receive the value of the future decisions, then\n",
        "\n",
        "$$\n",
        "\\text{EPV}= \\text{Continuation Value}= U = c+ \\beta \\sum_{w'\\in W} \\max\\{W(w'),u\\} \\phi (w')\n",
        "$$\n",
        "\n",
        "Hence the unemployed worker will choose the maximum between those two options, so we have to\n",
        "\n",
        "$$\n",
        "V(w)= \\max\\{W(w),U\\}\n",
        "$$\n",
        "\n",
        "or\n",
        "\n",
        "$$\n",
        "V(w)= \\max\\left\\{w/(1-\\beta),c+ \\beta \\sum_{w'\\in W} max\\{W(w'),u\\} \\phi (w')\\right\\}\n",
        "$$\n",
        "\n",
        "where $\\phi (w')$ denotes the probability distribution function of job offers in the future paying $w^{'}$.\n",
        "\n",
        "Given that $v(w)= max\\{W(w),U\\}$, the agent's value function can be expressed as follows, obtaining the Bellman equation for this model is given by\n",
        "\n",
        "$$\n",
        "V(w)= \\max\\left\\{\\frac{w}{1-\\beta},c+ \\beta \\sum_{w'\\in W} V(w') \\phi (w')\\right\\}\n",
        "$$\n",
        "\n",
        "and the Bellman operator is\n",
        "\n",
        "$$\n",
        "    TV(w) = \\max\n",
        "    \\left\\{\n",
        "        \\frac{w}{1-\\beta},\n",
        "        c + \\beta \\sum_{w'} V(w') \\phi(w')\n",
        "    \\right\\}\n",
        "$$"
      ],
      "metadata": {
        "id": "f390GnemnmTQ"
      }
    },
    {
      "cell_type": "markdown",
      "source": [
        "Given the succesive formulation of the worker's problem, we have that the **job search model parameters** are:\n",
        "\n",
        "\n",
        "*  w_vals: Possible wage values.\n",
        "\n",
        "*  $\\phi$: Probaility distribution funtions of wages.\n",
        "\n",
        "*  $\\beta$: Discount factor.\n",
        "\n",
        "*  $c$: Unemployment compensation."
      ],
      "metadata": {
        "id": "pvikR3QPnu_T"
      }
    },
    {
      "cell_type": "code",
      "source": [
        "\n",
        "model_parameters = namedtuple(\"Model\", (\"w_vals\", \"phi\", \"beta\", \"c\"))\n",
        "\n",
        "# Assing default values for model parameters\n",
        "def create_job_search_model(\n",
        "        n     = 50,    # Wage grid number of steps\n",
        "        w_min = 10.0,  # Lowest wage\n",
        "        w_max = 60.0,  # Highest wage\n",
        "        a     = 200,   # Wage distribution parameter\n",
        "        b     = 100,   # Wage distribution parameter\n",
        "        beta  = 0.96,  # Discount factor\n",
        "        c     = 10.0   # Unemployment compensation\n",
        "    ):\n",
        "    w_vals = np.linspace(w_min, w_max, n+1)                              # Since n are the number of steps, n+1 is the number of elements in the wealth grid.\n",
        "    phi    = np.array([betabinom(n+1, a, b).pmf(k) for k in range(n+1)]) # Construction of the PMF of wages in the grid.\n",
        "                                                                         #  - n+1 is the number of experiments.\n",
        "                                                                         #  - a is directly related to the leftward bias of the distribution.\n",
        "                                                                         #  - b has a direct relationship with the degree of narrowness of the distribution.\n",
        "\n",
        "    return model_parameters(w_vals = w_vals, phi = phi, beta = beta, c = c)"
      ],
      "metadata": {
        "id": "bx3PWnkpnuV8"
      },
      "execution_count": 6,
      "outputs": []
    },
    {
      "cell_type": "markdown",
      "source": [
        "As an **exercise**, let's plot the **default wage offer distribution**. In other words, let's plot the wage PMF."
      ],
      "metadata": {
        "id": "FVNWhdb7p-fJ"
      }
    },
    {
      "cell_type": "code",
      "source": [
        "params = create_job_search_model(a=200,b=100)\n",
        "\n",
        "w_vals, phi, beta, c = params\n",
        "fig, ax              = plt.subplots()\n",
        "ax.plot(w_vals, phi, '-o')\n",
        "ax.set_xlabel(\"wages\")\n",
        "ax.set_ylabel(\"φ\")\n",
        "ax.set_title(\"Wage offer distribution\")\n",
        "plt.show()"
      ],
      "metadata": {
        "colab": {
          "base_uri": "https://localhost:8080/",
          "height": 472
        },
        "id": "SRetUWInp99U",
        "outputId": "51cb2e04-d66c-43e6-f78b-7023d7eb764e"
      },
      "execution_count": 27,
      "outputs": [
        {
          "output_type": "display_data",
          "data": {
            "text/plain": [
              "<Figure size 640x480 with 1 Axes>"
            ],
            "image/png": "[encoded data removed]"
          },
          "metadata": {}
        }
      ]
    },
    {
      "cell_type": "markdown",
      "source": [
        "In order to apply the VFI process, we need to **prove that our Bellman equation satisfies the Blackwell's sufficiency conditions** to be a contraction mapping.\n",
        "\n",
        "### **1. Monotonicity**\n",
        "Let $V,M$ two different functions that satisfies that $V(w)≤M(w)\n",
        "$ $∀w \\in W$. If we name $w'$ the wealth and the labor income shock of the next period, resvectively, then...\n",
        "\n",
        "\n",
        "\n",
        "$$V(w')≤M(w'),  ∀w'\\in W$$\n",
        "\n",
        "\n",
        "\n",
        "If we multiply both sides of the inequality by the wealth probability, then...\n",
        "\n",
        "\n",
        "\n",
        "$$V(w')\\phi (w')≤M(w')\\phi (w'),  ∀w'\\in W$$\n",
        "\n",
        "\n",
        "\n",
        "The inequality also holds for the expected value of value functions, such that...\n",
        "\n",
        "\n",
        "\n",
        "$$\\sum_{w' \\in W}V(w',y')\\phi (y,y')≤\\sum_{w' \\in W}M(w',y')\\phi (y,y')$$\n",
        "\n",
        "$$β\\sum_{w' \\in W}V(w')\\phi (w')≤β\\sum_{w' \\in W}M(w')\\phi (w')$$\n",
        "\n",
        "$$c+β\\sum_{w' \\in W}V(w')\\phi (w')≤c+β\\sum_{w' \\in W}M(w')\\phi (w')$$\n",
        "\n",
        "\n",
        "\n",
        "Finally we add both sides the maximization of choosing either the stoping value or the continuation value, given a particular level of  current wage such that...\n",
        "\n",
        "\n",
        "\n",
        "$$\\max\\left\\{\\frac{w}{1-\\beta}, c + \\beta \\sum_{w' \\in W} V(w') \\phi(w')\\right\\} ≤\\max\\left\\{\\frac{w}{1-\\beta}, c + \\beta \\sum_{w' \\in W} M(w') \\phi(w')\\right\\},  ∀w,y$$\n",
        "\n",
        "Therefore, $T(V(w))≤T(M(w)), ∀w \\in W$, which means that the transformation **satisifes monotonicity**.\n",
        "\n",
        "### **2. Discounting**\n",
        "\n",
        "Let's consider a value function $V$ and a positive constant $a$, such that\n",
        "\n",
        "$$T(V(w)+a)=\\max\\left\\{\\frac{w}{1-\\beta}, c + \\beta \\sum_{w' \\in W} (V(w')+a) \\phi(w')\\right\\}$$\n",
        "\n",
        "\n",
        "\n",
        "$$T(V(w)+a)=\\max\\left\\{\\frac{w}{1-\\beta}, c + \\beta \\sum_{w' \\in W} (V(w')) \\phi(w')+ \\beta \\sum_{w' \\in W} a \\phi(w')\\right\\}$$\n",
        "\n",
        "\n",
        "\n",
        "$$T(V(w)+a)=\\max\\left\\{\\frac{w}{1-\\beta}, c + \\beta \\sum_{w' \\in W} (V(w')) \\phi(w')+ a \\beta \\sum_{w' \\in W} \\phi(w')\\right\\}$$\n",
        "\n",
        "\n",
        "\n",
        "Since it is fulfilled that $\\sum_{w'\\in W} \\phi(w')=1$, such that\n",
        "\n",
        "\n",
        "\n",
        "$$T(V(w)+a)=\\max\\left\\{\\frac{w}{1-\\beta}, c + \\beta \\sum_{w' \\in W} (V(w')) \\phi(w')+ a \\beta \\right\\}$$\n",
        "\n",
        "\n",
        "\n",
        "In order to analize the relation between $T(V(w)+a)$ and $ T(V(w))+\\beta a$, there are **four cases**:\n",
        "\n",
        "\n",
        "\n",
        "1.   If $T(V(w)+a)=\\frac{w}{1-\\beta}$  and  $T(V(w))+\\beta a = \\frac{w}{1-\\beta} +\\beta a$, then $T(V(w)+a)≤ T(V(w))+\\beta a$.\n",
        "2.   If $T(V(w)+a)=\\frac{w}{1-\\beta}$ and $T(V(w))+\\beta a = c + \\beta \\sum_{w' \\in W} (V(w')) \\phi(w') +\\beta a$, then , since\n",
        "\n",
        "\n",
        "\n",
        "$$\\frac{w}{1-\\beta} ≤ c + \\beta \\sum_{w' \\in W} (V(w')) \\phi(w')≤ c + \\beta \\sum_{w' \\in W} (V(w')) \\phi(w') +\\beta a\n",
        "$$\n",
        "\n",
        "\n",
        "\n",
        "  we can conclude that $T(V(w)+a)≤ T(V(w))+\\beta a$.\n",
        "\n",
        "3.  If $T(V(w)+a)=c + \\beta \\sum_{w' \\in W} (V(w')) \\phi(w') +\\beta a$ and $T(V(w))+\\beta a = \\frac{w}{1-\\beta} +\\beta a$. Note that  \n",
        "\n",
        "\n",
        "\n",
        "$$\n",
        "c + \\beta \\sum_{w' \\in W} (V(w')) \\phi(w') < \\frac{w}{1-\\beta}\n",
        "$$\n",
        "\n",
        "\n",
        "\n",
        "So\n",
        "\n",
        "\n",
        "\n",
        "$$\n",
        "c + \\beta \\sum_{w' \\in W} (V(w')) \\phi(w') + \\beta a < \\frac{w}{1-\\beta} + \\beta a\n",
        "$$\n",
        "\n",
        "Concluding that $T(V(w)+a)< T(V(w))+\\beta a$\n",
        "\n",
        "4.  If $T(V(w)+a)=c + \\beta \\sum_{w' \\in W} (V(w')) \\phi(w') +\\beta a$ and $T(V(w))+\\beta a = c + \\beta \\sum_{w' \\in W} (V(w')) \\phi(w') +\\beta a$, then\n",
        "\n",
        "\n",
        "\n",
        "$$T(V(w)+a) = T(V(w))+\\beta a$$\n",
        "\n",
        "\n",
        "\n",
        "Therefore, $T(V(w,y)+a)≤T(V(w,y))+aβ$, which means that the transformation **satisfies discounting**.\n"
      ],
      "metadata": {
        "id": "oSNHqFHvr3b8"
      }
    },
    {
      "cell_type": "markdown",
      "source": [
        "Now we can continue designing functions for the operators in the VFI\n",
        "\n",
        "We will desingn a function for the **Bellman operator**:\n",
        "\n",
        "\\\n",
        "$$\n",
        "    (Tv)(w) = \\max\n",
        "    \\left\\{\n",
        "        \\frac{w}{1-\\beta},\n",
        "        c + \\beta \\sum_{w'} v(w') \\phi(w')\n",
        "    \\right\\}\n",
        "$$"
      ],
      "metadata": {
        "id": "Mv9D3V5wsjjV"
      }
    },
    {
      "cell_type": "code",
      "source": [
        "# Introduce the Bellman operator\n",
        "def T(v, params):\n",
        "    w_vals, phi, beta, c = params             # Unpacked parameters\n",
        "    h                    = c + beta * v @ phi # Get the continuation value\n",
        "\n",
        "    return np.maximum(w_vals / (1 - beta), h) # Returns a vector in which every element is the maximum between w_vals / (1 - β) and h"
      ],
      "metadata": {
        "id": "0tfmPJK-loNh"
      },
      "execution_count": 17,
      "outputs": []
    },
    {
      "cell_type": "markdown",
      "source": [
        "Now that that's clear, we need to make a function that computes the **$v$-greedy policy**, given $v$. Such that\n",
        "\n",
        "\\\n",
        "\n",
        "$$\n",
        "v_{\\text{greedy}}= \\text{argmax}\\left\\{\\frac{w}{1-\\beta},c+\\beta \\sum_{w'} v(w') \\phi(w')\\right\\}\n",
        "$$"
      ],
      "metadata": {
        "id": "_Wi0e-Pts5UI"
      }
    },
    {
      "cell_type": "code",
      "source": [
        "def get_greedy(v, params):\n",
        "    w_vals, phi, beta, c  = params\n",
        "    stopping_vals         = w_vals / (1 - beta)\n",
        "    continuation_val      = c + beta * v @ phi\n",
        "\n",
        "    return np.where(stopping_vals >= continuation_val, 1, 0) # The np.where () function creates an array containing 1 in the wage positions for which the inequality holds,\n",
        "                                                             # and 0 otherwise"
      ],
      "metadata": {
        "id": "RiDls-F-s6H0"
      },
      "execution_count": 18,
      "outputs": []
    },
    {
      "cell_type": "markdown",
      "source": [
        "Then we define a function for **value function iteration** as a function that would return the value function and the greedy function on the fixed point"
      ],
      "metadata": {
        "id": "CHhgK-mstDfs"
      }
    },
    {
      "cell_type": "code",
      "source": [
        "def vfi(params):\n",
        "    v_0 = np.zeros_like(params.w_vals)                                                                           # Set an initial guess for the value function\n",
        "    v   = successive_approx(lambda v: T(v, params), v_0, lambda x, x_new: supremum_norm(x, x_new), verbose=True) # The lambda function is used to put one function as a parameter to another.\n",
        "    σ   = get_greedy(v, params)                                                                                  # Get the policy function\n",
        "    return v, σ"
      ],
      "metadata": {
        "id": "KNtgiEEStHh0"
      },
      "execution_count": 19,
      "outputs": []
    },
    {
      "cell_type": "markdown",
      "source": [
        "Now let's call it using the default parameters."
      ],
      "metadata": {
        "id": "x0NiKnxVtUoy"
      }
    },
    {
      "cell_type": "code",
      "source": [
        "params    = create_job_search_model()\n",
        "v_star, σ = vfi(params)"
      ],
      "metadata": {
        "colab": {
          "base_uri": "https://localhost:8080/"
        },
        "id": "SiLIKGrltWDi",
        "outputId": "1bac0e46-b38a-4268-8194-222e197eb5ca"
      },
      "execution_count": 21,
      "outputs": [
        {
          "output_type": "stream",
          "name": "stdout",
          "text": [
            "Completed iteration 25 with error 5.504375849341159e-06.\n",
            "Terminated successfully in 29 iterations.\n"
          ]
        }
      ]
    },
    {
      "cell_type": "markdown",
      "source": [
        "It is very interesting to ask ourselves about what happens in the context of **a worker who does not receive compensation for being unemployed** $c$. Therefore we will solve the same exercise, but for $c=0$."
      ],
      "metadata": {
        "id": "ZFx6qgCEteeX"
      }
    },
    {
      "cell_type": "code",
      "source": [
        "paramss     = create_job_search_model(c=0)\n",
        "v_starr, σs = vfi(paramss)"
      ],
      "metadata": {
        "colab": {
          "base_uri": "https://localhost:8080/"
        },
        "id": "vGt7YFS5tia6",
        "outputId": "7ae9d957-cb59-49fb-de27-1362e65373da"
      },
      "execution_count": 22,
      "outputs": [
        {
          "output_type": "stream",
          "name": "stdout",
          "text": [
            "Terminated successfully in 23 iterations.\n"
          ]
        }
      ]
    },
    {
      "cell_type": "markdown",
      "source": [
        "Now, let's plot the **differences in optimal value functions** for both type of workers."
      ],
      "metadata": {
        "id": "hMM7exYbtnue"
      }
    },
    {
      "cell_type": "code",
      "source": [
        "def plot_lifetime_value(w_vals, v_star1, v_star2, params1, params2):\n",
        "    fig, ax = plt.subplots()\n",
        "    ax.plot(w_vals, v_star1)\n",
        "    ax.plot(w_vals, v_star2)\n",
        "    ax.legend([f\"$v_1(w), c_1= {params1.c}$\", f\"$v_2(w), c_2= {params2.c}$\"], loc=\"upper left\", frameon=False, fontsize=14)\n",
        "    ax.set_xlabel(\"wages\")\n",
        "    ax.set_ylim(1000, 1750)\n",
        "    plt.show()\n",
        "\n",
        "plot_lifetime_value(w_vals, v_star, v_starr, params, paramss)"
      ],
      "metadata": {
        "colab": {
          "base_uri": "https://localhost:8080/",
          "height": 449
        },
        "id": "McPGiaMXtp0q",
        "outputId": "8164a304-5676-4509-9771-74877575ddb1"
      },
      "execution_count": 34,
      "outputs": [
        {
          "output_type": "display_data",
          "data": {
            "text/plain": [
              "<Figure size 640x480 with 1 Axes>"
            ],
            "image/png": "[encoded data removed]"
          },
          "metadata": {}
        }
      ]
    },
    {
      "cell_type": "markdown",
      "source": [
        "In the graph above we can see that the value function with a higher unemployment compensation is greater than the value function of an agent who does not have unemployment compensation. This  means that **workers who do not receive an unemployment insurance also receive a lower EPV**."
      ],
      "metadata": {
        "id": "8Fwetdvdt08p"
      }
    },
    {
      "cell_type": "markdown",
      "source": [
        "Also here's the **optimal policy for both parameters**."
      ],
      "metadata": {
        "id": "Ay6SosEUt4sV"
      }
    },
    {
      "cell_type": "code",
      "source": [
        "def plot_choices(w_vals, σ1, σ2, params1, params2):\n",
        "    fig, ax = plt.subplots()\n",
        "    ax.plot(w_vals, σ1)\n",
        "    ax.plot(w_vals, σ2)\n",
        "    ax.legend([f\"$σ_1(w), c_1= {params1.c}$\", f\"$σ_2(w), c_2= {params2.c}$\"], loc=\"upper left\", frameon=False, fontsize=14)\n",
        "    ax.set_xlabel(\"wages\")\n",
        "    ax.set_yticks((0, 1))\n",
        "    plt.show()\n",
        "\n",
        "plot_choices(w_vals, σ, σs, params, paramss)"
      ],
      "metadata": {
        "colab": {
          "base_uri": "https://localhost:8080/",
          "height": 449
        },
        "id": "asPpeufjt7d9",
        "outputId": "5566e718-57c6-4a9c-a3d9-f4042c6f4d42"
      },
      "execution_count": 35,
      "outputs": [
        {
          "output_type": "display_data",
          "data": {
            "text/plain": [
              "<Figure size 640x480 with 1 Axes>"
            ],
            "image/png": "[encoded data removed]"
          },
          "metadata": {}
        }
      ]
    },
    {
      "cell_type": "markdown",
      "source": [
        "Finally we can generate a function that performs **a complete counterfactual analysis** between workers in different circumstances, that is different model parameters."
      ],
      "metadata": {
        "id": "tGKOSC5iuN4D"
      }
    },
    {
      "cell_type": "code",
      "source": [
        "def counterfactual_analysis(w_vals,params1,params2):\n",
        "  # STEP I: VFI for both type of workers\n",
        "  v_star1, σ1 = vfi(params1)\n",
        "  v_star2, σ2 = vfi(params2)\n",
        "\n",
        "  # STEP II: Create a graph that compute the contrasts between the lifevalue of worker 1 and worker 2\n",
        "  A = plot_lifetime_value(w_vals, v_star1, v_star2, params1, params2)\n",
        "\n",
        "  # STEP III: Create a graph that compute the contrasts between the decisions of worker 1 and worker 2\n",
        "  B = plot_choices(w_vals,σ1,σ2,params1,params2)\n",
        "\n",
        "  return A,B"
      ],
      "metadata": {
        "id": "BSfKYuFfuSUX"
      },
      "execution_count": 36,
      "outputs": []
    },
    {
      "cell_type": "markdown",
      "source": [
        "For example, imagine that we want to compare the situation of a worker with the default parameters, but:"
      ],
      "metadata": {
        "id": "8Dk5jLFpuXdp"
      }
    },
    {
      "cell_type": "code",
      "source": [
        "params1 = create_job_search_model()\n",
        "params2 = create_job_search_model(b=350,beta=0.96,c=0)\n",
        "\n",
        "counterfactual_analysis(w_vals,params1,params2)"
      ],
      "metadata": {
        "colab": {
          "base_uri": "https://localhost:8080/",
          "height": 968
        },
        "id": "C9SGQ_IYuid-",
        "outputId": "389c904c-40c5-4dec-9727-4ce1aec0b7ad"
      },
      "execution_count": 51,
      "outputs": [
        {
          "output_type": "stream",
          "name": "stdout",
          "text": [
            "Completed iteration 25 with error 5.504375849341159e-06.\n",
            "Terminated successfully in 29 iterations.\n",
            "Completed iteration 25 with error 3.364915153269976e-05.\n",
            "Terminated successfully in 33 iterations.\n"
          ]
        },
        {
          "output_type": "display_data",
          "data": {
            "text/plain": [
              "<Figure size 640x480 with 1 Axes>"
            ],
            "image/png": "[encoded data removed]"
          },
          "metadata": {}
        },
        {
          "output_type": "display_data",
          "data": {
            "text/plain": [
              "<Figure size 640x480 with 1 Axes>"
            ],
            "image/png": "[encoded data removed]"
          },
          "metadata": {}
        },
        {
          "output_type": "execute_result",
          "data": {
            "text/plain": [
              "(None, None)"
            ]
          },
          "metadata": {},
          "execution_count": 51
        }
      ]
    }
  ]
}