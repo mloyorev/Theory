{
  "cells": [
    {
      "cell_type": "markdown",
      "metadata": {
        "id": "view-in-github",
        "colab_type": "text"
      },
      "source": [
        "<a href=\"https://colab.research.google.com/github/mloyorev/Theory/blob/main/JobSearch.ipynb\" target=\"_parent\"><img src=\"https://colab.research.google.com/assets/colab-badge.svg\" alt=\"Open In Colab\"/></a>"
      ]
    },
    {
      "cell_type": "markdown",
      "source": [
        "We will use this imports:\n",
        "*   **Numpy:** Python library used to work with matrices and multidimensional arrays, providing functions and tools to perform  operations.\n",
        "* **Betabinom:** the betabinom function is exported from the scipy.stats module of the SciPy library, a library used to perform mathematical and statistical operations.\n",
        "*   **Namedtuple:** Data type used to create a immutable class to store a set of values ​​with names associated with them.\n",
        "*   **Matplotlib.pyplot:** Widely used tool in Python for creating visualizations and charts.\n",
        "******"
      ],
      "metadata": {
        "id": "sE6exAINjSQX"
      },
      "id": "sE6exAINjSQX"
    },
    {
      "cell_type": "code",
      "source": [
        "import numpy as np\n",
        "from scipy.stats import betabinom\n",
        "from collections import namedtuple\n",
        "import matplotlib.pyplot as plt"
      ],
      "metadata": {
        "id": "e1OsJa9Rguw7"
      },
      "id": "e1OsJa9Rguw7",
      "execution_count": 1,
      "outputs": []
    },
    {
      "cell_type": "markdown",
      "source": [
        "\n",
        "For simplicity we will make the following function, which implements a successive approximation method to solve any iterative problem, but first we will design a function for the convergence criterion that we have used in all the exercises, that is, the supremum norm:"
      ],
      "metadata": {
        "id": "_OnVr_w1jJ1h"
      },
      "id": "_OnVr_w1jJ1h"
    },
    {
      "cell_type": "code",
      "source": [
        "# We define the supremum norm as a separte function\n",
        "def supremum_norm(x, x_new):\n",
        "  return np.max(np.abs(x_new - x))"
      ],
      "metadata": {
        "id": "sutBfTdtfSBY"
      },
      "id": "sutBfTdtfSBY",
      "execution_count": 2,
      "outputs": []
    },
    {
      "cell_type": "code",
      "execution_count": 3,
      "id": "5cd102b7",
      "metadata": {
        "id": "5cd102b7"
      },
      "outputs": [],
      "source": [
        "def successive_approx(T,                     # Operator\n",
        "                      x_0,                   # Initial condition\n",
        "                      M,                     # Convergence criterion\n",
        "                      tolerance  = 1e-6,     # Error tolerance\n",
        "                      max_iter   = 10_000,   # Max iteration bound\n",
        "                      print_step = 25,       # In how many iterations a message is printed\n",
        "                      verbose    = False):   # Message printing mode\n",
        "\n",
        "    x     = x_0             # Initial condition\n",
        "    error = tolerance + 1   # Initilize error\n",
        "    k     = 1               # Initialize number of iterations\n",
        "\n",
        "    while error > tolerance and k <= max_iter:                    # The algorithm keeps iterating while error > tolerance and k <= max_iter\n",
        "        x_new = T(x)                                              # Apply the transoformation\n",
        "        error = M(x,x_new)                                        # Updates the error with supremum_norm\n",
        "        if verbose and k % print_step == 0:\n",
        "            print(f\"Completed iteration {k} with error {error}.\")\n",
        "        x = x_new\n",
        "        k += 1\n",
        "\n",
        "    if error > tolerance:                                         # If error > tolerance, then iteration hit the upper bound\n",
        "        print(f\"Warning: Iteration hit upper bound {max_iter}.\")\n",
        "\n",
        "    elif verbose:\n",
        "        print(f\"Terminated successfully in {k} iterations.\")      # If verbose, then the algorithm terminates succesfully\n",
        "\n",
        "    return x"
      ]
    },
    {
      "cell_type": "markdown",
      "source": [
        "An example to understand how does **succesive aproximation function** works is to suppose a linear operator...\n",
        "\n",
        "$$f(x)=ax+b$$\n",
        "\n",
        "with $\\lvert a \\rvert<1$.\n",
        "\n",
        "In this case, the analitical solution by succesive aproximation for $x=ax+b$ is...\n",
        "\n",
        "$$x^*=lim_{n → ∞}(a^{n}x+b(1+a+...+a^{n}))=\\frac{b}{1-a}$$"
      ],
      "metadata": {
        "id": "GfNXw0LsruRS"
      },
      "id": "GfNXw0LsruRS"
    },
    {
      "cell_type": "code",
      "source": [
        "# Define the function g(x) = 0.3 * x + 100\n",
        "def g(x):\n",
        "  return 0.3 * x + 100"
      ],
      "metadata": {
        "id": "Z9XsPU9Orw_w"
      },
      "id": "Z9XsPU9Orw_w",
      "execution_count": 4,
      "outputs": []
    },
    {
      "cell_type": "code",
      "source": [
        "# Solving analitically x = 0.3 * x + 100 we have that\n",
        "s_analitical = 100 / (1 - 0.3)\n",
        "print(s_analitical)"
      ],
      "metadata": {
        "colab": {
          "base_uri": "https://localhost:8080/"
        },
        "id": "80giLDEVGvcj",
        "outputId": "36f45c4c-6d3a-4e6e-dd46-a889239afbf9"
      },
      "id": "80giLDEVGvcj",
      "execution_count": 5,
      "outputs": [
        {
          "output_type": "stream",
          "name": "stdout",
          "text": [
            "142.85714285714286\n"
          ]
        }
      ]
    },
    {
      "cell_type": "code",
      "source": [
        "# Using succesive approximation for solving x = 0.3 * x + 100 we have that\n",
        "s_sapprox = successive_approx(g, 100, supremum_norm)\n",
        "print(s_sapprox)"
      ],
      "metadata": {
        "colab": {
          "base_uri": "https://localhost:8080/"
        },
        "id": "c8Q1PJI2HIx0",
        "outputId": "1de1aae6-8bb6-490f-b1ea-18f5cfc0614b"
      },
      "id": "c8Q1PJI2HIx0",
      "execution_count": 6,
      "outputs": [
        {
          "output_type": "stream",
          "name": "stdout",
          "text": [
            "142.8571426726569\n"
          ]
        }
      ]
    },
    {
      "cell_type": "markdown",
      "source": [
        "# **Job Search Model**\n",
        "In this model the **optimal behavior of an unemployed worker** will be analyzed.\n",
        "\n",
        "We will assume that the agent begins unemployed in period t=0. He receive a new job offer that will pay him $w_t$ in each period $t$.\n",
        "\n",
        "The worker can carry out **two actions:**\n",
        "1. Accept the job offer.\n",
        "2. Reject job offer.\n",
        "\n",
        "The objective of the agent is to **maximize the Expected Present Value (EPV) of earnings**. There are two ways to calculate it depending on the decision he make:\n",
        "1. Accept the current job offer that pays $w$.\n",
        "\n",
        "$$\n",
        "\\text{EPV} = \\text{Stopping Value}= W(w)= w+\\beta w+\\beta^2 w+...= w/(1-\\beta)\n",
        "$$\n",
        "\n",
        "\n",
        "2. Continue unemployed, receive the unemployment insurance $c$ and receive the value of the future decisions.\n",
        "\n",
        "$$\n",
        "\\text{EPV}= \\text{Continuation Value}= U = c+ \\beta \\sum_{w'\\in W} \\max\\{W(w'),u\\} \\phi (w')\n",
        "$$\n",
        "\n",
        "Hence the unemployed worker will choose the maximum between those two options, so we have to\n",
        "\n",
        "$$\n",
        "v(w)= \\max\\{W(w),U\\}\n",
        "$$\n",
        "\n",
        "or\n",
        "\n",
        "$$\n",
        "v(w)= \\max\\left\\{w/(1-\\beta),c+ \\beta \\sum_{w'\\in W} max\\{W(w'),u\\} \\phi (w')\\right\\}\n",
        "$$\n",
        "\n",
        "Given that $v(w)= max\\{W(w),U\\}$, the agent's value function can be expressed as follows, obtaining the Bellman equation for this model\n",
        "\n",
        "$$\n",
        "v(w)= \\max\\left\\{\\frac{w}{1-\\beta},c+ \\beta \\sum_{w'\\in W} v(w') \\phi (w')\\right\\}\n",
        "$$"
      ],
      "metadata": {
        "id": "hFzwkvhIkCRa"
      },
      "id": "hFzwkvhIkCRa"
    },
    {
      "cell_type": "markdown",
      "id": "3c9e342a",
      "metadata": {
        "id": "3c9e342a"
      },
      "source": [
        "\n",
        "\n",
        "and with the Bellman operator\n",
        "\n",
        "$$\n",
        "    (Tv)(w) = \\max\n",
        "    \\left\\{\n",
        "        \\frac{w}{1-\\beta},\n",
        "        c + \\beta \\sum_{w'} v(w') \\phi(w')\n",
        "    \\right\\}\n",
        "$$\n"
      ]
    },
    {
      "cell_type": "markdown",
      "id": "85152560",
      "metadata": {
        "id": "85152560"
      },
      "source": [
        "## Model Set Up\n",
        "\n",
        "The **job search model parameters** are:\n",
        "  \n",
        "\n",
        "*  w_vals: Possible wage values.\n",
        "\n",
        "*  $\\phi$: PMF of the salary grid.\n",
        "\n",
        "*  $\\beta$: Discount factor.\n",
        "\n",
        "*  $c$: Unemployment compensation.\n",
        "  "
      ]
    },
    {
      "cell_type": "markdown",
      "source": [
        "We introduce a `namedtuple` that stores the data for solving the problem:"
      ],
      "metadata": {
        "id": "gNEBF4FMoBzu"
      },
      "id": "gNEBF4FMoBzu"
    },
    {
      "cell_type": "code",
      "execution_count": 7,
      "id": "452a9f09",
      "metadata": {
        "lines_to_next_cell": 1,
        "id": "452a9f09"
      },
      "outputs": [],
      "source": [
        "Model = namedtuple(\"Model\", (\"w_vals\", \"phi\", \"beta\", \"c\"))"
      ]
    },
    {
      "cell_type": "markdown",
      "id": "152f9956",
      "metadata": {
        "id": "152f9956"
      },
      "source": [
        "The next function generates an instance of the named tuple with default values."
      ]
    },
    {
      "cell_type": "code",
      "execution_count": 8,
      "id": "580a63cb",
      "metadata": {
        "id": "580a63cb"
      },
      "outputs": [],
      "source": [
        "def create_job_search_model(\n",
        "        n     = 50,    # Wage grid number of steps\n",
        "        w_min = 10.0,  # Lowest wage\n",
        "        w_max = 60.0,  # Highest wage\n",
        "        a     = 200,   # Wage distribution parameter\n",
        "        b     = 100,   # Wage distribution parameter\n",
        "        beta  = 0.96,  # Discount factor\n",
        "        c     = 10.0   # Unemployment compensation\n",
        "    ):\n",
        "    w_vals = np.linspace(w_min, w_max, n+1)                              # Since n are the number of steps, n+1 is the number of elements in the wealth grid.\n",
        "    phi    = np.array([betabinom(n+1, a, b).pmf(k) for k in range(n+1)]) # Construction of the PMF of wages in the grid.\n",
        "\n",
        "    return Model(w_vals = w_vals, phi = phi, beta = beta, c = c)"
      ]
    },
    {
      "cell_type": "markdown",
      "id": "0e19e2a6",
      "metadata": {
        "id": "0e19e2a6"
      },
      "source": [
        "Here's an instance:"
      ]
    },
    {
      "cell_type": "code",
      "execution_count": 9,
      "id": "d30160cf",
      "metadata": {
        "id": "d30160cf"
      },
      "outputs": [],
      "source": [
        "params = create_job_search_model()"
      ]
    },
    {
      "cell_type": "markdown",
      "source": [
        "As an **exercise**, let's plot the **default wage offer distribution**. In other words, let's plot the wage PMF."
      ],
      "metadata": {
        "id": "ZGq2iFqqFMl_"
      },
      "id": "ZGq2iFqqFMl_"
    },
    {
      "cell_type": "code",
      "source": [
        "w_vals, phi, beta, c = params\n",
        "fig, ax              = plt.subplots()\n",
        "ax.plot(w_vals, phi, '-o')\n",
        "ax.set_xlabel(\"wages\")\n",
        "ax.set_ylabel(\"φ\")\n",
        "ax.set_title(\"Wage offer distribution\")\n",
        "plt.show()"
      ],
      "metadata": {
        "id": "-km5lS6vHz9O",
        "colab": {
          "base_uri": "https://localhost:8080/",
          "height": 472
        },
        "outputId": "331512b7-c949-4b3b-99a3-602547e37c27"
      },
      "id": "-km5lS6vHz9O",
      "execution_count": 10,
      "outputs": [
        {
          "output_type": "display_data",
          "data": {
            "text/plain": [
              "<Figure size 640x480 with 1 Axes>"
            ],
            "image/png": "[encoded data removed]"
          },
          "metadata": {}
        }
      ]
    },
    {
      "cell_type": "markdown",
      "source": [
        "## Value Function Iteration\n",
        "\n",
        "In order to apply the VFI process, we need to **prove that our Bellman equation satisfies the Blackwell's sufficiency conditions** to be a contraction mapping.\n",
        "\n",
        "### **1. Monotonicity**\n",
        "Let $V,M$ two different functions that satisfies that $V(w)≤M(w)\n",
        "$ $∀w \\in W$. If we name $w'$ the wealth and the labor income shock of the next period, resvectively, then...\n",
        "\n",
        "\\\n",
        "\n",
        "$$V(w')≤M(w'),  ∀w'\\in W$$\n",
        "\n",
        "\\\n",
        "\n",
        "If we multiply both sides of the inequality by the wealth probability, then...\n",
        "\n",
        "\\\n",
        "\n",
        "$$V(w')\\phi (w')≤M(w')\\phi (w'),  ∀w'\\in W$$\n",
        "\n",
        "\\\n",
        "\n",
        "The inequality also holds for the expected value of value functions, such that...\n",
        "\n",
        "\\\n",
        "\n",
        "$$\\sum_{w' \\in W}V(w',y')\\phi (y,y')≤\\sum_{w' \\in W}M(w',y')\\phi (y,y')$$\n",
        "\n",
        "$$β\\sum_{w' \\in W}V(w')\\phi (w')≤β\\sum_{w' \\in W}M(w')\\phi (w')$$\n",
        "\n",
        "$$c+β\\sum_{w' \\in W}V(w')\\phi (w')≤c+β\\sum_{w' \\in W}M(w')\\phi (w')$$\n",
        "\n",
        "\\\n",
        "\n",
        "Finally we add both sides the maximization of choosing either the stoping value or the continuation value, given a particular level of  current wage such that...\n",
        "\n",
        "\\\n",
        "\n",
        "$$\\max\\left\\{\\frac{w}{1-\\beta}, c + \\beta \\sum_{w' \\in W} V(w') \\phi(w')\\right\\} ≤\\max\\left\\{\\frac{w}{1-\\beta}, c + \\beta \\sum_{w' \\in W} M(w') \\phi(w')\\right\\},  ∀w,y$$\n",
        "\n",
        "\\\n",
        "\n",
        "Therefore, $T(V(w))≤T(M(w)), ∀w \\in W$, which means that the transformation **satisifes monotonicity**."
      ],
      "metadata": {
        "id": "Y9XX5KkyNnO5"
      },
      "id": "Y9XX5KkyNnO5"
    },
    {
      "cell_type": "markdown",
      "source": [
        "### **2. Discounting**\n",
        "\n",
        "Let's consider a value function $V$ and a positive constant $a$, such that\n",
        "\n",
        "$$T(V(w)+a)=\\max\\left\\{\\frac{w}{1-\\beta}, c + \\beta \\sum_{w' \\in W} (V(w')+a) \\phi(w')\\right\\}$$\n",
        "\n",
        "\\\n",
        "\n",
        "$$T(V(w)+a)=\\max\\left\\{\\frac{w}{1-\\beta}, c + \\beta \\sum_{w' \\in W} (V(w')) \\phi(w')+ \\beta \\sum_{w' \\in W} a \\phi(w')\\right\\}$$\n",
        "\n",
        "\\\n",
        "\n",
        "$$T(V(w)+a)=\\max\\left\\{\\frac{w}{1-\\beta}, c + \\beta \\sum_{w' \\in W} (V(w')) \\phi(w')+ a \\beta \\sum_{w' \\in W} \\phi(w')\\right\\}$$\n",
        "\n",
        "\\\n",
        "\n",
        "Since it is fulfilled that $\\sum_{w'\\in W} \\phi(w')=1$, such that\n",
        "\n",
        "\\\n",
        "\n",
        "$$T(V(w)+a)=\\max\\left\\{\\frac{w}{1-\\beta}, c + \\beta \\sum_{w' \\in W} (V(w')) \\phi(w')+ a \\beta \\right\\}$$\n",
        "\n",
        "\\\n",
        "\n",
        "In order to analize the relation between $T(V(w)+a)$ and $ T(V(w))+\\beta a$, there are **four cases**:\n",
        "\n",
        "\n",
        "\n",
        "1.   If $T(V(w)+a)=\\frac{w}{1-\\beta}$  and  $T(V(w))+\\beta a = \\frac{w}{1-\\beta} +\\beta a$, then $T(V(w)+a)≤ T(V(w))+\\beta a$.\n",
        "2.   If $T(V(w)+a)=\\frac{w}{1-\\beta}$ and $T(V(w))+\\beta a = c + \\beta \\sum_{w' \\in W} (V(w')) \\phi(w') +\\beta a$, then , since\n",
        "\n",
        "\\\n",
        "\n",
        "$$\\frac{w}{1-\\beta} ≤ c + \\beta \\sum_{w' \\in W} (V(w')) \\phi(w')≤ c + \\beta \\sum_{w' \\in W} (V(w')) \\phi(w') +\\beta a\n",
        "$$\n",
        "\n",
        "\\\n",
        "\n",
        "  we can conclude that $T(V(w)+a)≤ T(V(w))+\\beta a$.\n",
        "\n",
        "3.  If $T(V(w)+a)=c + \\beta \\sum_{w' \\in W} (V(w')) \\phi(w') +\\beta a$ and $T(V(w))+\\beta a = \\frac{w}{1-\\beta} +\\beta a$. Note that  \n",
        "\n",
        "\\\n",
        "\n",
        "$$\n",
        "c + \\beta \\sum_{w' \\in W} (V(w')) \\phi(w') < \\frac{w}{1-\\beta}\n",
        "$$\n",
        "\n",
        "\\\n",
        "\n",
        "So\n",
        "\n",
        "\\\n",
        "\n",
        "$$\n",
        "c + \\beta \\sum_{w' \\in W} (V(w')) \\phi(w') + \\beta a < \\frac{w}{1-\\beta} + \\beta a\n",
        "$$\n",
        "\n",
        "Concluding that $T(V(w)+a)< T(V(w))+\\beta a$\n",
        "\n",
        "4.  If $T(V(w)+a)=c + \\beta \\sum_{w' \\in W} (V(w')) \\phi(w') +\\beta a$ and $T(V(w))+\\beta a = c + \\beta \\sum_{w' \\in W} (V(w')) \\phi(w') +\\beta a$, then\n",
        "\n",
        "\\\n",
        "\n",
        "$$T(V(w)+a) = T(V(w))+\\beta a$$\n",
        "\n",
        "\\\n",
        "\n",
        "Therefore, $T(V(w,y)+a)≤T(V(w,y))+aβ$, which means that the transformation **satisfies discounting**.\n"
      ],
      "metadata": {
        "id": "MAEbSd9CQFqL"
      },
      "id": "MAEbSd9CQFqL"
    },
    {
      "cell_type": "markdown",
      "id": "8db4f3e9",
      "metadata": {
        "id": "8db4f3e9"
      },
      "source": [
        "\n",
        "Now we can continue designing functions for the operators in the VFI\n",
        "\n",
        "We will desingn a function for the **Bellman operator**:\n",
        "\n",
        "\\\n",
        "$$\n",
        "    (Tv)(w) = \\max\n",
        "    \\left\\{\n",
        "        \\frac{w}{1-\\beta},\n",
        "        c + \\beta \\sum_{w'} v(w') \\phi(w')\n",
        "    \\right\\}\n",
        "$$"
      ]
    },
    {
      "cell_type": "code",
      "execution_count": 18,
      "id": "1f285f84",
      "metadata": {
        "id": "1f285f84"
      },
      "outputs": [],
      "source": [
        "# Introduce the Bellman operator\n",
        "def T(v, params):\n",
        "    w_vals, phi, beta, c = params             # Unpacked parameters\n",
        "    h                    = c + beta * v @ phi # Get the continuation value\n",
        "\n",
        "    return np.maximum(w_vals / (1 - beta), h) # Returns a vector in which every element is the maximum between w_vals / (1 - β) and h"
      ]
    },
    {
      "cell_type": "markdown",
      "id": "3cb4c198",
      "metadata": {
        "id": "3cb4c198"
      },
      "source": [
        "Now that that's clear, we need to make a function that computes the **$v$-greedy policy**, given $v$. Such that\n",
        "\n",
        "\\\n",
        "\n",
        "$$\n",
        "v_{\\text{greedy}}= \\text{argmax}\\left\\{\\frac{w}{1-\\beta},c+\\beta \\sum_{w'} v(w') \\phi(w')\\right\\}\n",
        "$$"
      ]
    },
    {
      "cell_type": "code",
      "execution_count": 19,
      "id": "15824e3f",
      "metadata": {
        "id": "15824e3f"
      },
      "outputs": [],
      "source": [
        "def get_greedy(v, params):\n",
        "    w_vals, phi, beta, c  = params\n",
        "    stopping_vals         = w_vals / (1 - beta)\n",
        "    continuation_val      = c + beta * v @ phi\n",
        "\n",
        "    return np.where(stopping_vals >= continuation_val, 1, 0) # The np.where () function creates an array containing 1 in the wage positions for which the inequality holds,\n",
        "                                                             # and 0 otherwise"
      ]
    },
    {
      "cell_type": "markdown",
      "id": "a01d7713",
      "metadata": {
        "id": "a01d7713"
      },
      "source": [
        "## Value Function Iteration Procedure\n",
        "\n",
        "We define a function for value function iteration as a function that would return the value function and the greedy function on the fixed point"
      ]
    },
    {
      "cell_type": "code",
      "execution_count": 20,
      "id": "b5b44fa8",
      "metadata": {
        "id": "b5b44fa8"
      },
      "outputs": [],
      "source": [
        "def vfi(params):\n",
        "    v_0 = np.zeros_like(params.w_vals)                                                                           # Set an initial guess for the value function\n",
        "    v   = successive_approx(lambda v: T(v, params), v_0, lambda x, x_new: supremum_norm(x, x_new), verbose=True) # The lambda function is used to put one function as a parameter to another.\n",
        "    σ   = get_greedy(v, params)                                                                                  # Get the policy function\n",
        "    return v, σ"
      ]
    },
    {
      "cell_type": "markdown",
      "id": "2259d714",
      "metadata": {
        "id": "2259d714"
      },
      "source": [
        "Now let's call it using the preset parameters."
      ]
    },
    {
      "cell_type": "code",
      "execution_count": 21,
      "id": "6479de2f",
      "metadata": {
        "id": "6479de2f",
        "colab": {
          "base_uri": "https://localhost:8080/"
        },
        "outputId": "a04c920a-235b-4a53-f8ba-2f380adac4e7"
      },
      "outputs": [
        {
          "output_type": "stream",
          "name": "stdout",
          "text": [
            "Completed iteration 25 with error 5.504375849341159e-06.\n",
            "Terminated successfully in 29 iterations.\n"
          ]
        }
      ],
      "source": [
        "params    = create_job_search_model()\n",
        "v_star, σ = vfi(params)"
      ]
    },
    {
      "cell_type": "markdown",
      "source": [
        "It is very interesting to ask ourselves about what happens in the context of **a worker who does not receive compensation for being unemployed** $c$. Therefore we will solve the same exercise, but for $c=0$."
      ],
      "metadata": {
        "id": "T-C2fqvMtjuZ"
      },
      "id": "T-C2fqvMtjuZ"
    },
    {
      "cell_type": "code",
      "source": [
        "paramss     = create_job_search_model(c=0)\n",
        "v_starr, σs = vfi(paramss)"
      ],
      "metadata": {
        "id": "hzHe6a2C8LMM",
        "colab": {
          "base_uri": "https://localhost:8080/"
        },
        "outputId": "75f2dc07-53a8-41b8-d773-9edcbc2f3326"
      },
      "id": "hzHe6a2C8LMM",
      "execution_count": 22,
      "outputs": [
        {
          "output_type": "stream",
          "name": "stdout",
          "text": [
            "Terminated successfully in 23 iterations.\n"
          ]
        }
      ]
    },
    {
      "cell_type": "markdown",
      "source": [
        "Now, let's plot the different optimal value functions for both parameters."
      ],
      "metadata": {
        "id": "3qD8oBp98V3x"
      },
      "id": "3qD8oBp98V3x"
    },
    {
      "cell_type": "code",
      "source": [
        "fig, ax = plt.subplots()\n",
        "ax.plot(w_vals, v_star)\n",
        "ax.plot(w_vals, v_starr)\n",
        "ax.legend([f\"$v_1(w), c_1= {params.c}$\", f\"$v_2(w), c_2= {paramss.c}$\"], loc=\"upper left\", frameon=False, fontsize=14)\n",
        "ax.set_xlabel(\"wages\")\n",
        "ax.set_ylim(1000, 1750)\n",
        "plt.show()"
      ],
      "metadata": {
        "id": "iDwDpF_O6vJ8",
        "colab": {
          "base_uri": "https://localhost:8080/",
          "height": 449
        },
        "outputId": "04f7e4b0-319d-4458-f6d6-aa82177f9a11"
      },
      "id": "iDwDpF_O6vJ8",
      "execution_count": 23,
      "outputs": [
        {
          "output_type": "display_data",
          "data": {
            "text/plain": [
              "<Figure size 640x480 with 1 Axes>"
            ],
            "image/png": "[encoded data removed]"
          },
          "metadata": {}
        }
      ]
    },
    {
      "cell_type": "markdown",
      "source": [
        "In the graph above we can see that the value function with a higher unemployment compensation is greater than the value function of an agent who does not have unemployment compensation. This  means that **workers who do not receive an unemployment insurance also receive a lower EPV**."
      ],
      "metadata": {
        "id": "inw-Bq5AMv74"
      },
      "id": "inw-Bq5AMv74"
    },
    {
      "cell_type": "markdown",
      "id": "e24fced6",
      "metadata": {
        "id": "e24fced6"
      },
      "source": [
        "Also here's the **optimal policy for both parameters**."
      ]
    },
    {
      "cell_type": "code",
      "execution_count": 27,
      "id": "74835d04",
      "metadata": {
        "id": "74835d04",
        "colab": {
          "base_uri": "https://localhost:8080/",
          "height": 449
        },
        "outputId": "863d0fa1-6104-4e02-ecb4-905571547acc"
      },
      "outputs": [
        {
          "output_type": "display_data",
          "data": {
            "text/plain": [
              "<Figure size 640x480 with 1 Axes>"
            ],
            "image/png": "[encoded data removed]"
          },
          "metadata": {}
        }
      ],
      "source": [
        "fig, ax = plt.subplots()\n",
        "w_vals, ϕ, β, c = params\n",
        "ax.plot(w_vals, σ)\n",
        "ax.plot(w_vals, σs)\n",
        "ax.legend([f\"$σ_1(w), c_1= {params.c}$\", f\"$σ_2(w), c_2= {paramss.c}$\"], loc=\"upper left\", frameon=False, fontsize=14)\n",
        "ax.set_xlabel(\"wages\")\n",
        "ax.set_yticks((0, 1))\n",
        "plt.show()"
      ]
    },
    {
      "cell_type": "markdown",
      "source": [
        "Where $1$ means that the workers accept the job offer and $0$ means he reject."
      ],
      "metadata": {
        "id": "SqvYxqXhCCng"
      },
      "id": "SqvYxqXhCCng"
    },
    {
      "cell_type": "markdown",
      "source": [
        "In this graph we can see that an agent will accept a lower salary for the rest of his life if he does not receive an unemployment insurance, unlike a worker who does receive unemployment insurance.\n",
        "\n",
        "This simple difference can have big consequences on a **worker standard of living**."
      ],
      "metadata": {
        "id": "oh4OykFSMh9m"
      },
      "id": "oh4OykFSMh9m"
    },
    {
      "cell_type": "markdown",
      "id": "f3df0807",
      "metadata": {
        "id": "f3df0807"
      },
      "source": [
        "## Computing the Continuation Value Directly\n",
        "Recall that the fixed point of\n",
        "\n",
        "$$g(h) = c + \\beta \\sum_{w'} \\max\\{w'/(1-\\beta), h\\} \\phi(w')$$\n",
        "\n",
        "is the continuation value."
      ]
    },
    {
      "cell_type": "markdown",
      "id": "97cb7c77",
      "metadata": {
        "id": "97cb7c77"
      },
      "source": [
        "\n",
        "\n",
        "We will plot the fixed point $h^*$ of $g$ as a function of $\\beta$.\n",
        "\n",
        "First we have to make the **grid for the different values ​​of beta**."
      ]
    },
    {
      "cell_type": "code",
      "execution_count": 28,
      "id": "52dc2d2b",
      "metadata": {
        "id": "52dc2d2b"
      },
      "outputs": [],
      "source": [
        "betas = np.linspace(0.9, 0.99, 20)"
      ]
    },
    {
      "cell_type": "markdown",
      "id": "6e1c1620",
      "metadata": {
        "id": "6e1c1620"
      },
      "source": [
        "Here's the function $g$. If we evaluate the $h^{*}$ inside it we will obtain the function at the fixed point."
      ]
    },
    {
      "cell_type": "code",
      "execution_count": 29,
      "id": "59529049",
      "metadata": {
        "lines_to_next_cell": 1,
        "id": "59529049"
      },
      "outputs": [],
      "source": [
        "def g(h, params):\n",
        "    w_vals, phi, beta, c = params\n",
        "    return c + beta * np.maximum(w_vals / (1 - beta), h) @ phi"
      ]
    },
    {
      "cell_type": "markdown",
      "id": "fb06ea43",
      "metadata": {
        "id": "fb06ea43"
      },
      "source": [
        "Here's a function to compute its fixed point via successive approximation."
      ]
    },
    {
      "cell_type": "code",
      "execution_count": 30,
      "id": "233d7e5f",
      "metadata": {
        "id": "233d7e5f"
      },
      "outputs": [],
      "source": [
        "def compute_hstar(params, h_init=0.0):\n",
        "    h_star = successive_approx(lambda h: g(h, params), h_init, lambda x, x_new: supremum_norm(x, x_new), verbose=True)\n",
        "    return h_star"
      ]
    },
    {
      "cell_type": "markdown",
      "id": "cd7290b5",
      "metadata": {
        "id": "cd7290b5"
      },
      "source": [
        "Now, we can compute the fixed point for each $\\beta$ so that we can find the value function."
      ]
    },
    {
      "cell_type": "code",
      "execution_count": 31,
      "id": "1eab19b7",
      "metadata": {
        "id": "1eab19b7",
        "colab": {
          "base_uri": "https://localhost:8080/"
        },
        "outputId": "611a2029-d2d2-4185-e27c-c01316fd4488"
      },
      "outputs": [
        {
          "output_type": "stream",
          "name": "stdout",
          "text": [
            "Terminated successfully in 11 iterations.\n",
            "Terminated successfully in 13 iterations.\n",
            "Terminated successfully in 14 iterations.\n",
            "Terminated successfully in 14 iterations.\n",
            "Terminated successfully in 14 iterations.\n",
            "Terminated successfully in 16 iterations.\n",
            "Terminated successfully in 17 iterations.\n",
            "Terminated successfully in 17 iterations.\n",
            "Terminated successfully in 17 iterations.\n",
            "Terminated successfully in 18 iterations.\n",
            "Terminated successfully in 22 iterations.\n",
            "Terminated successfully in 22 iterations.\n",
            "Terminated successfully in 23 iterations.\n",
            "Completed iteration 25 with error 4.259231445757905e-06.\n",
            "Terminated successfully in 29 iterations.\n",
            "Completed iteration 25 with error 7.837626071705017e-06.\n",
            "Terminated successfully in 30 iterations.\n",
            "Completed iteration 25 with error 1.2745523690682603e-05.\n",
            "Terminated successfully in 31 iterations.\n",
            "Completed iteration 25 with error 0.0006563466890838754.\n",
            "Terminated successfully in 41 iterations.\n",
            "Completed iteration 25 with error 0.0012758480734191835.\n",
            "Terminated successfully in 43 iterations.\n",
            "Completed iteration 25 with error 0.028364846009026223.\n",
            "Completed iteration 50 with error 1.4774378996662563e-05.\n",
            "Terminated successfully in 60 iterations.\n",
            "Completed iteration 25 with error 0.22480651060322998.\n",
            "Completed iteration 50 with error 0.0017315727291133953.\n",
            "Completed iteration 75 with error 1.3337442396732513e-05.\n",
            "Terminated successfully in 90 iterations.\n"
          ]
        }
      ],
      "source": [
        "# With this code we will fill the h_vals tuple with the values ​​of h at the fixed point.\n",
        "h_vals = np.empty_like(betas)\n",
        "for i, beta in enumerate(betas):\n",
        "    params    = create_job_search_model(beta = beta)\n",
        "    h         = compute_hstar(params)\n",
        "    h_vals[i] = h"
      ]
    },
    {
      "cell_type": "code",
      "execution_count": 32,
      "id": "4328c35a",
      "metadata": {
        "id": "4328c35a",
        "colab": {
          "base_uri": "https://localhost:8080/",
          "height": 459
        },
        "outputId": "3c42ef18-17a9-4ba3-e0bd-3212d0ad4e24"
      },
      "outputs": [
        {
          "output_type": "display_data",
          "data": {
            "text/plain": [
              "<Figure size 640x480 with 1 Axes>"
            ],
            "image/png": "[encoded data removed]"
          },
          "metadata": {}
        }
      ],
      "source": [
        "fs=16\n",
        "fig, ax = plt.subplots()\n",
        "ax.plot(betas, h_vals, lw=2.0, alpha=0.7, label=\"$h^*(\\\\beta)$\")\n",
        "ax.legend(frameon=False, fontsize=fs)\n",
        "ax.set_xlabel(\"$\\\\beta$\", fontsize=fs)\n",
        "ax.set_ylabel(\"continuation value\", fontsize=fs)\n",
        "plt.show()"
      ]
    },
    {
      "cell_type": "markdown",
      "id": "6ea93049",
      "metadata": {
        "id": "6ea93049"
      },
      "source": [
        "We can also plot the **reservation wage values**:"
      ]
    },
    {
      "cell_type": "code",
      "execution_count": 33,
      "id": "60136005",
      "metadata": {
        "id": "60136005",
        "colab": {
          "base_uri": "https://localhost:8080/",
          "height": 459
        },
        "outputId": "1895d458-c9e5-4b53-d2d2-44cd63291723"
      },
      "outputs": [
        {
          "output_type": "display_data",
          "data": {
            "text/plain": [
              "<Figure size 640x480 with 1 Axes>"
            ],
            "image/png": "[encoded data removed]"
          },
          "metadata": {}
        }
      ],
      "source": [
        "w_star_vals = (1 - betas) * h_vals\n",
        "fig, ax = plt.subplots()\n",
        "ax.plot(betas, w_star_vals, lw=2.0, alpha=0.7, label=\"$w^*(\\\\beta)$\")\n",
        "ax.legend(frameon=False, fontsize=fs)\n",
        "ax.set_xlabel(\"$\\\\beta$\", fontsize=fs)\n",
        "ax.set_ylabel(\"reservation wage\", fontsize=fs)\n",
        "plt.show()"
      ]
    },
    {
      "cell_type": "markdown",
      "id": "594ea3f8",
      "metadata": {
        "id": "594ea3f8"
      },
      "source": [
        "As the agent gets more patient, he prefers to wait for a better offer.  Hence the reservation wage goes up in $\\beta$.\n"
      ]
    }
  ],
  "metadata": {
    "jupytext": {
      "cell_metadata_filter": "-all",
      "main_language": "python",
      "notebook_metadata_filter": "-all"
    },
    "kernelspec": {
      "display_name": "Python 3 (ipykernel)",
      "language": "python",
      "name": "python3"
    },
    "language_info": {
      "codemirror_mode": {
        "name": "ipython",
        "version": 3
      },
      "file_extension": ".py",
      "mimetype": "text/x-python",
      "name": "python",
      "nbconvert_exporter": "python",
      "pygments_lexer": "ipython3",
      "version": "3.9.12"
    },
    "colab": {
      "provenance": [],
      "include_colab_link": true
    }
  },
  "nbformat": 4,
  "nbformat_minor": 5
}