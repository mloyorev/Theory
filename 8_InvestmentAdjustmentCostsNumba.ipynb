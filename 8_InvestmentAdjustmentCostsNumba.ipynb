{
  "nbformat": 4,
  "nbformat_minor": 0,
  "metadata": {
    "colab": {
      "provenance": [],
      "authorship_tag": "ABX9TyNILDCavrG33+gUW8PGHDhY",
      "include_colab_link": true
    },
    "kernelspec": {
      "name": "python3",
      "display_name": "Python 3"
    },
    "language_info": {
      "name": "python"
    }
  },
  "cells": [
    {
      "cell_type": "markdown",
      "metadata": {
        "id": "view-in-github",
        "colab_type": "text"
      },
      "source": [
        "<a href=\"https://colab.research.google.com/github/mloyorev/Theory/blob/main/8_InvestmentAdjustmentCostsNumba.ipynb\" target=\"_parent\"><img src=\"https://colab.research.google.com/assets/colab-badge.svg\" alt=\"Open In Colab\"/></a>"
      ]
    },
    {
      "cell_type": "code",
      "execution_count": 1,
      "metadata": {
        "colab": {
          "base_uri": "https://localhost:8080/"
        },
        "id": "PTZzBOZynAPs",
        "outputId": "435fb839-06f3-4ad6-fec8-8164fb9c6afc"
      },
      "outputs": [
        {
          "output_type": "stream",
          "name": "stdout",
          "text": [
            "Collecting quantecon\n",
            "  Downloading quantecon-0.7.1-py3-none-any.whl (214 kB)\n",
            "\u001b[?25l     \u001b[90m━━━━━━━━━━━━━━━━━━━━━━━━━━━━━━━━━━━━━━━━\u001b[0m \u001b[32m0.0/214.8 kB\u001b[0m \u001b[31m?\u001b[0m eta \u001b[36m-:--:--\u001b[0m\r\u001b[2K     \u001b[91m━━━━━\u001b[0m\u001b[91m╸\u001b[0m\u001b[90m━━━━━━━━━━━━━━━━━━━━━━━━━━━━━━━━━━\u001b[0m \u001b[32m30.7/214.8 kB\u001b[0m \u001b[31m1.3 MB/s\u001b[0m eta \u001b[36m0:00:01\u001b[0m\r\u001b[2K     \u001b[91m━━━━━━━━━━━━━━━━━━━━━━━━━━━━━━\u001b[0m\u001b[91m╸\u001b[0m\u001b[90m━━━━━━━━━\u001b[0m \u001b[32m163.8/214.8 kB\u001b[0m \u001b[31m2.5 MB/s\u001b[0m eta \u001b[36m0:00:01\u001b[0m\r\u001b[2K     \u001b[90m━━━━━━━━━━━━━━━━━━━━━━━━━━━━━━━━━━━━━━━━\u001b[0m \u001b[32m214.8/214.8 kB\u001b[0m \u001b[31m2.5 MB/s\u001b[0m eta \u001b[36m0:00:00\u001b[0m\n",
            "\u001b[?25hRequirement already satisfied: numba>=0.49.0 in /usr/local/lib/python3.10/dist-packages (from quantecon) (0.58.1)\n",
            "Requirement already satisfied: numpy>=1.17.0 in /usr/local/lib/python3.10/dist-packages (from quantecon) (1.23.5)\n",
            "Requirement already satisfied: requests in /usr/local/lib/python3.10/dist-packages (from quantecon) (2.31.0)\n",
            "Requirement already satisfied: scipy>=1.5.0 in /usr/local/lib/python3.10/dist-packages (from quantecon) (1.11.4)\n",
            "Requirement already satisfied: sympy in /usr/local/lib/python3.10/dist-packages (from quantecon) (1.12)\n",
            "Requirement already satisfied: llvmlite<0.42,>=0.41.0dev0 in /usr/local/lib/python3.10/dist-packages (from numba>=0.49.0->quantecon) (0.41.1)\n",
            "Requirement already satisfied: charset-normalizer<4,>=2 in /usr/local/lib/python3.10/dist-packages (from requests->quantecon) (3.3.2)\n",
            "Requirement already satisfied: idna<4,>=2.5 in /usr/local/lib/python3.10/dist-packages (from requests->quantecon) (3.6)\n",
            "Requirement already satisfied: urllib3<3,>=1.21.1 in /usr/local/lib/python3.10/dist-packages (from requests->quantecon) (2.0.7)\n",
            "Requirement already satisfied: certifi>=2017.4.17 in /usr/local/lib/python3.10/dist-packages (from requests->quantecon) (2023.11.17)\n",
            "Requirement already satisfied: mpmath>=0.19 in /usr/local/lib/python3.10/dist-packages (from sympy->quantecon) (1.3.0)\n",
            "Installing collected packages: quantecon\n",
            "Successfully installed quantecon-0.7.1\n"
          ]
        }
      ],
      "source": [
        "!pip install quantecon"
      ]
    },
    {
      "cell_type": "code",
      "source": [
        "from collections import namedtuple\n",
        "import numpy as np\n",
        "import quantecon as qe\n",
        "from numba import njit, prange, int32\n",
        "import matplotlib.pyplot as plt"
      ],
      "metadata": {
        "id": "1uL1fjWMnGAU"
      },
      "execution_count": 2,
      "outputs": []
    },
    {
      "cell_type": "markdown",
      "source": [
        "Once **again**, we use the functions:\n",
        "\n",
        "\n",
        "*   `argmax`\n",
        "*   `succesive approximation`\n",
        "\n"
      ],
      "metadata": {
        "id": "HZeQeAhQnWHe"
      }
    },
    {
      "cell_type": "code",
      "source": [
        "@njit\n",
        "def argmax(list_object):\n",
        "    max_val = -np.inf\n",
        "    argmax_index = None\n",
        "    for i, x in enumerate(list_object):\n",
        "        if x > max_val:\n",
        "            max_val = x\n",
        "            argmax_index = i\n",
        "    return argmax_index"
      ],
      "metadata": {
        "id": "HyXwNXb5nM3x"
      },
      "execution_count": 3,
      "outputs": []
    },
    {
      "cell_type": "code",
      "source": [
        "\n",
        "def successive_approx(T,\n",
        "                      x_0,\n",
        "                      tolerance=1e-6,\n",
        "                      max_iter=10_000,\n",
        "                      print_step=25,\n",
        "                      verbose=False):\n",
        "    x = x_0\n",
        "    error = tolerance + 1\n",
        "    k = 1\n",
        "    while error > tolerance and k <= max_iter:\n",
        "        x_new = T(x)\n",
        "        error = np.max(np.abs(x_new - x))\n",
        "        if verbose and k % print_step == 0:\n",
        "            print(f\"Completed iteration {k} with error {error}.\")\n",
        "        x = x_new\n",
        "        k += 1\n",
        "    if error > tolerance:\n",
        "        print(f\"Warning: Iteration hit upper bound {max_iter}.\")\n",
        "    elif verbose:\n",
        "        print(f\"Terminated successfully in {k} iterations.\")\n",
        "    return x"
      ],
      "metadata": {
        "id": "APTKLTSanQDw"
      },
      "execution_count": 4,
      "outputs": []
    },
    {
      "cell_type": "markdown",
      "source": [
        "# **Investment with Adjustment Costs**\n",
        "\n",
        "We begin by assuming the case of a **monopolist facing an inverse demanda function** given by\n",
        "\n",
        "$$P_{t}=a_{0}-a_{1}Y_{t}+Z_{t}$$\n",
        "\n",
        "where\n",
        "\n",
        "\n",
        "*   $P_{t}$ is the price,\n",
        "*   $Y_{t}$ is the output,\n",
        "*   $a_{0}$ and $a_{1}$ are demand parameters, and\n",
        "*   $Z_{t}$ is the demand shock.\n",
        "\n",
        "The profits of the monopolist are represented by\n",
        "\n",
        "$$\\pi(Y_{t},Y_{t+1}, Z_{t})=(a_{0}-a_{1}Y_{t}+Z_{t})Y_{t}-\\gamma (Y_{t+1}-Y_{t})^{2}$$\n",
        "\n",
        "where the **investment adjustment cost** is given by the expression $\\gamma (Y_{t+1}-Y_{t})^{2}$. Notice that $\\gamma (Y_{t+1}-Y_{t})^{2}>0$ for any $t$.\n",
        "\n",
        "The ***monopolist seeks to maximize the expected discounted flow of benefits***, given the information available in period t.\n",
        "\n",
        "\\begin{align*}\n",
        "V(Y_t, Z_t) = \\max_{\\left\\{Y_{t+1+\\tau}\\right\\}} E_t  \\sum_{\\tau=0}^{\\infty} \\beta^{\\tau} \\pi(Y_{t+τ}, Y_{t+1+τ}, Z_{t+τ})\n",
        "\\end{align*}\n",
        "\n",
        "As we have do it on previous notebooks, the value function can also be expressed as\n",
        "\n",
        "\n",
        "\n"
      ],
      "metadata": {
        "id": "ABbr5uRwnrdO"
      }
    }
  ]
}