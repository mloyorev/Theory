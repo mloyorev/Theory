{
  "nbformat": 4,
  "nbformat_minor": 0,
  "metadata": {
    "colab": {
      "provenance": [],
      "authorship_tag": "ABX9TyMibBFF9dNbugZEcWePrBC+",
      "include_colab_link": true
    },
    "kernelspec": {
      "name": "python3",
      "display_name": "Python 3"
    },
    "language_info": {
      "name": "python"
    }
  },
  "cells": [
    {
      "cell_type": "markdown",
      "metadata": {
        "id": "view-in-github",
        "colab_type": "text"
      },
      "source": [
        "<a href=\"https://colab.research.google.com/github/mloyorev/Theory/blob/main/DiscretizationAR(1).ipynb\" target=\"_parent\"><img src=\"https://colab.research.google.com/assets/colab-badge.svg\" alt=\"Open In Colab\"/></a>"
      ]
    },
    {
      "cell_type": "markdown",
      "source": [
        "We are going to use the following libraries:\n",
        "\n",
        "\n",
        "*   **Numpy:** It is used to perform operation with scalars and matrices.\n",
        "*   **Scipy.special:** In particular the function **'root_hermite'** will help us to obtain the quadrature nodes and the weights of the quadratures.\n",
        "\n"
      ],
      "metadata": {
        "id": "DIrtS-HhUAS7"
      }
    },
    {
      "cell_type": "code",
      "execution_count": 1,
      "metadata": {
        "id": "VU-npci0LVWl"
      },
      "outputs": [],
      "source": [
        "import numpy as np\n",
        "from scipy.special import roots_hermite\n",
        "from collections import namedtuple"
      ]
    },
    {
      "cell_type": "markdown",
      "source": [
        "# **Discretization of AR(1)**"
      ],
      "metadata": {
        "id": "vyKha0gdVt6d"
      }
    },
    {
      "cell_type": "markdown",
      "source": [
        "Remember that in **stochastic dynamic programming** we have a stationary shock $s_t$ whose sequence $\\left\\{s_t\\right\\}_{t=0}$ satisfies $s_{t+1}=\\phi(s_t,ϵ_{t+1})$.\n",
        "\n",
        "Suppose the case of a AR(1) process of the form...\n",
        "\n",
        "$$s_{t+1}=ρs_t+(1-ρ)\\overline{s}+ϵ_{t+1} ⇒ ϵ_{t+1}=s_{t+1}-ρs_t-(1-ρ)\\overline{s}$$\n",
        "\n",
        "where...\n",
        "*   $ρ$ represents the persistance of the shock.\n",
        "*   $\\overline{s}$ is the mean of the shocks.\n",
        "*   $ϵ_{t+1}$ is the stochastic error term.\n",
        "\n",
        "\n",
        "\n",
        "\n",
        "\n",
        "\n",
        "\n",
        "\n",
        "\n",
        "\n",
        "\n",
        "\n"
      ],
      "metadata": {
        "id": "kS3-xHi7Vyyx"
      }
    },
    {
      "cell_type": "markdown",
      "source": [
        "We suppose that $ϵ_{t+1}$ that is distributed as a normal random variable $N(0, σ^2)$, such that...\n",
        "\n",
        "$$∫_{-∞}^{∞} \\frac{1}{σ\\sqrt{2π}} e^{-\\frac{1}{2} \\left(\\frac{ϵ_{t+1}}{σ}\\right)^2} dϵ_{t+1}=1$$\n",
        "\n",
        "if we substitute the value of the stochastic error and if we take into account that $s_t$ is fixed, we have that...\n",
        "\n",
        "\\begin{align*}\n",
        "∫_{-\\infty}^{\\infty} \\frac{1}{\\sigma\\sqrt{2\\pi}} e^{-\\frac{1}{2} \\left(\\frac{s_{t+1}-\\rho s_t-(1-\\rho)\\overline{s}}{\\sigma}\\right)^2} d(s_{t+1}-\\rho s_t-(1-\\rho)\\overline{s}) &= 1 \\\\\n",
        "∫_{-\\infty}^{\\infty} \\frac{1}{\\sigma\\sqrt{2\\pi}} e^{-\\frac{1}{2} \\left(\\frac{s_{t+1}-\\rho s_t-(1-\\rho)\\overline{s}}{\\sigma}\\right)^2} ds_{t+1} &= 1\n",
        "\\end{align*}\n",
        "\n",
        "\n",
        "\n"
      ],
      "metadata": {
        "id": "z3SS04252-t0"
      }
    },
    {
      "cell_type": "markdown",
      "source": [
        "Tauchen y Hussey propose to replace this integral by...\n",
        "\n",
        "\\begin{align*}\n",
        "∫_{-\\infty}^{\\infty}f(s_{t+1}|s_t)ds_{t+1}  &= 1 \\\\\n",
        "∫_{-\\infty}^{\\infty} \\frac{f(s_{t+1}|s_t)}{f(s_{t+1}|\\overline{s})}f(s_{t+1}|\\overline{s})ds_{t+1} &= 1\n",
        "\\end{align*}\n",
        "\n",
        "If we expand the fraction, then we get...\n",
        "\n",
        "\\begin{align*}\n",
        "\\frac{f(s_{t+1}|s_t)}{f(s_{t+1}|\\overline{s})} &= \\frac{e^{-\\frac{1}{2} \\left(\\frac{s_{t+1}-\\rho s_t-(1-\\rho)\\overline{s}}{\\sigma}\\right)^2}}{e^{-\\frac{1}{2} \\left(\\frac{s_{t+1}-\\overline{s}}{\\sigma}\\right)^2}}\n",
        "\\end{align*}\n",
        "\n",
        "\n",
        "\n"
      ],
      "metadata": {
        "id": "JULP_mX16ZGw"
      }
    },
    {
      "cell_type": "markdown",
      "source": [
        "By simplifying the expression and using the linear transformation...\n",
        "\n",
        "$$z_t=\\frac{s_t-\\overline{s}}{\\sigma\\sqrt{2}}$$\n",
        "\n",
        "we get...\n",
        "\n",
        "$$\\frac{1}{\\sqrt{π}}\\int_∞^∞e^{-((z_{t+1}-ρz_t)^2-z_{t+1}^2)}e^{-z_{t+1}^2}dz_{t+1} = 1$$\n",
        "\n",
        "\n"
      ],
      "metadata": {
        "id": "kVvvTZZ_-Wcw"
      }
    },
    {
      "cell_type": "markdown",
      "source": [
        "For this integral we can use the **Gauss-Hermite quadrature**, where $z_i$ are the quadrature nodes and $w_i$ are the weights.\n",
        "\n",
        "The Gauss-Hermite quadrature approach is a numerical technique used to approximate the definite integral of a function by evaluating it at specific points and weights.\n",
        "\n",
        "You can notice there are two very important concepts:\n",
        "\n",
        "*   **Quadrature node:** A quadrature node is a specific point within the integration domain at which the function to be integrated is evaluated. In the case of the Gauss-Hermite quadrature the nodes are the zeros of the Hermite polynomial.\n",
        "*   **Weights:** The weight is a coefficient associated with each quadrature node that is used to weight the function evaluated at that node. In the Gauss-Hermite quadrature, the weights are determined from the Hermite polynomial and the exponential weight function $w(x)=e^{-x^2}$.\n",
        "\n",
        "A **simpler way of representing the weights** is that they are the probabilities assigned to each quadrature node.\n",
        "\n"
      ],
      "metadata": {
        "id": "tIJ6NXqzA5Om"
      }
    },
    {
      "cell_type": "markdown",
      "source": [
        "The quadrature leads to the formula...\n",
        "\n",
        "$$\\frac{1}{\\sqrt{π}}∑_{j=1}^{n}w_j Φ(z_j;z_i;\\overline{x})≃1$$\n",
        "\n",
        "In other words, the quantity $w_j Φ(z_j;z_i;\\overline{x})$ is an aproximation of the transition probability $π_{ij}$.\n"
      ],
      "metadata": {
        "id": "GgKEJfwMCzeL"
      }
    },
    {
      "cell_type": "markdown",
      "source": [
        "Therefore, we can formulate a function for making the process of discretization of AR(1)."
      ],
      "metadata": {
        "id": "nn--BMxgV0bz"
      }
    },
    {
      "cell_type": "code",
      "source": [
        "from numpy.lib import poly1d\n",
        "# The function 'tauch-huss' performs the discretization of a AR(1) process using the Tauchen and Hussey method.\n",
        "\n",
        "def tauch_huss(sbar,    # Mean of the AR(1) process\n",
        "               rho,     # Persistance of the shock\n",
        "               sigma,   # Volatility of the shock\n",
        "               n):      # Number of nodes\n",
        "\n",
        "    # The fuction roots_hernite compute quadrature nodes (zeros of hernite polynomial) and weights.\n",
        "    xx, wx = roots_hermite(n)\n",
        "\n",
        "    # This line calculates the discrete states 's' that represent possible values of discretized AR(1).\n",
        "    s = np.sqrt(2) * np.sqrt(sigma) * xx + sbar\n",
        "\n",
        "    # This line creates a 'x' matrix that contains quadrature nodes.\n",
        "    x = np.tile(xx, (n, 1))\n",
        "\n",
        "    # Transposes matrix 'x' and creates a new matrix 'z'.\n",
        "    z = x.T\n",
        "\n",
        "    # This lines creates a 'w' matrix that contains weights and then transposes it.\n",
        "    w = np.tile(wx, (n, 1)).T\n",
        "\n",
        "    # This line computes the transition probabilities.\n",
        "    # The transition probabilities are determined by the normal distribution\n",
        "    p = np.exp(z * z - (z - rho * x) * (z - rho * x)) * w / np.sqrt(np.pi)\n",
        "\n",
        "    # Computes te sum of the transition probailities in each row.\n",
        "    sx = np.sum(p, axis=1)\n",
        "\n",
        "    # Guarantees that the sum of each row is equal to 1.\n",
        "    p1 = p / np.tile(sx, (n, 1)).T\n",
        "\n",
        "    return s, p, sx, p1"
      ],
      "metadata": {
        "id": "HmpbuXPULmi9"
      },
      "execution_count": 2,
      "outputs": []
    },
    {
      "cell_type": "markdown",
      "source": [
        "In a more concrete way, this function returns...\n",
        "\n",
        "\n",
        "*   Discratization of the shocks, $s$.\n",
        "*   Transition probabilities without guaranteeing that they sum $1$, $p$.\n",
        "*   Sum of the transtion probabilities without guaranteeing that they sum $1$, $sx$, with the purpose of standardizing the transition probabilities.\n",
        "*   Transition probabilities without guaranteeing that they sum $1$, $p1$.\n",
        "\n",
        "\n",
        "\n",
        "\n",
        "\n",
        "\n",
        "\n"
      ],
      "metadata": {
        "id": "7QER-wLK6ICA"
      }
    },
    {
      "cell_type": "markdown",
      "source": [
        "We could try an example and verify that each row sum exactly $1$"
      ],
      "metadata": {
        "id": "S5FfVHtW7Shp"
      }
    },
    {
      "cell_type": "code",
      "source": [
        "ex_s, ex_p, ex_sx, ex_p1 = tauch_huss(10, 0.5, 0.5, 4)"
      ],
      "metadata": {
        "id": "o2_vo0Wu8tAc"
      },
      "execution_count": 3,
      "outputs": []
    },
    {
      "cell_type": "code",
      "source": [
        "# Discretization of the shocks\n",
        "print(ex_s)"
      ],
      "metadata": {
        "colab": {
          "base_uri": "https://localhost:8080/"
        },
        "id": "JYf2k5p27j9E",
        "outputId": "84e08515-2e9c-4a9a-c68e-efb809b9df73"
      },
      "execution_count": 4,
      "outputs": [
        {
          "output_type": "stream",
          "name": "stdout",
          "text": [
            "[ 8.34931988  9.47535238 10.52464762 11.65068012]\n"
          ]
        }
      ]
    },
    {
      "cell_type": "code",
      "source": [
        "# Transition probabilities without guaranteeing that they sum 1.\n",
        "print(ex_p)"
      ],
      "metadata": {
        "colab": {
          "base_uri": "https://localhost:8080/"
        },
        "id": "Py263vYc7tiM",
        "outputId": "a96f1ecc-723d-4062-da11-4586ef8cca75"
      },
      "execution_count": 5,
      "outputs": [
        {
          "output_type": "stream",
          "name": "stdout",
          "text": [
            "[[0.35407105 0.1018143  0.01801311 0.00152197]\n",
            " [0.54632268 0.55825283 0.32191956 0.09665607]\n",
            " [0.09665607 0.32191956 0.55825283 0.54632268]\n",
            " [0.00152197 0.01801311 0.1018143  0.35407105]]\n"
          ]
        }
      ]
    },
    {
      "cell_type": "code",
      "source": [
        "# Sum of the transition probabilities that do not guarantee that they sum 1 for each row.\n",
        "print(ex_sx)"
      ],
      "metadata": {
        "colab": {
          "base_uri": "https://localhost:8080/"
        },
        "id": "tukMzTEb77R7",
        "outputId": "79361fe5-b0c5-4e49-e18b-ce850da0290c"
      },
      "execution_count": 6,
      "outputs": [
        {
          "output_type": "stream",
          "name": "stdout",
          "text": [
            "[0.47542043 1.52315114 1.52315114 0.47542043]\n"
          ]
        }
      ]
    },
    {
      "cell_type": "code",
      "source": [
        "# Final transition probabilities.\n",
        "print(ex_p1)"
      ],
      "metadata": {
        "colab": {
          "base_uri": "https://localhost:8080/"
        },
        "id": "TZhcLxGZ8LST",
        "outputId": "9ae91858-40e4-403f-b4ce-a405cb6107d8"
      },
      "execution_count": 7,
      "outputs": [
        {
          "output_type": "stream",
          "name": "stdout",
          "text": [
            "[[0.74475354 0.21415634 0.0378888  0.00320132]\n",
            " [0.35867923 0.36651178 0.21135103 0.06345796]\n",
            " [0.06345796 0.21135103 0.36651178 0.35867923]\n",
            " [0.00320132 0.0378888  0.21415634 0.74475354]]\n"
          ]
        }
      ]
    },
    {
      "cell_type": "code",
      "source": [
        "# Finally we verify that the final transition probabilities add up to 1\n",
        "print(np.sum(ex_p1, axis = 1))"
      ],
      "metadata": {
        "colab": {
          "base_uri": "https://localhost:8080/"
        },
        "id": "W7bQ6FVS8Y55",
        "outputId": "4810bffd-2c87-4401-ef8b-e678291ac212"
      },
      "execution_count": 8,
      "outputs": [
        {
          "output_type": "stream",
          "name": "stdout",
          "text": [
            "[1. 1. 1. 1.]\n"
          ]
        }
      ]
    }
  ]
}