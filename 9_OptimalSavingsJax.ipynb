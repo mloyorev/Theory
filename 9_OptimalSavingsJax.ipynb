{
  "nbformat": 4,
  "nbformat_minor": 0,
  "metadata": {
    "colab": {
      "provenance": [],
      "authorship_tag": "ABX9TyOAFujS85AmXlfrkS0DsCtT",
      "include_colab_link": true
    },
    "kernelspec": {
      "name": "python3",
      "display_name": "Python 3"
    },
    "language_info": {
      "name": "python"
    }
  },
  "cells": [
    {
      "cell_type": "markdown",
      "metadata": {
        "id": "view-in-github",
        "colab_type": "text"
      },
      "source": [
        "<a href=\"https://colab.research.google.com/github/mloyorev/Theory/blob/main/9_OptimalSavingsJax.ipynb\" target=\"_parent\"><img src=\"https://colab.research.google.com/assets/colab-badge.svg\" alt=\"Open In Colab\"/></a>"
      ]
    },
    {
      "cell_type": "code",
      "execution_count": 1,
      "metadata": {
        "colab": {
          "base_uri": "https://localhost:8080/"
        },
        "id": "M9a4GwS4jAYH",
        "outputId": "952a6533-b7b5-4aec-d8b2-29af2ce2eb44"
      },
      "outputs": [
        {
          "output_type": "stream",
          "name": "stdout",
          "text": [
            "Collecting quantecon\n",
            "  Downloading quantecon-0.7.1-py3-none-any.whl (214 kB)\n",
            "\u001b[?25l     \u001b[90m━━━━━━━━━━━━━━━━━━━━━━━━━━━━━━━━━━━━━━━━\u001b[0m \u001b[32m0.0/214.8 kB\u001b[0m \u001b[31m?\u001b[0m eta \u001b[36m-:--:--\u001b[0m\r\u001b[2K     \u001b[91m━━━━━━━\u001b[0m\u001b[91m╸\u001b[0m\u001b[90m━━━━━━━━━━━━━━━━━━━━━━━━━━━━━━━━\u001b[0m \u001b[32m41.0/214.8 kB\u001b[0m \u001b[31m1.1 MB/s\u001b[0m eta \u001b[36m0:00:01\u001b[0m\r\u001b[2K     \u001b[91m━━━━━━━━━━━━━━━━━━━━━━━━━━━━━━━━━━━━━━\u001b[0m\u001b[90m╺\u001b[0m\u001b[90m━\u001b[0m \u001b[32m204.8/214.8 kB\u001b[0m \u001b[31m3.3 MB/s\u001b[0m eta \u001b[36m0:00:01\u001b[0m\r\u001b[2K     \u001b[90m━━━━━━━━━━━━━━━━━━━━━━━━━━━━━━━━━━━━━━━━\u001b[0m \u001b[32m214.8/214.8 kB\u001b[0m \u001b[31m2.7 MB/s\u001b[0m eta \u001b[36m0:00:00\u001b[0m\n",
            "\u001b[?25hRequirement already satisfied: numba>=0.49.0 in /usr/local/lib/python3.10/dist-packages (from quantecon) (0.58.1)\n",
            "Requirement already satisfied: numpy>=1.17.0 in /usr/local/lib/python3.10/dist-packages (from quantecon) (1.23.5)\n",
            "Requirement already satisfied: requests in /usr/local/lib/python3.10/dist-packages (from quantecon) (2.31.0)\n",
            "Requirement already satisfied: scipy>=1.5.0 in /usr/local/lib/python3.10/dist-packages (from quantecon) (1.11.4)\n",
            "Requirement already satisfied: sympy in /usr/local/lib/python3.10/dist-packages (from quantecon) (1.12)\n",
            "Requirement already satisfied: llvmlite<0.42,>=0.41.0dev0 in /usr/local/lib/python3.10/dist-packages (from numba>=0.49.0->quantecon) (0.41.1)\n",
            "Requirement already satisfied: charset-normalizer<4,>=2 in /usr/local/lib/python3.10/dist-packages (from requests->quantecon) (3.3.2)\n",
            "Requirement already satisfied: idna<4,>=2.5 in /usr/local/lib/python3.10/dist-packages (from requests->quantecon) (3.6)\n",
            "Requirement already satisfied: urllib3<3,>=1.21.1 in /usr/local/lib/python3.10/dist-packages (from requests->quantecon) (2.0.7)\n",
            "Requirement already satisfied: certifi>=2017.4.17 in /usr/local/lib/python3.10/dist-packages (from requests->quantecon) (2023.11.17)\n",
            "Requirement already satisfied: mpmath>=0.19 in /usr/local/lib/python3.10/dist-packages (from sympy->quantecon) (1.3.0)\n",
            "Installing collected packages: quantecon\n",
            "Successfully installed quantecon-0.7.1\n"
          ]
        }
      ],
      "source": [
        "!pip install quantecon\n",
        "import quantecon as qe"
      ]
    },
    {
      "cell_type": "code",
      "source": [
        "import numpy as np\n",
        "import quantecon as qe\n",
        "import jax\n",
        "import jax.numpy as jnp\n",
        "from collections import namedtuple\n",
        "import matplotlib.pyplot as plt"
      ],
      "metadata": {
        "id": "vIhE346djLFb"
      },
      "execution_count": 2,
      "outputs": []
    },
    {
      "cell_type": "markdown",
      "source": [
        "One difference between `numpy` and `jax` is that, when running on a GPU, `jax` uses 32 bit floats by default.  This is standard for GPU computing and can lead to significant speed gains with small loss of precision.\n",
        "\n",
        "However, **for some calculations precision matters**. In this case we will use 64 bit floats with `jax`  in order to match with `7_OptimalSavingsNumba.ipynb` (this is because `numpy` use double precision floating point numbers, also known as `float64`)."
      ],
      "metadata": {
        "id": "IBP5RZ8kjXDd"
      }
    },
    {
      "cell_type": "code",
      "source": [
        "jax.config.update(\"jax_enable_x64\", True)"
      ],
      "metadata": {
        "id": "hG4qTLBGkOe2"
      },
      "execution_count": 3,
      "outputs": []
    },
    {
      "cell_type": "markdown",
      "source": [
        "As in the previuous notebooks, we will define the following functions:\n",
        "\n",
        "\n",
        "*   `supremum_norm`\n",
        "*   `succesive_approx`\n",
        "\n"
      ],
      "metadata": {
        "id": "fDgUPU0vkYkT"
      }
    },
    {
      "cell_type": "code",
      "source": [
        "def supremum_norm(x,x_new):\n",
        "  return np.max(jnp.abs(x_new - x))\n",
        "\n",
        "def successive_approx(T,\n",
        "                      x_0,\n",
        "                      M,\n",
        "                      tolerance=1e-6,\n",
        "                      max_iter=10_000,\n",
        "                      print_step=25,\n",
        "                      verbose=False):\n",
        "\n",
        "    x = x_0\n",
        "    error = tolerance + 1\n",
        "    k = 1\n",
        "\n",
        "    while error > tolerance and k <= max_iter:\n",
        "        x_new = T(x)\n",
        "        error = M(x, x_new)\n",
        "        if verbose and k % print_step == 0:\n",
        "            print(f\"Completed iteration {k} with error {error}.\")\n",
        "        x = x_new\n",
        "        k += 1\n",
        "\n",
        "    if error > tolerance:\n",
        "        print(f\"Warning: Iteration hit upper bound {max_iter}.\")\n",
        "\n",
        "    elif verbose:\n",
        "        print(f\"Terminated successfully in {k} iterations.\")\n",
        "    return x"
      ],
      "metadata": {
        "id": "mZV-18q7kx98"
      },
      "execution_count": 4,
      "outputs": []
    },
    {
      "cell_type": "markdown",
      "source": [
        "# **Optimal savings model with Google Jax**\n",
        "\n",
        "As we have alredy mentioned, the **Bellman equation** of this model is given by\n",
        "\n",
        "$$V(w,y)=\\max_{w'}u(Rw+y-w')+\\beta\\sum_{y'\\in Y}V(w',y')Q(y',y)$$\n",
        "\n",
        "where\n",
        "\n",
        "$$u(c)=\\frac{c^{1+\\gamma}}{1+\\gamma}$$\n",
        "\n",
        "**Details on the model assumptions and detailed derivation of the Bellman equation** comes in the `7_OptimalSavingsNumba` notebook.\n",
        "\n",
        "The main objetive of this notebook is to prove **how `jax` improve the performance** of the model solvers that we create in `7_OptimalSavingsNumba`"
      ],
      "metadata": {
        "id": "gh0p5stFlEEN"
      }
    },
    {
      "cell_type": "code",
      "source": [
        "Model = namedtuple('Model',('beta', 'R', 'gamma', 'w_grid', 'y_grid', 'Q'))\n",
        "\n",
        "def create_consumption_model(R=1.01,                    # Gross interest rate\n",
        "                             beta=0.98,                 # Discount factor\n",
        "                             gamma=2.5,                 # CRRA parameter\n",
        "                             w_min=0.01,                # Min wealth\n",
        "                             w_max=5.0,                 # Max wealth\n",
        "                             w_size=150,                # Grid side\n",
        "                             rho=0.9,                   # Persistance of the shock\n",
        "                             nu=0.1,                    # Volatility of stochastic error (sigma)\n",
        "                             y_size=100):\n",
        "\n",
        "    w_grid = np.linspace(w_min, w_max, w_size)\n",
        "    mc = qe.tauchen(rho= rho, sigma = nu, n = y_size)\n",
        "    y_grid, Q = np.exp(mc.state_values), mc.P\n",
        "    return Model(beta=beta, R=R, gamma=gamma, w_grid=w_grid, y_grid=y_grid, Q=Q)"
      ],
      "metadata": {
        "id": "RZP0fDATmm-3"
      },
      "execution_count": 5,
      "outputs": []
    },
    {
      "cell_type": "markdown",
      "source": [
        "In order to use `jax` **we have to create a `jax`-compatible version** of the consumption model.\n",
        "\n",
        "This `jax`-compatible version of the consumption model:\n",
        "\n",
        "\n",
        "*  Break up parameters into static and nonstatic components\n",
        "*   Move the arrays to a device, for example the GPU or the TPU.\n",
        "\n",
        "Moving the arrays to a device is very **important because:**\n",
        "\n",
        "\n",
        "1.   GPUs (Graphics Processing Unit) and TPUs (Tensor Processing Unit) are designed to **perform parallel calculations** much faster than CPUs (Central Processing Unit).\n",
        "2.   By moving data to the device, JAX is allowed to perform **parallel calculations** on specialized hardware, which can significantly speed up calculation performance and efficiency.\n",
        "\n",
        "\n",
        "\n"
      ],
      "metadata": {
        "id": "JyNQzXzgo3Dv"
      }
    },
    {
      "cell_type": "code",
      "source": [
        "# Build a JAX-compatible version of the consumption model\n",
        "def create_consumption_model_jax():\n",
        "\n",
        "    model = create_consumption_model()          # Create an instance of the model\n",
        "    beta, R, gamma, w_grid, y_grid, Q = model   # Unpacked model parameters\n",
        "\n",
        "    # Break up parameters into static and nonstatic components\n",
        "    constants = beta, R, gamma\n",
        "    sizes = len(w_grid), len(y_grid)\n",
        "    arrays = w_grid, y_grid, Q\n",
        "\n",
        "    arrays = tuple(map(jax.device_put, arrays)) # Shift arrays to the device (e.g., GPU and TPU)\n",
        "\n",
        "    return constants, sizes, arrays"
      ],
      "metadata": {
        "id": "OYABl6S9oZI5"
      },
      "execution_count": 6,
      "outputs": []
    },
    {
      "cell_type": "markdown",
      "source": [
        "Now we compute the RHS of the **Bellman equation**."
      ],
      "metadata": {
        "id": "SjAGxQUXswBv"
      }
    },
    {
      "cell_type": "code",
      "source": [
        "def B(v, constants, sizes, arrays):\n",
        "\n",
        "    # Unpack model parameters\n",
        "    β, R, γ = constants\n",
        "    w_size, y_size = sizes\n",
        "    w_grid, y_grid, Q = arrays\n",
        "\n",
        "    # Notice that index:\n",
        "    #   - i is for current wealth\n",
        "    #   - j is for current income\n",
        "    #   - ip is for next period's wealth\n",
        "    #   - jp is for next period's income\n",
        "\n",
        "    # Compute current rewards r(w, y, wp) as an array r[i, j, ip] of three dimesions\n",
        "    w  = jnp.reshape(w_grid, (w_size, 1, 1))    # w[i]   ->  w[i, j, ip]\n",
        "    y  = jnp.reshape(y_grid, (1, y_size, 1))    # z[j]   ->  z[i, j, ip]\n",
        "    wp = jnp.reshape(w_grid, (1, 1, w_size))    # wp[ip] -> wp[i, j, ip]\n",
        "    c = R * w + y - wp                          # Current reward\n",
        "\n",
        "    # Calculate continuation rewards at all combinations of (w, y, wp)\n",
        "    v = jnp.reshape(v, (1, 1, w_size, y_size))  # v[ip, jp] -> v[i, j, ip, jp]\n",
        "    Q = jnp.reshape(Q, (1, y_size, 1, y_size))  # Q[j, jp]  -> Q[i, j, ip, jp]\n",
        "    EV = jnp.sum(v * Q, axis=3)                 # Sum over last index jp for the expected value\n",
        "\n",
        "    # Comoute the RHS of the Bellman equation if and only if c>0, otherwise set -np.inf\n",
        "    return jnp.where(c > 0, c**(1-γ)/(1-γ) + β * EV, -np.inf)"
      ],
      "metadata": {
        "id": "_IxPuSYFs1P6"
      },
      "execution_count": 7,
      "outputs": []
    },
    {
      "cell_type": "markdown",
      "source": [
        "First of all we need to ***prove that our Bellman equation satisfies the Blackwell's sufficiency conditions*** to be a contraction mapping .\n",
        "\n",
        "For a detailed demonstration of Blackwell's sufficiency conditions for this case, check the `7_OptimalSavingsNumba.ipynb` notebook."
      ],
      "metadata": {
        "id": "B8WLJZilvI2w"
      }
    },
    {
      "cell_type": "markdown",
      "source": [
        "As in the previous notebooks, we are going to use the **following algorithms** to solve the model:\n",
        "\n",
        "\n",
        "\n",
        "*   Value Function Iteration (VFI).\n",
        "*   Howard Policy Ieration (HPI).\n",
        "*   Optimistic Policy Iteration (OPI).\n",
        "\n"
      ],
      "metadata": {
        "id": "mN9euc8-_w6i"
      }
    },
    {
      "cell_type": "markdown",
      "source": [
        "Now we **define the necessary operators** for creating the solvers of the model:\n",
        "\n",
        "\n",
        "*   **`COMPUTE CURRENT REWARD`:** Compute the array $r_\\sigma(w, y) = r(w,y, σ(w, y))$, which gives current rewards given policy sigma.\n",
        "*   **`BELLMAN OPERATOR`:** Compute the maximization of the Bellman equation along next period's wealth.\n",
        "*   **`GET GREEDY`:** Compute the index of the argument that maximizr the Bellman equation along the next period's wealth.\n",
        "*   **`POLICY OPERATOR`:** Compute the value associated with a particular policy.\n",
        "\n",
        "\n"
      ],
      "metadata": {
        "id": "rhwenvPHvTti"
      }
    },
    {
      "cell_type": "code",
      "source": [
        "# -----COMPUTE CURRENT REWARD-----\n",
        "def compute_r_sigma(sigma, constants, sizes, arrays):\n",
        "  # Unpack model\n",
        "    beta, R, gamma = constants\n",
        "    w_size, y_size = sizes\n",
        "    w_grid, y_grid, Q = arrays\n",
        "\n",
        "  # Compute r_σ[i, j]\n",
        "    w = jnp.reshape(w_grid, (w_size, 1))  # w[i]   ->  w[i, j]\n",
        "    y = jnp.reshape(y_grid, (1, y_size))  # y[j]   ->  y[i, j]\n",
        "    wp = w_grid[sigma]                    # Selection of values ​​from a grid w_grid using indices contained in an array called sigma.\n",
        "    c = R * w + y - wp                    # Compute consumption\n",
        "    r_sigma = c**(1-gamma)/(1-gamma)      # Compute current reward\n",
        "\n",
        "    return r_sigma\n",
        "\n",
        "# -----BELLMAN OPERATOR-----\n",
        "def T(v, constants, sizes, arrays):\n",
        "    return jnp.max(B(v, constants, sizes, arrays), axis=2)  #   The result of the B function is passed through the jnp.max function with axis=2. This means that\n",
        "                                                            # the maximum value is computed along the third axis, which corresponds to the 'wp' axis. This operation\n",
        "                                                            # calculates the maximum value for each combination of (w,y). The result of the T function is a 2D matrix\n",
        "\n",
        "# -----GET GREEDY-----\n",
        "def get_greedy(v, constants, sizes, arrays):\n",
        "    return jnp.argmax(B(v, constants, sizes, arrays), axis=2) #   The result of the B function is then passed through the jnp.argmax function with axis=2. This means that the index\n",
        "                                                              # of the maximum value is computed along the third axis, which corresponds to the 'wp' axis. This operation finds the\n",
        "                                                              # index of the action that maximizes RHS of the Bellman equation for each combination (w,y).\n",
        "\n",
        "# -----POLICY OPERATOR-----\n",
        "def T_sigma(v, sigma, constants, sizes, arrays):\n",
        "    # Unpack model\n",
        "    beta, R, gamma = constants\n",
        "    w_size, y_size = sizes\n",
        "    w_grid, y_grid, Q = arrays\n",
        "\n",
        "    r_sigma = compute_r_sigma(sigma, constants, sizes, arrays)  # Compute current reward\n",
        "\n",
        "    # Compute the array v[σ[i, j], jp]\n",
        "    yp_idx = jnp.arange(y_size)\n",
        "    yp_idx = jnp.reshape(yp_idx, (1, 1, y_size))\n",
        "    sigma = jnp.reshape(sigma, (w_size, y_size, 1))\n",
        "    V = v[sigma, yp_idx]\n",
        "\n",
        "    # Convert Q[j, jp] to Q[i, j, jp]\n",
        "    Q = jnp.reshape(Q, (1, y_size, y_size))\n",
        "\n",
        "    return r_sigma + beta * np.sum(V * Q, axis=2)"
      ],
      "metadata": {
        "id": "2Ow-Lyfov9ic"
      },
      "execution_count": 8,
      "outputs": []
    },
    {
      "cell_type": "markdown",
      "source": [
        "The functions below **compute the value $v_{\\sigma}$ of following a policy $\\sigma$**.\n",
        "\n",
        "This lifetime value is a function $v_{\\sigma}$ that satisifies\n",
        "\n",
        "$$v_{\\sigma}(w,y)=r_{\\sigma}(w,y)+\\beta\\sum_{y'}v_{\\sigma}(\\sigma(w,y),y')Q(y',y)$$\n",
        "\n",
        "where we want to solve for $v_{\\sigma}$."
      ],
      "metadata": {
        "id": "XtNtMxH2USD3"
      }
    },
    {
      "cell_type": "markdown",
      "source": [
        "Suppose we define the linear operator $L_{\\sigma}$ by\n",
        "\n",
        "$$(L_{\\sigma}v)(w,y)=v(w,y)-\\beta\\sum_{y'}v_(\\sigma(w,y),y')Q(y',y)$$\n",
        "\n",
        "With this notation, the objective is to solve for $v$ via\n",
        "\n",
        "$$(L_{\\sigma}v)(w,y)=r_{\\sigma}(w,y)$$\n",
        "\n",
        "which in vector notation is $L_{\\sigma}v=r_{\\sigma}$. The vector notation of the problem implies that\n",
        "\n",
        "$$v=L_{\\sigma}^{-1}r_{\\sigma}$$"
      ],
      "metadata": {
        "id": "R6unYKA9U2rM"
      }
    },
    {
      "cell_type": "markdown",
      "source": [
        "`jax` allows us to solve linear systes defined in terms of operators. The first step is to define the function $L_{\\sigma}$."
      ],
      "metadata": {
        "id": "4bFodiPiV6kc"
      }
    },
    {
      "cell_type": "code",
      "source": [
        "def L_sigma(v, sigma, constants, sizes, arrays):\n",
        "    # Unpack model\n",
        "    beta, R, gamma = constants\n",
        "    w_size, y_size = sizes\n",
        "    w_grid, y_grid, Q = arrays\n",
        "\n",
        "    # Set up the array v[σ[i, j], jp]\n",
        "    zp_idx = jnp.arange(y_size)                     # Create one-dimensional arrays ranging from 0 to y_size-1\n",
        "    zp_idx = jnp.reshape(zp_idx, (1, 1, y_size))    # Reshape zp_idx as an array of three dimensiones (i,j,ip)\n",
        "    sigma = jnp.reshape(sigma, (w_size, y_size, 1)) # Reshape sigma as an array of three dimensiones (i,j,ip)\n",
        "    V = v[sigma, zp_idx]                            # Evaluate v(w',y')\n",
        "\n",
        "    # Expand Q[j, jp] to Q[i, j, jp]\n",
        "    Q = jnp.reshape(Q, (1, y_size, y_size))\n",
        "\n",
        "    # Compute and return v[i, j] - β Σ_jp v[σ[i, j], jp] * Q[j, jp]\n",
        "    return v - beta * np.sum(V * Q, axis=2)"
      ],
      "metadata": {
        "id": "juAh7cPpWJpo"
      },
      "execution_count": 9,
      "outputs": []
    },
    {
      "cell_type": "markdown",
      "source": [
        "Now we can define a function that computes $v_{\\sigma}$ with the help of the previous function."
      ],
      "metadata": {
        "id": "l_Gux_FLXwSz"
      }
    },
    {
      "cell_type": "code",
      "source": [
        "def get_value(sigma, constants, sizes, arrays):\n",
        "    # Unpack\n",
        "    beta, R, gamma = constants\n",
        "    w_size, y_size = sizes\n",
        "    w_grid, y_grid, Q = arrays\n",
        "\n",
        "    r_sigma = compute_r_sigma(sigma, constants, sizes, arrays)               # Computes current reward\n",
        "\n",
        "    # Reduce R_σ to a function in v\n",
        "    partial_R_sigma = lambda v: L_sigma(v, sigma, constants, sizes, arrays)  # Defines a function 'partial_R_sigma' that takes v as an argument\n",
        "\n",
        "    return jax.scipy.sparse.linalg.bicgstab(partial_R_sigma, r_sigma)[0] #  Uses the BiCGSTAB iterative method to solve a system of linear equations of the form\n",
        "                                                                         # (partial_R_sigma)x = r_sigma.BiCGSTAB is an iterative method that, in each iteration,\n",
        "                                                                         #  calculates an approximation to the solution x of the system of equations."
      ],
      "metadata": {
        "id": "ZRKriR5qXu9W"
      },
      "execution_count": 10,
      "outputs": []
    },
    {
      "cell_type": "markdown",
      "source": [
        "Below are the **JIT compiled versions** of the operators. A JIT compiled version refers to a version of a program that has been compiled using a technique called just-in-time (JIT) compilation.\n",
        "\n",
        "\n",
        "In this case the functions defined earlier are compiled using `jax.jit` and checking `static_argnums`. Where `static_argnums` indicates the function argument that remains static, particularly."
      ],
      "metadata": {
        "id": "Vpr_g3ByaBXy"
      }
    },
    {
      "cell_type": "code",
      "source": [
        "# The static argument is 'sizes'\n",
        "B = jax.jit(B, static_argnums=(2,))\n",
        "compute_u_σ = jax.jit(compute_r_sigma, static_argnums=(2,))\n",
        "T = jax.jit(T, static_argnums=(2,))\n",
        "get_greedy = jax.jit(get_greedy, static_argnums=(2,))\n",
        "get_value = jax.jit(get_value, static_argnums=(2,))\n",
        "\n",
        "# The static argument is 'sizes'\n",
        "T_sigma = jax.jit(T_sigma, static_argnums=(3,))\n",
        "L_sigma = jax.jit(L_sigma, static_argnums=(3,))"
      ],
      "metadata": {
        "id": "uj6B6EK1Zjcn"
      },
      "execution_count": 11,
      "outputs": []
    },
    {
      "cell_type": "markdown",
      "source": [
        "Now we **define the solvers**, which implement VFI, HPI and OPI (We have already explain how does this algorithms works in `7_OptimalSavingsNumba.ipynb` and `8_InvestmentAdjustmentCostsNumba.ipynb`)."
      ],
      "metadata": {
        "id": "_eu95zeJAS3C"
      }
    },
    {
      "cell_type": "code",
      "source": [
        "def value_iteration(model, tol=1e-5):\n",
        "    constants, sizes, arrays = model\n",
        "    vz = jnp.zeros(sizes)\n",
        "\n",
        "    v_star = successive_approx(lambda v: T(v, constants, sizes, arrays), vz, supremum_norm,tolerance=tol)\n",
        "    return get_greedy(v_star, constants, sizes, arrays)"
      ],
      "metadata": {
        "id": "H7CX9PqRAbwz"
      },
      "execution_count": 29,
      "outputs": []
    },
    {
      "cell_type": "code",
      "source": [
        "# Howard Policy Iteration\n",
        "def policy_iteration(model, maxiter=250):\n",
        "    constants, sizes, arrays = model\n",
        "    sigma = jnp.zeros(sizes, dtype=int)\n",
        "    i, error = 0, 1.0\n",
        "    while error > 0 and i < maxiter:\n",
        "        v_sigma = get_value(sigma, constants, sizes, arrays)\n",
        "        sigma_new = get_greedy(v_sigma, constants, sizes, arrays)\n",
        "        error = jnp.max(jnp.abs(sigma_new - sigma))\n",
        "        sigma = sigma_new\n",
        "        i = i + 1\n",
        "        print(f\"Concluded loop {i} with error {error}.\")\n",
        "    return sigma"
      ],
      "metadata": {
        "id": "XnYvu4OrBkOA"
      },
      "execution_count": 17,
      "outputs": []
    },
    {
      "cell_type": "code",
      "source": [
        "# Optimistic Policy Iteration\n",
        "def optimistic_policy_iteration(model, tol=1e-5, m=10):\n",
        "    constants, sizes, arrays = model\n",
        "    v = jnp.zeros(sizes)\n",
        "    error = tol + 1\n",
        "    while error > tol:\n",
        "        last_v = v\n",
        "        sigma = get_greedy(v, constants, sizes, arrays)\n",
        "        for _ in range(m):\n",
        "            v = T_sigma(v, sigma, constants, sizes, arrays)\n",
        "        error = jnp.max(jnp.abs(v - last_v))\n",
        "    return get_greedy(v, constants, sizes, arrays)"
      ],
      "metadata": {
        "id": "_7fGLm8PCCgr"
      },
      "execution_count": 37,
      "outputs": []
    },
    {
      "cell_type": "markdown",
      "source": [
        "Here's a quick test of the **timing** of each solver."
      ],
      "metadata": {
        "id": "57SCq_nYCd0Z"
      }
    },
    {
      "cell_type": "code",
      "source": [
        "model = create_consumption_model_jax()"
      ],
      "metadata": {
        "id": "GeQ1dI5ACkQd"
      },
      "execution_count": 19,
      "outputs": []
    },
    {
      "cell_type": "code",
      "source": [
        "# Value Function Iteration\n",
        "print(\"Starting VFI.\")\n",
        "qe.tic()\n",
        "out = value_iteration(model)\n",
        "elapsed = qe.toc()\n",
        "print(out)\n",
        "print(f\"VFI completed in {elapsed} seconds.\")"
      ],
      "metadata": {
        "colab": {
          "base_uri": "https://localhost:8080/"
        },
        "id": "lCdZulaTCtok",
        "outputId": "bb3788ca-5e21-4cd9-909d-7b28cb7288d9"
      },
      "execution_count": 32,
      "outputs": [
        {
          "output_type": "stream",
          "name": "stdout",
          "text": [
            "Starting VFI.\n",
            "TOC: Elapsed: 0:00:38.77\n",
            "[[  0   0   0 ...  20  21  22]\n",
            " [  0   0   0 ...  21  22  23]\n",
            " [  0   0   0 ...  22  23  24]\n",
            " ...\n",
            " [133 133 133 ... 149 149 149]\n",
            " [134 134 134 ... 149 149 149]\n",
            " [135 135 135 ... 149 149 149]]\n",
            "VFI completed in 38.77844786643982 seconds.\n"
          ]
        }
      ]
    },
    {
      "cell_type": "code",
      "source": [
        "# Howard Policy Iteration\n",
        "print(\"Starting HPI.\")\n",
        "qe.tic()\n",
        "out = policy_iteration(model)\n",
        "elapsed = qe.toc()\n",
        "print(out)\n",
        "print(f\"HPI completed in {elapsed} seconds.\")"
      ],
      "metadata": {
        "colab": {
          "base_uri": "https://localhost:8080/"
        },
        "id": "ryG33gkNCqGJ",
        "outputId": "d66db004-13ad-47cd-833d-2318b983420c"
      },
      "execution_count": 33,
      "outputs": [
        {
          "output_type": "stream",
          "name": "stdout",
          "text": [
            "Starting HPI.\n",
            "Concluded loop 1 with error 77.\n",
            "Concluded loop 2 with error 55.\n",
            "Concluded loop 3 with error 28.\n",
            "Concluded loop 4 with error 17.\n",
            "Concluded loop 5 with error 8.\n",
            "Concluded loop 6 with error 4.\n",
            "Concluded loop 7 with error 1.\n",
            "Concluded loop 8 with error 1.\n",
            "Concluded loop 9 with error 0.\n",
            "TOC: Elapsed: 0:00:2.57\n",
            "[[  0   0   0 ...  20  21  22]\n",
            " [  0   0   0 ...  21  22  23]\n",
            " [  0   0   0 ...  22  23  24]\n",
            " ...\n",
            " [133 133 133 ... 149 149 149]\n",
            " [134 134 134 ... 149 149 149]\n",
            " [135 135 135 ... 149 149 149]]\n",
            "HPI completed in 2.5735397338867188 seconds.\n"
          ]
        }
      ]
    },
    {
      "cell_type": "code",
      "source": [
        "# Optimistic Policy Iteration\n",
        "print(\"Starting OPI.\")\n",
        "qe.tic()\n",
        "out = optimistic_policy_iteration(model, m=100)\n",
        "elapsed = qe.toc()\n",
        "print(out)\n",
        "print(f\"OPI completed in {elapsed} seconds.\")"
      ],
      "metadata": {
        "colab": {
          "base_uri": "https://localhost:8080/"
        },
        "id": "n_Z68_stD1R9",
        "outputId": "e036fab4-0736-4715-dcfa-c5e5e46cbde6"
      },
      "execution_count": 39,
      "outputs": [
        {
          "output_type": "stream",
          "name": "stdout",
          "text": [
            "Starting OPI.\n",
            "TOC: Elapsed: 0:00:4.29\n",
            "[[  0   0   0 ...  20  21  22]\n",
            " [  0   0   0 ...  21  22  23]\n",
            " [  0   0   0 ...  22  23  24]\n",
            " ...\n",
            " [133 133 133 ... 149 149 149]\n",
            " [134 134 134 ... 149 149 149]\n",
            " [135 135 135 ... 149 149 149]]\n",
            "OPI completed in 4.2918126583099365 seconds.\n"
          ]
        }
      ]
    },
    {
      "cell_type": "markdown",
      "source": [
        "Finally we repeat the exersice in `7_OptimalSavingsNumba.ipynb`, in which we compare the relation between the three algorithms (VFI, HPI, OPI) for different step size $m$ in the opi algorithm."
      ],
      "metadata": {
        "id": "BeWlc92bE9AK"
      }
    },
    {
      "cell_type": "code",
      "source": [
        "m_vals = range(5, 600, 40)\n",
        "model = create_consumption_model_jax()\n",
        "print(\"Running Howard policy iteration.\")\n",
        "qe.tic()\n",
        "σ_pi = policy_iteration(model)\n",
        "pi_time = qe.toc()\n",
        "print(f\"PI completed in {pi_time} seconds.\")\n",
        "\n",
        "print(\"Running value function iteration.\")\n",
        "qe.tic()\n",
        "σ_vfi = value_iteration(model, tol=1e-5)\n",
        "vfi_time = qe.toc()\n",
        "print(f\"VFI completed in {vfi_time} seconds.\")\n",
        "\n",
        "opi_times = []\n",
        "for m in m_vals:\n",
        "    qe.tic()\n",
        "    σ_opi = optimistic_policy_iteration(model, m=m, tol=1e-5)\n",
        "    opi_time = qe.toc()\n",
        "    print(f\"OPI with m={m} completed in {opi_time} seconds.\")\n",
        "    opi_times.append(opi_time)\n",
        "\n",
        "fig, ax = plt.subplots(figsize=(9, 5.2))\n",
        "ax.plot(m_vals, np.full(len(m_vals), pi_time),\n",
        "        lw=2, label=\"Howard policy iteration\")\n",
        "ax.plot(m_vals, np.full(len(m_vals), vfi_time),\n",
        "        lw=2, label=\"value function iteration\")\n",
        "ax.plot(m_vals, opi_times, lw=2, label=\"optimistic policy iteration\")\n",
        "ax.legend(fontsize=12, frameon=False)\n",
        "ax.set_xlabel(\"$m$\", fontsize=12)\n",
        "ax.set_ylabel(\"time\", fontsize=12)\n",
        "plt.show()"
      ],
      "metadata": {
        "id": "DU4KIk-BFpoc",
        "outputId": "2ca089df-e845-4fa5-8ebf-b74ba6a566be",
        "colab": {
          "base_uri": "https://localhost:8080/",
          "height": 1000
        }
      },
      "execution_count": 46,
      "outputs": [
        {
          "output_type": "stream",
          "name": "stdout",
          "text": [
            "Running Howard policy iteration.\n",
            "Concluded loop 1 with error 77.\n",
            "Concluded loop 2 with error 55.\n",
            "Concluded loop 3 with error 28.\n",
            "Concluded loop 4 with error 17.\n",
            "Concluded loop 5 with error 8.\n",
            "Concluded loop 6 with error 4.\n",
            "Concluded loop 7 with error 1.\n",
            "Concluded loop 8 with error 1.\n",
            "Concluded loop 9 with error 0.\n",
            "TOC: Elapsed: 0:00:3.40\n",
            "PI completed in 3.4099180698394775 seconds.\n",
            "Running value function iteration.\n",
            "TOC: Elapsed: 0:00:29.44\n",
            "VFI completed in 29.44074583053589 seconds.\n",
            "TOC: Elapsed: 0:00:10.71\n",
            "OPI with m=5 completed in 10.717214822769165 seconds.\n",
            "TOC: Elapsed: 0:00:2.96\n",
            "OPI with m=45 completed in 2.9623992443084717 seconds.\n",
            "TOC: Elapsed: 0:00:3.66\n",
            "OPI with m=85 completed in 3.6693217754364014 seconds.\n",
            "TOC: Elapsed: 0:00:4.43\n",
            "OPI with m=125 completed in 4.436034679412842 seconds.\n",
            "TOC: Elapsed: 0:00:4.91\n",
            "OPI with m=165 completed in 4.917816400527954 seconds.\n",
            "TOC: Elapsed: 0:00:6.68\n",
            "OPI with m=205 completed in 6.687604188919067 seconds.\n",
            "TOC: Elapsed: 0:00:7.02\n",
            "OPI with m=245 completed in 7.024832010269165 seconds.\n",
            "TOC: Elapsed: 0:00:8.75\n",
            "OPI with m=285 completed in 8.75027084350586 seconds.\n",
            "TOC: Elapsed: 0:00:9.73\n",
            "OPI with m=325 completed in 9.732343912124634 seconds.\n",
            "TOC: Elapsed: 0:00:11.38\n",
            "OPI with m=365 completed in 11.384188652038574 seconds.\n",
            "TOC: Elapsed: 0:00:12.39\n",
            "OPI with m=405 completed in 12.399127721786499 seconds.\n",
            "TOC: Elapsed: 0:00:13.52\n",
            "OPI with m=445 completed in 13.527576208114624 seconds.\n",
            "TOC: Elapsed: 0:00:14.56\n",
            "OPI with m=485 completed in 14.563204050064087 seconds.\n",
            "TOC: Elapsed: 0:00:15.51\n",
            "OPI with m=525 completed in 15.512763738632202 seconds.\n",
            "TOC: Elapsed: 0:00:17.56\n",
            "OPI with m=565 completed in 17.561810731887817 seconds.\n"
          ]
        },
        {
          "output_type": "display_data",
          "data": {
            "text/plain": [
              "<Figure size 900x520 with 1 Axes>"
            ],
            "image/png": "[encoded data removed]"
          },
          "metadata": {}
        }
      ]
    }
  ]
}