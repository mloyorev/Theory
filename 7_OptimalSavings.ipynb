{
  "nbformat": 4,
  "nbformat_minor": 0,
  "metadata": {
    "colab": {
      "provenance": [],
      "authorship_tag": "ABX9TyN4TKtBVTpCzpG7OkycGXzR",
      "include_colab_link": true
    },
    "kernelspec": {
      "name": "python3",
      "display_name": "Python 3"
    },
    "language_info": {
      "name": "python"
    }
  },
  "cells": [
    {
      "cell_type": "markdown",
      "metadata": {
        "id": "view-in-github",
        "colab_type": "text"
      },
      "source": [
        "<a href=\"https://colab.research.google.com/github/mloyorev/Theory/blob/main/7_OptimalSavings.ipynb\" target=\"_parent\"><img src=\"https://colab.research.google.com/assets/colab-badge.svg\" alt=\"Open In Colab\"/></a>"
      ]
    },
    {
      "cell_type": "code",
      "source": [
        "!pip install quantecon"
      ],
      "metadata": {
        "colab": {
          "base_uri": "https://localhost:8080/"
        },
        "id": "huMcySHXpBww",
        "outputId": "c82f79ec-1501-4f0b-b582-65c74a5ab93b"
      },
      "execution_count": 2,
      "outputs": [
        {
          "output_type": "stream",
          "name": "stdout",
          "text": [
            "Collecting quantecon\n",
            "  Downloading quantecon-0.7.1-py3-none-any.whl (214 kB)\n",
            "\u001b[2K     \u001b[90m━━━━━━━━━━━━━━━━━━━━━━━━━━━━━━━━━━━━━━━━\u001b[0m \u001b[32m214.8/214.8 kB\u001b[0m \u001b[31m2.1 MB/s\u001b[0m eta \u001b[36m0:00:00\u001b[0m\n",
            "\u001b[?25hRequirement already satisfied: numba>=0.49.0 in /usr/local/lib/python3.10/dist-packages (from quantecon) (0.58.1)\n",
            "Requirement already satisfied: numpy>=1.17.0 in /usr/local/lib/python3.10/dist-packages (from quantecon) (1.23.5)\n",
            "Requirement already satisfied: requests in /usr/local/lib/python3.10/dist-packages (from quantecon) (2.31.0)\n",
            "Requirement already satisfied: scipy>=1.5.0 in /usr/local/lib/python3.10/dist-packages (from quantecon) (1.11.4)\n",
            "Requirement already satisfied: sympy in /usr/local/lib/python3.10/dist-packages (from quantecon) (1.12)\n",
            "Requirement already satisfied: llvmlite<0.42,>=0.41.0dev0 in /usr/local/lib/python3.10/dist-packages (from numba>=0.49.0->quantecon) (0.41.1)\n",
            "Requirement already satisfied: charset-normalizer<4,>=2 in /usr/local/lib/python3.10/dist-packages (from requests->quantecon) (3.3.2)\n",
            "Requirement already satisfied: idna<4,>=2.5 in /usr/local/lib/python3.10/dist-packages (from requests->quantecon) (3.6)\n",
            "Requirement already satisfied: urllib3<3,>=1.21.1 in /usr/local/lib/python3.10/dist-packages (from requests->quantecon) (2.0.7)\n",
            "Requirement already satisfied: certifi>=2017.4.17 in /usr/local/lib/python3.10/dist-packages (from requests->quantecon) (2023.11.17)\n",
            "Requirement already satisfied: mpmath>=0.19 in /usr/local/lib/python3.10/dist-packages (from sympy->quantecon) (1.3.0)\n",
            "Installing collected packages: quantecon\n",
            "Successfully installed quantecon-0.7.1\n"
          ]
        }
      ]
    },
    {
      "cell_type": "code",
      "execution_count": 3,
      "metadata": {
        "id": "nb1-lA66onao"
      },
      "outputs": [],
      "source": [
        "from collections import namedtuple\n",
        "import numpy as np\n",
        "import quantecon as qe\n",
        "from numba import njit, prange, int32\n",
        "import matplotlib.pyplot as plt"
      ]
    },
    {
      "cell_type": "markdown",
      "source": [
        "Once **again** we use the functions:\n",
        "\n",
        "\n",
        "*   argmax\n",
        "*   succesive_approx\n",
        "\n"
      ],
      "metadata": {
        "id": "lVFvFLz5z2zz"
      }
    },
    {
      "cell_type": "code",
      "source": [
        "@njit\n",
        "def argmax(list_object):\n",
        "    max_val = -np.inf\n",
        "    argmax_index = None\n",
        "    for i, x in enumerate(list_object):\n",
        "        if x > max_val:\n",
        "            max_val = x\n",
        "            argmax_index = i\n",
        "    return argmax_index"
      ],
      "metadata": {
        "id": "O3abe5bDpMTN"
      },
      "execution_count": 4,
      "outputs": []
    },
    {
      "cell_type": "code",
      "source": [
        "def successive_approx(T,\n",
        "                      x_0,\n",
        "                      tolerance=1e-6,\n",
        "                      max_iter=10_000,\n",
        "                      print_step=25,\n",
        "                      verbose=False):\n",
        "    x = x_0\n",
        "    error = tolerance + 1\n",
        "    k = 1\n",
        "    while error > tolerance and k <= max_iter:\n",
        "        x_new = T(x)\n",
        "        error = np.max(np.abs(x_new - x))\n",
        "        if verbose and k % print_step == 0:\n",
        "            print(f\"Completed iteration {k} with error {error}.\")\n",
        "        x = x_new\n",
        "        k += 1\n",
        "    if error > tolerance:\n",
        "        print(f\"Warning: Iteration hit upper bound {max_iter}.\")\n",
        "    elif verbose:\n",
        "        print(f\"Terminated successfully in {k} iterations.\")\n",
        "    return x\n"
      ],
      "metadata": {
        "id": "o08LkhjkpRb_"
      },
      "execution_count": 5,
      "outputs": []
    },
    {
      "cell_type": "markdown",
      "source": [
        "# **Optimal savings model**\n",
        "\n",
        "We assume that **wealth $W_{t}$ evolves** according to\n",
        "\n",
        "$$C_{t}+W_{t+1}≤RW_{t}+Y_{t}$$\n",
        "\n",
        "where $R$ is the gross interest rate, $Y_{t}$ is the labor income and:\n",
        "\n",
        "\n",
        "*   $(W_{t})$ takes values in a finite set $W$ contained in the set $\\mathbb{R}_{+}$\n",
        "*   $(Y_{t})$ is a **$Q$-Markov chain** on a finite and continuous set $Y$.\n",
        "*   $C_{t}\\geq 0$ for all $t$.\n",
        "\n",
        "The individual **aims to maximize the present value** of his utility function. Additionally, we suppose that the individual perceive utility from consumption. This means that the consumer's maximization problem is\n",
        "\n",
        "$$V(w_{t},y_{t})=\\max_{\\left\\{w_{t+\\tau+1}\\right\\}}E_{t}\\sum_{\\tau=0}^{\\infty}\\beta^{\\tau}u(c_{t})=\\max_{\\left\\{w_{t+\\tau+1}\\right\\}}E_{t}\\sum_{\\tau=0}^{\\infty}\\beta^{\\tau}u(Rw_{t}+y_{t}-w_{t+\\tau+1})$$\n",
        "\n",
        "Since $E_{t}u(Rw_{t}+y_{t}-w_{t+1})=u(Rw_{t}+y_{t}-w_{t+1})$, this equation can be also expressed as\n",
        "\n",
        "$$V(w_{t},y_{t})=\\max_{w_{t+1}}u(Rw_{t}+y_{t}-w_{t+1})+\\max_{\\left\\{w_{t+\\tau+1}\\right\\}}E_{t}\\sum_{\\tau=1}^{\\infty}\\beta^{\\tau}u(Rw_{t+\\tau}+y_{t+\\tau}-w_{t+\\tau+1})$$\n",
        "\n",
        "By making the substitution $\\tau=k+1$, we obtain that\n",
        "\n",
        "$$V(w_{t},y_{t})=\\max_{w_{t+1}}u(Rw_{t}+y_{t}-w_{t+1})+\\max_{\\left\\{w_{t+k+2}\\right\\}}E_{t}\\sum_{k=0}^{\\infty}\\beta^{k+1}u(Rw_{t+k+1}+y_{t+k+1}-w_{t+k+2})$$\n",
        "\n",
        "$$V(w_{t},y_{t})=\\max_{w_{t+1}}u(Rw_{t}+y_{t}-w_{t+1})+\\max_{\\left\\{w_{t+k+2}\\right\\}}\\beta E_{t}\\sum_{k=0}^{\\infty}\\beta^{k}u(Rw_{t+k+1}+y_{t+k+1}-w_{t+k+2})$$\n",
        "\n",
        "According to the **law of iterated expectations**$^{1}$ this expression can be rewritten as\n",
        "\n",
        "$$V(w_{t},y_{t})=\\max_{w_{t+1}}u(Rw_{t}+y_{t}-w_{t+1})+\\max_{\\left\\{w_{t+k+2}\\right\\}}\\beta ∫_{y_{t+1}}E_{t+1}\\left[\\sum_{k=0}^{\\infty}\\beta^{k}u(Rw_{t+k+1}+y_{t+k+1}-w_{t+k+2})\\right]f(y_{t+1}|y_{t})dy_{t+1}$$\n",
        "\n",
        "$$V(w_{t},y_{t})=\\max_{w_{t+1}}u(Rw_{t}+y_{t}-w_{t+1})+\\beta ∫_{y_{t+1}}\\max_{\\left\\{w_{t+k+2}\\right\\}}E_{t+1}\\left[\\sum_{k=0}^{\\infty}\\beta^{k}u(Rw_{t+k+1}+y_{t+k+1}-w_{t+k+2})\\right]f(y_{t+1}|y_{t})dy_{t+1}$$\n",
        "\n",
        "$$V(w_{t},y_{t})=\\max_{w_{t+1}}u(Rw_{t}+y_{t}-w_{t+1})+\\beta ∫_{y_{t+1}}V(w_{t+1},y_{t+1})f(y_{t+1}|y_{t})dy_{t+1}$$\n",
        "\n",
        "Finally, **by definition**, we have that\n",
        "\n",
        "$$V(w,y)=\\max_{w'}u(Rw+y-w')+\\beta E_{t}V(w',y')$$\n",
        "\n",
        "which represents the **Bellman equation** for the stochastic dynamic programin problem of the optimal investment problem."
      ],
      "metadata": {
        "id": "NyJoW-imz_sm"
      }
    },
    {
      "cell_type": "markdown",
      "source": [
        "Once we define the model we introduce the functions needed to define the default value of the model parameter.\n",
        "\n",
        "Additional to this functions, we suppose that the set $Y$ is discrete, such that the Bellman equation can be written as\n",
        "\n",
        "$$V(w,y)=\\max_{w'}u(Rw+y-w')+\\beta \\sum_{y'\\in Y}V(w',y')Q(y,y')$$\n",
        "\n",
        "where $Q(y,y')$ represents the transition matrix, and that the utility function can be described as\n",
        "\n",
        "$$u(c)=\\frac{c^{1+\\gamma}}{1+\\gamma}$$"
      ],
      "metadata": {
        "id": "9hoPu4SkK6jm"
      }
    },
    {
      "cell_type": "code",
      "source": [
        "Model = namedtuple('Model', ('beta',    # Discount factor\n",
        "                             'R',       # Gross interest rate\n",
        "                             'gamma',   # CRRA parameter\n",
        "                             'w_grid',  # Wealth grid\n",
        "                             'y_grid',  # Labor income grid\n",
        "                             'Q'))      # Labor income transition matrix"
      ],
      "metadata": {
        "id": "6kdtw7O-pSyT"
      },
      "execution_count": 7,
      "outputs": []
    },
    {
      "cell_type": "code",
      "source": [
        "def create_consumption_model(R=1.01,         # Gross interest rate\n",
        "                             beta=0.98,      # Discount factor\n",
        "                             gamma=2.5,      # CRRA parameter\n",
        "                             w_min=0.01,     # Min wealth\n",
        "                             w_max=5.0,      # Max wealth\n",
        "                             w_size=150,     # Size of the wealth grid\n",
        "                             rho=0.9, nu=0.1,   # Income parameters\n",
        "                             y_size=100):    # Size of the income grid\n",
        "\n",
        "    w_grid = np.linspace(w_min, w_max, w_size)  # Create the wealth grid\n",
        "    mc = qe.tauchen(rho, nu, n=y_size)          # 'qe.tauchen' computes a Markov chain associated with a discretized version of the linear Gaussian AR(1) process\n",
        "                                                #    - rho is the autocorrelation coefficient\n",
        "                                                #    - nu is the standard deviation of the random process\n",
        "    y_grid, Q = np.exp(mc.state_values), mc.P   # - 'y_grid' is the grid of transformed income values\n",
        "                                                # - 'Q' is the transition matrix describing transition probabilities between discrete income values ​​in the stochastic process\n",
        "\n",
        "    return Model(beta=beta, R=R, gamma=gamma, w_grid=w_grid, y_grid=y_grid, Q=Q)"
      ],
      "metadata": {
        "id": "pUSePoYgqEla"
      },
      "execution_count": 8,
      "outputs": []
    },
    {
      "cell_type": "markdown",
      "source": [
        "Here's the RHS of the unmaximized Bellman equation"
      ],
      "metadata": {
        "id": "By8lleXRMJC7"
      }
    },
    {
      "cell_type": "code",
      "source": [
        "@njit\n",
        "def B(i, j, ip, v, model):\n",
        "\n",
        "    β, R, γ, w_grid, y_grid, Q = model          # Unpacked model parameters\n",
        "    w, y, wp = w_grid[i], y_grid[j], w_grid[ip] # We use:\n",
        "                                                #  - index i for access the value of current wealth within the wealth grid\n",
        "                                                #  - index j for access the value of income within the income grid\n",
        "                                                #  - index ip foe acces the value of next period wealth within the wealth grid\n",
        "    c = R * w + y - wp\n",
        "    if c > 0:\n",
        "        return c**(1 - γ) / (1 - γ) + β * np.dot(v[ip, :], Q[j, :])\n",
        "    return - np.inf"
      ],
      "metadata": {
        "id": "1nSHbiZ-tE_z"
      },
      "execution_count": 10,
      "outputs": []
    },
    {
      "cell_type": "markdown",
      "source": [
        "In order to solve this model, we have to prove that it satisfies the **Blackwell sufficiency conditions**.\n",
        "\n",
        "### **1. Monotonicity**\n",
        "Let $V,W$ two different functions that satisfy that $V(w,y)≤W(w,y)\n",
        "$ $∀w,y$. If we name $w',y'$ the wealth and the labor income shock of the next period then...\n",
        "\n",
        "$$V(w',y')≤W(w',y'),  ∀w',y'$$\n",
        "\n",
        "If we multiply both sides of the inequality by the transition probability matrix, then...\n",
        "\n",
        "$$V(w',y')Q(y,y')≤W(w',y')Q(y,y'),  ∀w',y'$$\n",
        "\n",
        "The inequality also holds for the expected value of value functions, such that...\n",
        "\n",
        "$$\\sum_{y'}V(w',y')Q(y,y')≤\\sum_{y'}W(w',y')Q(y,y')$$\n",
        "$$β\\sum_{y'}V(w',y')Q(y,y')≤β\\sum_{y'}W(w',y')Q(y,y')$$\n",
        "\n",
        "Finally we add both sides the maximization of the current utility given a particular level of current wealth and income shock, such that...\n",
        "\n",
        "$$\\max_{w'}u(w,y,w')+β\\sum_{y'}V(w',y')Q(y,y')≤\\max_{w'}u(w,y,w')+β\\sum_{y'}W(w',y')Q(y,y')$$\n",
        "\n",
        "Therefore, $T(V(w,y))≤T(W(w,y)), ∀w,y$, which means that the transformation **satisifes monotonicity**.\n",
        "\n",
        "### **2. Discounting**\n",
        "Let's consider a value function $V$ and a positive constant $a$, such that...\n",
        "\n",
        "$$T(V(w,y)+a)=\\max_{w'}u(w,y,w')+β∑_{y'}(V(w',y')+a)Q(y,y')$$\n",
        "\n",
        "\n",
        "\n",
        "$$T(V(w,y)+a)=\\max_{w'}u(w,y,w')+β∑_{y'}(V(w',y'))Q(y,y')+β∑_{y'}aQ(y,y')$$\n",
        "\n",
        "\n",
        "\n",
        "$$T(V(w,y)+a)=\\max_{w'}u(w,y,w')+β∑_{y'}(V(w',y'))Q(y,y')+aβ∑_{y'}Q(y,y')$$\n",
        "\n",
        "it is fulfilled that $∑_{y'}Q(y,y')=1$, such that...\n",
        "\n",
        "$$T(V(w,y)+a)=\\max_{w'}u(w,y,w')+β∑_{y'}(V(w',y'))Q(y,y')+aβ$$\n",
        "\n",
        "\n",
        "\n",
        "$$T(V(w,y)+a)=T(V(w,y))+aβ$$\n",
        "\n",
        "Therefore, $T(V(w,y)+a)≤T(V(w,y))+aβ$, which means that the transformation satisfies discounting.\n"
      ],
      "metadata": {
        "id": "mFcpEli4MstQ"
      }
    },
    {
      "cell_type": "markdown",
      "source": [
        "Since we already know that the model satisfies the Blackwell sufficiency conditions, then we are now sure that **there is a solution and that it is unique**.\n",
        "\n",
        "Unlike previous notebooks, we will now solve the model with **three different algorithms**:\n",
        "\n",
        "\n",
        "*   Value Function Iteration (VFI).\n",
        "*   Howard Policy Iteration (HPI).\n",
        "*   Optimistic Policy Iteration (OPI).\n",
        "\n"
      ],
      "metadata": {
        "id": "EPLI3NNUN1kF"
      }
    },
    {
      "cell_type": "markdown",
      "source": [
        "In order to be able to use this algorithms, we have to define the policy operator $T_{\\sigma}$, the Bellman operator $T$ and the $v-$greedy policy given $v$."
      ],
      "metadata": {
        "id": "DYBrVPlMMUdx"
      }
    },
    {
      "cell_type": "code",
      "source": [
        "# POLICY OPERATOR\n",
        "\n",
        "@njit(parallel=True)          # It is compiled with numba and the inner loop can be parallelized with multiple CPU cores\n",
        "def T_sigma(v, sigma, model):\n",
        "\n",
        "    w_size, y_size = len(model.w_grid), len(model.y_grid) # Obtain the size of the wealth and income grids\n",
        "    v_new = np.empty_like(v)                              # Initialize a value fuction of the size of the 'v' array\n",
        "\n",
        "    for i in prange(w_size):                              # Iterates through the i indices of the wealth grid\n",
        "                                                          # 'prange(w_size)' indicates that the loop can be paralelized\n",
        "        for j in range(y_size):                           # Iterates through the j indices of the income grid\n",
        "            v_new[i, j] = B(i, j, sigma[i, j], v, model)  # It gets the value of each possible combination of wealth and income\n",
        "                                                          # Notiche that:\n",
        "                                                          #   - i is the index of current wealth\n",
        "                                                          #   - j is the index of the current income\n",
        "                                                          #   - 'sigma[i, j]' is the next period wealth given the indices of current wealth and income\n",
        "    return v_new"
      ],
      "metadata": {
        "id": "RKJKTZ4aPuTx"
      },
      "execution_count": 13,
      "outputs": []
    },
    {
      "cell_type": "code",
      "source": [
        "# BELLMAN OPERATOR\n",
        "\n",
        "@njit(parallel=True)\n",
        "def T(v, model):\n",
        "\n",
        "    β, R, γ, w_grid, y_grid, Q = model\n",
        "    w_size, y_size = len(w_grid), len(y_grid)\n",
        "    v_new = np.empty_like(v)\n",
        "\n",
        "    for i in prange(w_size):\n",
        "        for j in range(y_size):\n",
        "            v_new[i, j] = max([B(i, j, ip, v, model) for ip in range(w_size)])  # It gets the value of each possible combination of wealth and income\n",
        "                                                                                # Notiche that:\n",
        "                                                                                #   - i is the index of current wealth\n",
        "                                                                                #   - j is the index of the current income\n",
        "                                                                                #   - ip is the next period wealth\n",
        "    return v_new"
      ],
      "metadata": {
        "id": "YKvCX2LUR3Xd"
      },
      "execution_count": 14,
      "outputs": []
    },
    {
      "cell_type": "code",
      "source": [
        "# V-GREEDY POLICY GIVEN V\n",
        "\n",
        "@njit(parallel=True)\n",
        "def get_greedy(v, model):\n",
        "\n",
        "    β, R, γ, w_grid, y_grid, Q = model\n",
        "    w_size, y_size = len(w_grid), len(y_grid)\n",
        "    σ = np.empty_like(v, dtype=int32)\n",
        "\n",
        "    for i in prange(w_size):\n",
        "        for j in range(y_size):\n",
        "            σ[i, j] = argmax([B(i, j, ip, v, model) for ip in range(w_size)]) #   For each pair (i,j), se obtain the index ip that maximize\n",
        "                                                                              # the Bellman equation.\n",
        "    return σ"
      ],
      "metadata": {
        "id": "Yq6luUUmSihy"
      },
      "execution_count": 16,
      "outputs": []
    },
    {
      "cell_type": "markdown",
      "source": [
        "The function below computes the value $v_{\\sigma}$ of following a policy $\\sigma$.\n",
        "\n",
        "In order to compute the value of a policy, we have to solve the linear system\n",
        "\n",
        "$$v(w,y)=u(Rw+y-\\sigma(w,y))+β\\sum_{y'}v(\\sigma(w,y),y')Q(y',y)$$\n",
        "\n",
        "for $v$.\n",
        "\n",
        "Therefore, it turns out helpul to rewrite this system as\n",
        "\n",
        "$$v(w,y)=r(w,y,\\sigma(w,y))+β\\sum_{w',y'}v(w',y')P_{\\sigma}(w,y,w',y')$$\n",
        "\n",
        "where $P_{\\sigma}(w,y,w',y')=1\\left\\{w'=\\sigma(w,y)\\right\\}Q(y',y)$\n",
        "\n",
        "Thus the linear system can be simplied as\n",
        "\n",
        "$$v=r_{\\sigma}+P_{\\sigma}Q(y,y')$$\n",
        "\n",
        "and the solve for $v$.\n",
        "\n",
        "Notice that:\n",
        "\n",
        "*   $v$ is a $2$ index array.\n",
        "*   $P_{\\sigma}$ is a $4$ index array.\n",
        "\n",
        "Then, the code below:\n",
        "\n",
        "1.   Reshapes $v$ and $r_{\\sigma}$ to 1D arrays and $P_{\\sigma}$ to a matrix.\n",
        "2.   Solves the linear system.\n",
        "3.   Converts back to multi-index arrays.\n",
        "\n",
        "\n",
        "\n"
      ],
      "metadata": {
        "id": "oAgl37ZxTaTd"
      }
    },
    {
      "cell_type": "code",
      "source": [
        "# GET THE VALUE V_SIGMA OF POLICY SIGMA\n",
        "\n",
        "@njit(parallel=True)\n",
        "def get_value(sigma, model):\n",
        "\n",
        "    # Unpack and set up\n",
        "    beta, R, gamma, w_grid, y_grid, Q = model\n",
        "    nw, ny = len(w_grid), len(y_grid)\n",
        "    n = nw * ny\n",
        "\n",
        "    # Allocate and create multi-index versions of P_σ and r_σ\n",
        "    P_sigma = np.zeros((nw, ny, nw, ny))\n",
        "    r_sigma = np.zeros((nw, ny))\n",
        "    for i in range(nw):\n",
        "        for j in range(ny):\n",
        "            w, y, wp = w_grid[i], y_grid[j], w_grid[sigma[i, j]]\n",
        "            c = R * w + y - wp\n",
        "            r_sigma[i, j] = c**(1 - gamma) / (1 - gamma)\n",
        "            for ip in range(nw):\n",
        "                for jp in range(ny):\n",
        "                    if ip == sigma[i, j]:\n",
        "                        P_sigma[i, j, ip, jp] = Q[j, jp]\n",
        "\n",
        "    # Reshape to standard matrix algebra form\n",
        "    r_sigma = r_sigma.reshape((n,))\n",
        "    P_sigma = P_sigma.reshape((n, n))\n",
        "\n",
        "    # Solve for the value of σ\n",
        "    I = np.identity(n)\n",
        "    v_σ = np.linalg.solve(I - beta * P_sigma, r_sigma)\n",
        "\n",
        "    # Return as multi-index array\n",
        "    return np.reshape(v_σ, (nw, ny))"
      ],
      "metadata": {
        "id": "VTEZuPJOVS8t"
      },
      "execution_count": 17,
      "outputs": []
    }
  ]
}