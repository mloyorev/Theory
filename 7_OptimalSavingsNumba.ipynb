{
  "nbformat": 4,
  "nbformat_minor": 0,
  "metadata": {
    "colab": {
      "provenance": [],
      "authorship_tag": "ABX9TyMahUnsYFJr4QLCnxJItKa9",
      "include_colab_link": true
    },
    "kernelspec": {
      "name": "python3",
      "display_name": "Python 3"
    },
    "language_info": {
      "name": "python"
    }
  },
  "cells": [
    {
      "cell_type": "markdown",
      "metadata": {
        "id": "view-in-github",
        "colab_type": "text"
      },
      "source": [
        "<a href=\"https://colab.research.google.com/github/mloyorev/Theory/blob/main/7_OptimalSavingsNumba.ipynb\" target=\"_parent\"><img src=\"https://colab.research.google.com/assets/colab-badge.svg\" alt=\"Open In Colab\"/></a>"
      ]
    },
    {
      "cell_type": "code",
      "source": [
        "!pip install quantecon"
      ],
      "metadata": {
        "colab": {
          "base_uri": "https://localhost:8080/"
        },
        "id": "huMcySHXpBww",
        "outputId": "c82f79ec-1501-4f0b-b582-65c74a5ab93b"
      },
      "execution_count": 2,
      "outputs": [
        {
          "output_type": "stream",
          "name": "stdout",
          "text": [
            "Collecting quantecon\n",
            "  Downloading quantecon-0.7.1-py3-none-any.whl (214 kB)\n",
            "\u001b[2K     \u001b[90m━━━━━━━━━━━━━━━━━━━━━━━━━━━━━━━━━━━━━━━━\u001b[0m \u001b[32m214.8/214.8 kB\u001b[0m \u001b[31m2.1 MB/s\u001b[0m eta \u001b[36m0:00:00\u001b[0m\n",
            "\u001b[?25hRequirement already satisfied: numba>=0.49.0 in /usr/local/lib/python3.10/dist-packages (from quantecon) (0.58.1)\n",
            "Requirement already satisfied: numpy>=1.17.0 in /usr/local/lib/python3.10/dist-packages (from quantecon) (1.23.5)\n",
            "Requirement already satisfied: requests in /usr/local/lib/python3.10/dist-packages (from quantecon) (2.31.0)\n",
            "Requirement already satisfied: scipy>=1.5.0 in /usr/local/lib/python3.10/dist-packages (from quantecon) (1.11.4)\n",
            "Requirement already satisfied: sympy in /usr/local/lib/python3.10/dist-packages (from quantecon) (1.12)\n",
            "Requirement already satisfied: llvmlite<0.42,>=0.41.0dev0 in /usr/local/lib/python3.10/dist-packages (from numba>=0.49.0->quantecon) (0.41.1)\n",
            "Requirement already satisfied: charset-normalizer<4,>=2 in /usr/local/lib/python3.10/dist-packages (from requests->quantecon) (3.3.2)\n",
            "Requirement already satisfied: idna<4,>=2.5 in /usr/local/lib/python3.10/dist-packages (from requests->quantecon) (3.6)\n",
            "Requirement already satisfied: urllib3<3,>=1.21.1 in /usr/local/lib/python3.10/dist-packages (from requests->quantecon) (2.0.7)\n",
            "Requirement already satisfied: certifi>=2017.4.17 in /usr/local/lib/python3.10/dist-packages (from requests->quantecon) (2023.11.17)\n",
            "Requirement already satisfied: mpmath>=0.19 in /usr/local/lib/python3.10/dist-packages (from sympy->quantecon) (1.3.0)\n",
            "Installing collected packages: quantecon\n",
            "Successfully installed quantecon-0.7.1\n"
          ]
        }
      ]
    },
    {
      "cell_type": "code",
      "execution_count": 3,
      "metadata": {
        "id": "nb1-lA66onao"
      },
      "outputs": [],
      "source": [
        "from collections import namedtuple\n",
        "import numpy as np\n",
        "import quantecon as qe\n",
        "from numba import njit, prange, int32\n",
        "import matplotlib.pyplot as plt"
      ]
    },
    {
      "cell_type": "markdown",
      "source": [
        "Once **again** we use the functions:\n",
        "\n",
        "\n",
        "*   argmax\n",
        "*   succesive_approx\n",
        "\n"
      ],
      "metadata": {
        "id": "lVFvFLz5z2zz"
      }
    },
    {
      "cell_type": "code",
      "source": [
        "@njit\n",
        "def argmax(list_object):\n",
        "    max_val = -np.inf\n",
        "    argmax_index = None\n",
        "    for i, x in enumerate(list_object):\n",
        "        if x > max_val:\n",
        "            max_val = x\n",
        "            argmax_index = i\n",
        "    return argmax_index"
      ],
      "metadata": {
        "id": "O3abe5bDpMTN"
      },
      "execution_count": 4,
      "outputs": []
    },
    {
      "cell_type": "code",
      "source": [
        "def successive_approx(T,\n",
        "                      x_0,\n",
        "                      tolerance=1e-6,\n",
        "                      max_iter=10_000,\n",
        "                      print_step=25,\n",
        "                      verbose=False):\n",
        "    x = x_0\n",
        "    error = tolerance + 1\n",
        "    k = 1\n",
        "    while error > tolerance and k <= max_iter:\n",
        "        x_new = T(x)\n",
        "        error = np.max(np.abs(x_new - x))\n",
        "        if verbose and k % print_step == 0:\n",
        "            print(f\"Completed iteration {k} with error {error}.\")\n",
        "        x = x_new\n",
        "        k += 1\n",
        "    if error > tolerance:\n",
        "        print(f\"Warning: Iteration hit upper bound {max_iter}.\")\n",
        "    elif verbose:\n",
        "        print(f\"Terminated successfully in {k} iterations.\")\n",
        "    return x\n"
      ],
      "metadata": {
        "id": "o08LkhjkpRb_"
      },
      "execution_count": 5,
      "outputs": []
    },
    {
      "cell_type": "markdown",
      "source": [
        "# **Optimal savings model**\n",
        "\n",
        "We assume that **wealth $W_{t}$ evolves** according to\n",
        "\n",
        "$$C_{t}+W_{t+1}≤RW_{t}+Y_{t}$$\n",
        "\n",
        "where $R$ is the gross interest rate, $Y_{t}$ is the labor income and:\n",
        "\n",
        "\n",
        "*   $(W_{t})$ takes values in a finite set $W$ contained in the set $\\mathbb{R}_{+}$\n",
        "*   $(Y_{t})$ is a **$Q$-Markov chain** on a finite and continuous set $Y$.\n",
        "*   $C_{t}\\geq 0$ for all $t$.\n",
        "\n",
        "The individual **aims to maximize the present value** of his utility function. Additionally, we suppose that the individual perceive utility from consumption. This means that the consumer's maximization problem is\n",
        "\n",
        "$$V(w_{t},y_{t})=\\max_{\\left\\{w_{t+\\tau+1}\\right\\}}E_{t}\\sum_{\\tau=0}^{\\infty}\\beta^{\\tau}u(c_{t})=\\max_{\\left\\{w_{t+\\tau+1}\\right\\}}E_{t}\\sum_{\\tau=0}^{\\infty}\\beta^{\\tau}u(Rw_{t}+y_{t}-w_{t+\\tau+1})$$\n",
        "\n",
        "Since $E_{t}u(Rw_{t}+y_{t}-w_{t+1})=u(Rw_{t}+y_{t}-w_{t+1})$, this equation can be also expressed as\n",
        "\n",
        "$$V(w_{t},y_{t})=\\max_{w_{t+1}}u(Rw_{t}+y_{t}-w_{t+1})+\\max_{\\left\\{w_{t+\\tau+1}\\right\\}}E_{t}\\sum_{\\tau=1}^{\\infty}\\beta^{\\tau}u(Rw_{t+\\tau}+y_{t+\\tau}-w_{t+\\tau+1})$$\n",
        "\n",
        "By making the substitution $\\tau=k+1$, we obtain that\n",
        "\n",
        "$$V(w_{t},y_{t})=\\max_{w_{t+1}}u(Rw_{t}+y_{t}-w_{t+1})+\\max_{\\left\\{w_{t+k+2}\\right\\}}E_{t}\\sum_{k=0}^{\\infty}\\beta^{k+1}u(Rw_{t+k+1}+y_{t+k+1}-w_{t+k+2})$$\n",
        "\n",
        "$$V(w_{t},y_{t})=\\max_{w_{t+1}}u(Rw_{t}+y_{t}-w_{t+1})+\\max_{\\left\\{w_{t+k+2}\\right\\}}\\beta E_{t}\\sum_{k=0}^{\\infty}\\beta^{k}u(Rw_{t+k+1}+y_{t+k+1}-w_{t+k+2})$$\n",
        "\n",
        "\n"
      ],
      "metadata": {
        "id": "NyJoW-imz_sm"
      }
    },
    {
      "cell_type": "code",
      "source": [
        "Model = namedtuple('Model', ('beta',    # Discount factor\n",
        "                             'R',       # Gross interest rate\n",
        "                             'gamma',   # CRRA parameter\n",
        "                             'w_grid',  # Wealth grid\n",
        "                             'y_grid',  # Labor income grid\n",
        "                             'Q'))      # Labor income transition matrix"
      ],
      "metadata": {
        "id": "6kdtw7O-pSyT"
      },
      "execution_count": 7,
      "outputs": []
    },
    {
      "cell_type": "code",
      "source": [
        "def create_consumption_model(R=1.01,         # Gross interest rate\n",
        "                             beta=0.98,      # Discount factor\n",
        "                             gamma=2.5,      # CRRA parameter\n",
        "                             w_min=0.01,     # Min wealth\n",
        "                             w_max=5.0,      # Max wealth\n",
        "                             w_size=150,     # Size of the wealth grid\n",
        "                             rho=0.9, nu=0.1,   # Income parameters\n",
        "                             y_size=100):    # Size of the income grid\n",
        "\n",
        "    w_grid = np.linspace(w_min, w_max, w_size)  # Create the wealth grid\n",
        "    mc = qe.tauchen(rho, nu, n=y_size)          # 'qe.tauchen' computes a Markov chain associated with a discretized version of the linear Gaussian AR(1) process\n",
        "                                                #    - rho is the autocorrelation coefficient\n",
        "                                                #    - nu is the standard deviation of the random process\n",
        "    y_grid, Q = np.exp(mc.state_values), mc.P   # - 'y_grid' is the grid of transformed income values\n",
        "                                                # - 'Q' is the transition matrix describing transition probabilities between discrete income values ​​in the stochastic process\n",
        "\n",
        "    return Model(beta=beta, R=R, gamma=gamma, w_grid=w_grid, y_grid=y_grid, Q=Q)"
      ],
      "metadata": {
        "id": "pUSePoYgqEla"
      },
      "execution_count": 8,
      "outputs": []
    },
    {
      "cell_type": "code",
      "source": [
        "@njit\n",
        "def B(i, j, ip, v, model):\n",
        "\n",
        "    β, R, γ, w_grid, y_grid, Q = model          # Unpacked model parameters\n",
        "    w, y, wp = w_grid[i], y_grid[j], w_grid[ip] # We use:\n",
        "                                                #  - index i for access the value of current wealth within the wealth grid\n",
        "                                                #  - index j for access the value of income within the income grid\n",
        "                                                #  - index ip foe acces the value of next period wealth within the wealth grid\n",
        "    c = R * w + y - wp\n",
        "    if c > 0:\n",
        "        return c**(1 - γ) / (1 - γ) + β * np.dot(v[ip, :], Q[j, :])\n",
        "    return - np.inf"
      ],
      "metadata": {
        "id": "1nSHbiZ-tE_z"
      },
      "execution_count": 10,
      "outputs": []
    }
  ]
}